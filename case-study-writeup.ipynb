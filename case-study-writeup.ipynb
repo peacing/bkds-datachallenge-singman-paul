{
 "cells": [
  {
   "cell_type": "markdown",
   "metadata": {},
   "source": [
    "## Overview: Property prediction model from scraped airbnb data\n",
    "\n",
    "* combine data sets from 3 cities with feature column 'city'\n",
    "* Make baseline model by predicting the city's average and calculating RMSE\n",
    "* Improve baseline by adding features to linear regression model and calculate improvement\n",
    "* calculate RMSE of model over different sizes of training examples to see improvement"
   ]
  },
  {
   "cell_type": "code",
   "execution_count": 1,
   "metadata": {
    "collapsed": true
   },
   "outputs": [],
   "source": [
    "# standard imports\n",
    "import numpy as np\n",
    "import pandas as pd\n",
    "import matplotlib.pyplot as plt\n",
    "%matplotlib inline"
   ]
  },
  {
   "cell_type": "code",
   "execution_count": 2,
   "metadata": {
    "collapsed": true
   },
   "outputs": [],
   "source": [
    "def load_df(df_file):\n",
    "    basepath = 'data/'\n",
    "    filepath = basepath + df_file\n",
    "    load_df = pd.DataFrame.from_csv(filepath)\n",
    "    return load_df"
   ]
  },
  {
   "cell_type": "code",
   "execution_count": 3,
   "metadata": {
    "collapsed": true
   },
   "outputs": [],
   "source": [
    "# load the processed datasets (from case-study-explore)\n",
    "ny_df = load_df('processed_ny_df.csv')\n",
    "la_df = load_df('processed_la_df.csv')\n",
    "sf_df = load_df('processed_sf_df.csv')"
   ]
  },
  {
   "cell_type": "code",
   "execution_count": 4,
   "metadata": {
    "collapsed": false
   },
   "outputs": [
    {
     "data": {
      "text/html": [
       "<div>\n",
       "<table border=\"1\" class=\"dataframe\">\n",
       "  <thead>\n",
       "    <tr style=\"text-align: right;\">\n",
       "      <th></th>\n",
       "      <th>Bedrooms</th>\n",
       "      <th>Capacity</th>\n",
       "      <th>Id</th>\n",
       "      <th>Price</th>\n",
       "      <th>Property_Type</th>\n",
       "      <th>Review_Count</th>\n",
       "      <th>Room_Type</th>\n",
       "      <th>Star_Rating</th>\n",
       "    </tr>\n",
       "  </thead>\n",
       "  <tbody>\n",
       "    <tr>\n",
       "      <th>0</th>\n",
       "      <td>1</td>\n",
       "      <td>2</td>\n",
       "      <td>6882689</td>\n",
       "      <td>198</td>\n",
       "      <td>Apartment</td>\n",
       "      <td>17</td>\n",
       "      <td>2</td>\n",
       "      <td>5</td>\n",
       "    </tr>\n",
       "    <tr>\n",
       "      <th>1</th>\n",
       "      <td>2</td>\n",
       "      <td>7</td>\n",
       "      <td>12022627</td>\n",
       "      <td>2200</td>\n",
       "      <td>Apartment</td>\n",
       "      <td>0</td>\n",
       "      <td>2</td>\n",
       "      <td>0</td>\n",
       "    </tr>\n",
       "    <tr>\n",
       "      <th>2</th>\n",
       "      <td>1</td>\n",
       "      <td>2</td>\n",
       "      <td>8940740</td>\n",
       "      <td>149</td>\n",
       "      <td>Apartment</td>\n",
       "      <td>6</td>\n",
       "      <td>2</td>\n",
       "      <td>5</td>\n",
       "    </tr>\n",
       "    <tr>\n",
       "      <th>3</th>\n",
       "      <td>1</td>\n",
       "      <td>4</td>\n",
       "      <td>12035970</td>\n",
       "      <td>55</td>\n",
       "      <td>Apartment</td>\n",
       "      <td>0</td>\n",
       "      <td>2</td>\n",
       "      <td>0</td>\n",
       "    </tr>\n",
       "    <tr>\n",
       "      <th>4</th>\n",
       "      <td>1</td>\n",
       "      <td>2</td>\n",
       "      <td>11642165</td>\n",
       "      <td>65</td>\n",
       "      <td>Apartment</td>\n",
       "      <td>3</td>\n",
       "      <td>1</td>\n",
       "      <td>5</td>\n",
       "    </tr>\n",
       "  </tbody>\n",
       "</table>\n",
       "</div>"
      ],
      "text/plain": [
       "   Bedrooms  Capacity        Id  Price Property_Type  Review_Count  Room_Type  \\\n",
       "0         1         2   6882689    198     Apartment            17          2   \n",
       "1         2         7  12022627   2200     Apartment             0          2   \n",
       "2         1         2   8940740    149     Apartment             6          2   \n",
       "3         1         4  12035970     55     Apartment             0          2   \n",
       "4         1         2  11642165     65     Apartment             3          1   \n",
       "\n",
       "   Star_Rating  \n",
       "0            5  \n",
       "1            0  \n",
       "2            5  \n",
       "3            0  \n",
       "4            5  "
      ]
     },
     "execution_count": 4,
     "metadata": {},
     "output_type": "execute_result"
    }
   ],
   "source": [
    "ny_df.head()"
   ]
  },
  {
   "cell_type": "code",
   "execution_count": 76,
   "metadata": {
    "collapsed": true
   },
   "outputs": [],
   "source": [
    "def preprocess_data(df):\n",
    "    \"\"\"Take in df and map/dummify object columns\"\"\"\n",
    "\n",
    "    # process non-numeric data types\n",
    "    df['Room_Type'] = df.Room_Type.map({'Shared room':0,'Private room':1, 'Entire home/apt':2})\n",
    "\n",
    "    # get_dummies for Property_Type, initially was going to do, but not enough non-Apartments\n",
    "    #temp_df pd.get_dummies(df.Property_Type, prefix='Ptype')  # e.g. 'Property_Type' => 'Ptype_Apartment'\n",
    "    #df = pd.concat([df, temp_df])\n",
    "\n",
    "    return df "
   ]
  },
  {
   "cell_type": "code",
   "execution_count": 77,
   "metadata": {
    "collapsed": true
   },
   "outputs": [],
   "source": [
    "sf_df = preprocess_data(sf_df)"
   ]
  },
  {
   "cell_type": "code",
   "execution_count": 18,
   "metadata": {
    "collapsed": false
   },
   "outputs": [
    {
     "data": {
      "text/plain": [
       "Star_Rating\n",
       "0.0    125.722892\n",
       "4.0     66.500000\n",
       "4.5     93.458824\n",
       "5.0     99.825758\n",
       "Name: Price, dtype: float64"
      ]
     },
     "execution_count": 18,
     "metadata": {},
     "output_type": "execute_result"
    }
   ],
   "source": [
    "gb = ny_df.groupby('Star_Rating').Price.mean()\n",
    "gb"
   ]
  },
  {
   "cell_type": "code",
   "execution_count": 20,
   "metadata": {
    "collapsed": false
   },
   "outputs": [
    {
     "data": {
      "text/plain": [
       "Capacity\n",
       "1      58.303571\n",
       "2      94.967033\n",
       "3     138.827586\n",
       "4     130.848485\n",
       "5     102.000000\n",
       "6     135.000000\n",
       "7    2200.000000\n",
       "8     245.000000\n",
       "Name: Price, dtype: float64"
      ]
     },
     "execution_count": 20,
     "metadata": {},
     "output_type": "execute_result"
    }
   ],
   "source": [
    "gb2 = ny_df.groupby('Capacity').Price.mean()\n",
    "gb2"
   ]
  },
  {
   "cell_type": "code",
   "execution_count": 22,
   "metadata": {
    "collapsed": false
   },
   "outputs": [
    {
     "data": {
      "text/plain": [
       "Room_Type\n",
       "0     49.333333\n",
       "1     70.538462\n",
       "2    143.437500\n",
       "Name: Price, dtype: float64"
      ]
     },
     "execution_count": 22,
     "metadata": {},
     "output_type": "execute_result"
    }
   ],
   "source": [
    "gb3 = ny_df.groupby('Room_Type').Price.mean()\n",
    "gb3"
   ]
  },
  {
   "cell_type": "code",
   "execution_count": 65,
   "metadata": {
    "collapsed": false
   },
   "outputs": [
    {
     "data": {
      "text/plain": [
       "Bedrooms\n",
       "0    126.462963\n",
       "1     88.087866\n",
       "2    321.500000\n",
       "3    215.000000\n",
       "Name: Price, dtype: float64"
      ]
     },
     "execution_count": 65,
     "metadata": {},
     "output_type": "execute_result"
    }
   ],
   "source": [
    "gb4 = ny_df.groupby('Bedrooms').Price.mean()\n",
    "gb4"
   ]
  },
  {
   "cell_type": "code",
   "execution_count": 78,
   "metadata": {
    "collapsed": true
   },
   "outputs": [],
   "source": [
    "ny_df['City'] = 'NY'"
   ]
  },
  {
   "cell_type": "code",
   "execution_count": 24,
   "metadata": {
    "collapsed": false
   },
   "outputs": [
    {
     "data": {
      "text/html": [
       "<div>\n",
       "<table border=\"1\" class=\"dataframe\">\n",
       "  <thead>\n",
       "    <tr style=\"text-align: right;\">\n",
       "      <th></th>\n",
       "      <th>Bedrooms</th>\n",
       "      <th>Capacity</th>\n",
       "      <th>Id</th>\n",
       "      <th>Price</th>\n",
       "      <th>Property_Type</th>\n",
       "      <th>Review_Count</th>\n",
       "      <th>Room_Type</th>\n",
       "      <th>Star_Rating</th>\n",
       "      <th>City</th>\n",
       "    </tr>\n",
       "  </thead>\n",
       "  <tbody>\n",
       "    <tr>\n",
       "      <th>0</th>\n",
       "      <td>1</td>\n",
       "      <td>2</td>\n",
       "      <td>6882689</td>\n",
       "      <td>198</td>\n",
       "      <td>Apartment</td>\n",
       "      <td>17</td>\n",
       "      <td>2</td>\n",
       "      <td>5</td>\n",
       "      <td>NY</td>\n",
       "    </tr>\n",
       "    <tr>\n",
       "      <th>1</th>\n",
       "      <td>2</td>\n",
       "      <td>7</td>\n",
       "      <td>12022627</td>\n",
       "      <td>2200</td>\n",
       "      <td>Apartment</td>\n",
       "      <td>0</td>\n",
       "      <td>2</td>\n",
       "      <td>0</td>\n",
       "      <td>NY</td>\n",
       "    </tr>\n",
       "    <tr>\n",
       "      <th>2</th>\n",
       "      <td>1</td>\n",
       "      <td>2</td>\n",
       "      <td>8940740</td>\n",
       "      <td>149</td>\n",
       "      <td>Apartment</td>\n",
       "      <td>6</td>\n",
       "      <td>2</td>\n",
       "      <td>5</td>\n",
       "      <td>NY</td>\n",
       "    </tr>\n",
       "    <tr>\n",
       "      <th>3</th>\n",
       "      <td>1</td>\n",
       "      <td>4</td>\n",
       "      <td>12035970</td>\n",
       "      <td>55</td>\n",
       "      <td>Apartment</td>\n",
       "      <td>0</td>\n",
       "      <td>2</td>\n",
       "      <td>0</td>\n",
       "      <td>NY</td>\n",
       "    </tr>\n",
       "    <tr>\n",
       "      <th>4</th>\n",
       "      <td>1</td>\n",
       "      <td>2</td>\n",
       "      <td>11642165</td>\n",
       "      <td>65</td>\n",
       "      <td>Apartment</td>\n",
       "      <td>3</td>\n",
       "      <td>1</td>\n",
       "      <td>5</td>\n",
       "      <td>NY</td>\n",
       "    </tr>\n",
       "  </tbody>\n",
       "</table>\n",
       "</div>"
      ],
      "text/plain": [
       "   Bedrooms  Capacity        Id  Price Property_Type  Review_Count  Room_Type  \\\n",
       "0         1         2   6882689    198     Apartment            17          2   \n",
       "1         2         7  12022627   2200     Apartment             0          2   \n",
       "2         1         2   8940740    149     Apartment             6          2   \n",
       "3         1         4  12035970     55     Apartment             0          2   \n",
       "4         1         2  11642165     65     Apartment             3          1   \n",
       "\n",
       "   Star_Rating City  \n",
       "0            5   NY  \n",
       "1            0   NY  \n",
       "2            5   NY  \n",
       "3            0   NY  \n",
       "4            5   NY  "
      ]
     },
     "execution_count": 24,
     "metadata": {},
     "output_type": "execute_result"
    }
   ],
   "source": [
    "ny_df.head()"
   ]
  },
  {
   "cell_type": "code",
   "execution_count": 79,
   "metadata": {
    "collapsed": true
   },
   "outputs": [],
   "source": [
    "la_df['City'] = 'LA'\n",
    "sf_df['City'] = 'SF'"
   ]
  },
  {
   "cell_type": "code",
   "execution_count": 80,
   "metadata": {
    "collapsed": true
   },
   "outputs": [],
   "source": [
    "ny_df['Avg_Price'] = ny_df.Price.mean()"
   ]
  },
  {
   "cell_type": "code",
   "execution_count": 81,
   "metadata": {
    "collapsed": false
   },
   "outputs": [],
   "source": [
    "la_df['Avg_Price'] = la_df.Price.mean()\n",
    "sf_df['Avg_Price'] = sf_df.Price.mean()"
   ]
  },
  {
   "cell_type": "code",
   "execution_count": 82,
   "metadata": {
    "collapsed": false
   },
   "outputs": [],
   "source": [
    "def combine_dfs(df_list):\n",
    "    data_frame = None\n",
    "    for df in df_list:\n",
    "        if data_frame is None:\n",
    "            data_frame = df\n",
    "        else:\n",
    "            data_frame = data_frame.append(df)\n",
    "    return data_frame"
   ]
  },
  {
   "cell_type": "code",
   "execution_count": 83,
   "metadata": {
    "collapsed": false
   },
   "outputs": [],
   "source": [
    "df_list = [ny_df, la_df, sf_df]\n",
    "combined_df = combine_dfs(df_list)"
   ]
  },
  {
   "cell_type": "code",
   "execution_count": 49,
   "metadata": {
    "collapsed": false
   },
   "outputs": [
    {
     "data": {
      "text/html": [
       "<div>\n",
       "<table border=\"1\" class=\"dataframe\">\n",
       "  <thead>\n",
       "    <tr style=\"text-align: right;\">\n",
       "      <th></th>\n",
       "      <th>Bedrooms</th>\n",
       "      <th>Capacity</th>\n",
       "      <th>Id</th>\n",
       "      <th>Price</th>\n",
       "      <th>Property_Type</th>\n",
       "      <th>Review_Count</th>\n",
       "      <th>Room_Type</th>\n",
       "      <th>Star_Rating</th>\n",
       "      <th>City</th>\n",
       "      <th>Avg_Price</th>\n",
       "    </tr>\n",
       "  </thead>\n",
       "  <tbody>\n",
       "    <tr>\n",
       "      <th>0</th>\n",
       "      <td>1</td>\n",
       "      <td>2</td>\n",
       "      <td>6882689</td>\n",
       "      <td>198</td>\n",
       "      <td>Apartment</td>\n",
       "      <td>17</td>\n",
       "      <td>2</td>\n",
       "      <td>5</td>\n",
       "      <td>NY</td>\n",
       "      <td>104.428105</td>\n",
       "    </tr>\n",
       "    <tr>\n",
       "      <th>1</th>\n",
       "      <td>2</td>\n",
       "      <td>7</td>\n",
       "      <td>12022627</td>\n",
       "      <td>2200</td>\n",
       "      <td>Apartment</td>\n",
       "      <td>0</td>\n",
       "      <td>2</td>\n",
       "      <td>0</td>\n",
       "      <td>NY</td>\n",
       "      <td>104.428105</td>\n",
       "    </tr>\n",
       "    <tr>\n",
       "      <th>2</th>\n",
       "      <td>1</td>\n",
       "      <td>2</td>\n",
       "      <td>8940740</td>\n",
       "      <td>149</td>\n",
       "      <td>Apartment</td>\n",
       "      <td>6</td>\n",
       "      <td>2</td>\n",
       "      <td>5</td>\n",
       "      <td>NY</td>\n",
       "      <td>104.428105</td>\n",
       "    </tr>\n",
       "    <tr>\n",
       "      <th>3</th>\n",
       "      <td>1</td>\n",
       "      <td>4</td>\n",
       "      <td>12035970</td>\n",
       "      <td>55</td>\n",
       "      <td>Apartment</td>\n",
       "      <td>0</td>\n",
       "      <td>2</td>\n",
       "      <td>0</td>\n",
       "      <td>NY</td>\n",
       "      <td>104.428105</td>\n",
       "    </tr>\n",
       "    <tr>\n",
       "      <th>4</th>\n",
       "      <td>1</td>\n",
       "      <td>2</td>\n",
       "      <td>11642165</td>\n",
       "      <td>65</td>\n",
       "      <td>Apartment</td>\n",
       "      <td>3</td>\n",
       "      <td>1</td>\n",
       "      <td>5</td>\n",
       "      <td>NY</td>\n",
       "      <td>104.428105</td>\n",
       "    </tr>\n",
       "  </tbody>\n",
       "</table>\n",
       "</div>"
      ],
      "text/plain": [
       "   Bedrooms  Capacity        Id  Price Property_Type  Review_Count Room_Type  \\\n",
       "0         1         2   6882689    198     Apartment            17         2   \n",
       "1         2         7  12022627   2200     Apartment             0         2   \n",
       "2         1         2   8940740    149     Apartment             6         2   \n",
       "3         1         4  12035970     55     Apartment             0         2   \n",
       "4         1         2  11642165     65     Apartment             3         1   \n",
       "\n",
       "   Star_Rating City   Avg_Price  \n",
       "0            5   NY  104.428105  \n",
       "1            0   NY  104.428105  \n",
       "2            5   NY  104.428105  \n",
       "3            0   NY  104.428105  \n",
       "4            5   NY  104.428105  "
      ]
     },
     "execution_count": 49,
     "metadata": {},
     "output_type": "execute_result"
    }
   ],
   "source": [
    "combined_df.head()"
   ]
  },
  {
   "cell_type": "code",
   "execution_count": 84,
   "metadata": {
    "collapsed": false
   },
   "outputs": [],
   "source": [
    "# remove that outlier\n",
    "combined_df = combined_df[combined_df.Price<2000]"
   ]
  },
  {
   "cell_type": "code",
   "execution_count": 51,
   "metadata": {
    "collapsed": false
   },
   "outputs": [
    {
     "data": {
      "text/html": [
       "<div>\n",
       "<table border=\"1\" class=\"dataframe\">\n",
       "  <thead>\n",
       "    <tr style=\"text-align: right;\">\n",
       "      <th></th>\n",
       "      <th>Bedrooms</th>\n",
       "      <th>Capacity</th>\n",
       "      <th>Id</th>\n",
       "      <th>Price</th>\n",
       "      <th>Property_Type</th>\n",
       "      <th>Review_Count</th>\n",
       "      <th>Room_Type</th>\n",
       "      <th>Star_Rating</th>\n",
       "      <th>City</th>\n",
       "      <th>Avg_Price</th>\n",
       "    </tr>\n",
       "  </thead>\n",
       "  <tbody>\n",
       "    <tr>\n",
       "      <th>0</th>\n",
       "      <td>1</td>\n",
       "      <td>2</td>\n",
       "      <td>6882689</td>\n",
       "      <td>198</td>\n",
       "      <td>Apartment</td>\n",
       "      <td>17</td>\n",
       "      <td>2</td>\n",
       "      <td>5.0</td>\n",
       "      <td>NY</td>\n",
       "      <td>104.428105</td>\n",
       "    </tr>\n",
       "    <tr>\n",
       "      <th>2</th>\n",
       "      <td>1</td>\n",
       "      <td>2</td>\n",
       "      <td>8940740</td>\n",
       "      <td>149</td>\n",
       "      <td>Apartment</td>\n",
       "      <td>6</td>\n",
       "      <td>2</td>\n",
       "      <td>5.0</td>\n",
       "      <td>NY</td>\n",
       "      <td>104.428105</td>\n",
       "    </tr>\n",
       "    <tr>\n",
       "      <th>3</th>\n",
       "      <td>1</td>\n",
       "      <td>4</td>\n",
       "      <td>12035970</td>\n",
       "      <td>55</td>\n",
       "      <td>Apartment</td>\n",
       "      <td>0</td>\n",
       "      <td>2</td>\n",
       "      <td>0.0</td>\n",
       "      <td>NY</td>\n",
       "      <td>104.428105</td>\n",
       "    </tr>\n",
       "    <tr>\n",
       "      <th>4</th>\n",
       "      <td>1</td>\n",
       "      <td>2</td>\n",
       "      <td>11642165</td>\n",
       "      <td>65</td>\n",
       "      <td>Apartment</td>\n",
       "      <td>3</td>\n",
       "      <td>1</td>\n",
       "      <td>5.0</td>\n",
       "      <td>NY</td>\n",
       "      <td>104.428105</td>\n",
       "    </tr>\n",
       "    <tr>\n",
       "      <th>5</th>\n",
       "      <td>1</td>\n",
       "      <td>1</td>\n",
       "      <td>648047</td>\n",
       "      <td>61</td>\n",
       "      <td>Apartment</td>\n",
       "      <td>66</td>\n",
       "      <td>1</td>\n",
       "      <td>4.5</td>\n",
       "      <td>NY</td>\n",
       "      <td>104.428105</td>\n",
       "    </tr>\n",
       "  </tbody>\n",
       "</table>\n",
       "</div>"
      ],
      "text/plain": [
       "   Bedrooms  Capacity        Id  Price Property_Type  Review_Count Room_Type  \\\n",
       "0         1         2   6882689    198     Apartment            17         2   \n",
       "2         1         2   8940740    149     Apartment             6         2   \n",
       "3         1         4  12035970     55     Apartment             0         2   \n",
       "4         1         2  11642165     65     Apartment             3         1   \n",
       "5         1         1    648047     61     Apartment            66         1   \n",
       "\n",
       "   Star_Rating City   Avg_Price  \n",
       "0          5.0   NY  104.428105  \n",
       "2          5.0   NY  104.428105  \n",
       "3          0.0   NY  104.428105  \n",
       "4          5.0   NY  104.428105  \n",
       "5          4.5   NY  104.428105  "
      ]
     },
     "execution_count": 51,
     "metadata": {},
     "output_type": "execute_result"
    }
   ],
   "source": [
    "combined_df.head()"
   ]
  },
  {
   "cell_type": "markdown",
   "metadata": {},
   "source": [
    "# Baseline model where prediction = Average Price for a given city"
   ]
  },
  {
   "cell_type": "code",
   "execution_count": 58,
   "metadata": {
    "collapsed": true
   },
   "outputs": [],
   "source": [
    "from sklearn import metrics"
   ]
  },
  {
   "cell_type": "code",
   "execution_count": 56,
   "metadata": {
    "collapsed": true
   },
   "outputs": [],
   "source": [
    "base_predictions = np.log(combined_df.Avg_Price)"
   ]
  },
  {
   "cell_type": "code",
   "execution_count": 59,
   "metadata": {
    "collapsed": true
   },
   "outputs": [],
   "source": [
    "y = np.log(combined_df.Price)"
   ]
  },
  {
   "cell_type": "code",
   "execution_count": 60,
   "metadata": {
    "collapsed": false
   },
   "outputs": [],
   "source": [
    "error = y - base_predictions"
   ]
  },
  {
   "cell_type": "code",
   "execution_count": 94,
   "metadata": {
    "collapsed": false
   },
   "outputs": [
    {
     "data": {
      "text/plain": [
       "0.022980756866397445"
      ]
     },
     "execution_count": 94,
     "metadata": {},
     "output_type": "execute_result"
    }
   ],
   "source": [
    "base_r2 = metrics.r2_score(y, base_predictions)\n",
    "base_r2"
   ]
  },
  {
   "cell_type": "markdown",
   "metadata": {},
   "source": [
    "### Baseline r^2 is 0.02298, we will build linear regression model that beats this value."
   ]
  },
  {
   "cell_type": "code",
   "execution_count": 63,
   "metadata": {
    "collapsed": true
   },
   "outputs": [],
   "source": [
    "from sklearn.linear_model import Ridge\n",
    "from sklearn.cross_validation import train_test_split"
   ]
  },
  {
   "cell_type": "code",
   "execution_count": 85,
   "metadata": {
    "collapsed": false
   },
   "outputs": [
    {
     "data": {
      "text/html": [
       "<div>\n",
       "<table border=\"1\" class=\"dataframe\">\n",
       "  <thead>\n",
       "    <tr style=\"text-align: right;\">\n",
       "      <th></th>\n",
       "      <th>Bedrooms</th>\n",
       "      <th>Capacity</th>\n",
       "      <th>Id</th>\n",
       "      <th>Price</th>\n",
       "      <th>Property_Type</th>\n",
       "      <th>Review_Count</th>\n",
       "      <th>Room_Type</th>\n",
       "      <th>Star_Rating</th>\n",
       "      <th>City</th>\n",
       "      <th>Avg_Price</th>\n",
       "      <th>City_NY</th>\n",
       "      <th>City_SF</th>\n",
       "    </tr>\n",
       "  </thead>\n",
       "  <tbody>\n",
       "    <tr>\n",
       "      <th>0</th>\n",
       "      <td>1</td>\n",
       "      <td>2</td>\n",
       "      <td>6882689</td>\n",
       "      <td>198</td>\n",
       "      <td>Apartment</td>\n",
       "      <td>17</td>\n",
       "      <td>2</td>\n",
       "      <td>5.0</td>\n",
       "      <td>NY</td>\n",
       "      <td>104.428105</td>\n",
       "      <td>1</td>\n",
       "      <td>0</td>\n",
       "    </tr>\n",
       "    <tr>\n",
       "      <th>2</th>\n",
       "      <td>1</td>\n",
       "      <td>2</td>\n",
       "      <td>8940740</td>\n",
       "      <td>149</td>\n",
       "      <td>Apartment</td>\n",
       "      <td>6</td>\n",
       "      <td>2</td>\n",
       "      <td>5.0</td>\n",
       "      <td>NY</td>\n",
       "      <td>104.428105</td>\n",
       "      <td>1</td>\n",
       "      <td>0</td>\n",
       "    </tr>\n",
       "    <tr>\n",
       "      <th>3</th>\n",
       "      <td>1</td>\n",
       "      <td>4</td>\n",
       "      <td>12035970</td>\n",
       "      <td>55</td>\n",
       "      <td>Apartment</td>\n",
       "      <td>0</td>\n",
       "      <td>2</td>\n",
       "      <td>0.0</td>\n",
       "      <td>NY</td>\n",
       "      <td>104.428105</td>\n",
       "      <td>1</td>\n",
       "      <td>0</td>\n",
       "    </tr>\n",
       "    <tr>\n",
       "      <th>4</th>\n",
       "      <td>1</td>\n",
       "      <td>2</td>\n",
       "      <td>11642165</td>\n",
       "      <td>65</td>\n",
       "      <td>Apartment</td>\n",
       "      <td>3</td>\n",
       "      <td>1</td>\n",
       "      <td>5.0</td>\n",
       "      <td>NY</td>\n",
       "      <td>104.428105</td>\n",
       "      <td>1</td>\n",
       "      <td>0</td>\n",
       "    </tr>\n",
       "    <tr>\n",
       "      <th>5</th>\n",
       "      <td>1</td>\n",
       "      <td>1</td>\n",
       "      <td>648047</td>\n",
       "      <td>61</td>\n",
       "      <td>Apartment</td>\n",
       "      <td>66</td>\n",
       "      <td>1</td>\n",
       "      <td>4.5</td>\n",
       "      <td>NY</td>\n",
       "      <td>104.428105</td>\n",
       "      <td>1</td>\n",
       "      <td>0</td>\n",
       "    </tr>\n",
       "  </tbody>\n",
       "</table>\n",
       "</div>"
      ],
      "text/plain": [
       "   Bedrooms  Capacity        Id  Price Property_Type  Review_Count  Room_Type  \\\n",
       "0         1         2   6882689    198     Apartment            17          2   \n",
       "2         1         2   8940740    149     Apartment             6          2   \n",
       "3         1         4  12035970     55     Apartment             0          2   \n",
       "4         1         2  11642165     65     Apartment             3          1   \n",
       "5         1         1    648047     61     Apartment            66          1   \n",
       "\n",
       "   Star_Rating City   Avg_Price  City_NY  City_SF  \n",
       "0          5.0   NY  104.428105        1        0  \n",
       "2          5.0   NY  104.428105        1        0  \n",
       "3          0.0   NY  104.428105        1        0  \n",
       "4          5.0   NY  104.428105        1        0  \n",
       "5          4.5   NY  104.428105        1        0  "
      ]
     },
     "execution_count": 85,
     "metadata": {},
     "output_type": "execute_result"
    }
   ],
   "source": [
    "# One hot encode 'City' feature\n",
    "# create three dummy variables using get_dummies, then exclude the first dummy column\n",
    "city_dummies = pd.get_dummies(combined_df.City, prefix='City').iloc[:, 1:]\n",
    "\n",
    "# concatenate the dummy variable columns onto the original DataFrame\n",
    "combined_df = pd.concat([combined_df, city_dummies], axis=1)\n",
    "combined_df.head()"
   ]
  },
  {
   "cell_type": "code",
   "execution_count": 86,
   "metadata": {
    "collapsed": true
   },
   "outputs": [],
   "source": [
    "# add log of Price and Capacity since skewed distributions\n",
    "combined_df['log_Capacity'] = np.log(combined_df.Capacity)\n",
    "combined_df['log_Price'] = np.log(combined_df.Price)"
   ]
  },
  {
   "cell_type": "code",
   "execution_count": 67,
   "metadata": {
    "collapsed": false
   },
   "outputs": [
    {
     "data": {
      "text/html": [
       "<div>\n",
       "<table border=\"1\" class=\"dataframe\">\n",
       "  <thead>\n",
       "    <tr style=\"text-align: right;\">\n",
       "      <th></th>\n",
       "      <th>Bedrooms</th>\n",
       "      <th>Capacity</th>\n",
       "      <th>Id</th>\n",
       "      <th>Price</th>\n",
       "      <th>Property_Type</th>\n",
       "      <th>Review_Count</th>\n",
       "      <th>Room_Type</th>\n",
       "      <th>Star_Rating</th>\n",
       "      <th>City</th>\n",
       "      <th>Avg_Price</th>\n",
       "      <th>City_NY</th>\n",
       "      <th>City_SF</th>\n",
       "      <th>log_Capacity</th>\n",
       "      <th>log_Price</th>\n",
       "    </tr>\n",
       "  </thead>\n",
       "  <tbody>\n",
       "    <tr>\n",
       "      <th>0</th>\n",
       "      <td>1</td>\n",
       "      <td>2</td>\n",
       "      <td>6882689</td>\n",
       "      <td>198</td>\n",
       "      <td>Apartment</td>\n",
       "      <td>17</td>\n",
       "      <td>2</td>\n",
       "      <td>5.0</td>\n",
       "      <td>NY</td>\n",
       "      <td>104.428105</td>\n",
       "      <td>1</td>\n",
       "      <td>0</td>\n",
       "      <td>0.693147</td>\n",
       "      <td>5.288267</td>\n",
       "    </tr>\n",
       "    <tr>\n",
       "      <th>2</th>\n",
       "      <td>1</td>\n",
       "      <td>2</td>\n",
       "      <td>8940740</td>\n",
       "      <td>149</td>\n",
       "      <td>Apartment</td>\n",
       "      <td>6</td>\n",
       "      <td>2</td>\n",
       "      <td>5.0</td>\n",
       "      <td>NY</td>\n",
       "      <td>104.428105</td>\n",
       "      <td>1</td>\n",
       "      <td>0</td>\n",
       "      <td>0.693147</td>\n",
       "      <td>5.003946</td>\n",
       "    </tr>\n",
       "    <tr>\n",
       "      <th>3</th>\n",
       "      <td>1</td>\n",
       "      <td>4</td>\n",
       "      <td>12035970</td>\n",
       "      <td>55</td>\n",
       "      <td>Apartment</td>\n",
       "      <td>0</td>\n",
       "      <td>2</td>\n",
       "      <td>0.0</td>\n",
       "      <td>NY</td>\n",
       "      <td>104.428105</td>\n",
       "      <td>1</td>\n",
       "      <td>0</td>\n",
       "      <td>1.386294</td>\n",
       "      <td>4.007333</td>\n",
       "    </tr>\n",
       "    <tr>\n",
       "      <th>4</th>\n",
       "      <td>1</td>\n",
       "      <td>2</td>\n",
       "      <td>11642165</td>\n",
       "      <td>65</td>\n",
       "      <td>Apartment</td>\n",
       "      <td>3</td>\n",
       "      <td>1</td>\n",
       "      <td>5.0</td>\n",
       "      <td>NY</td>\n",
       "      <td>104.428105</td>\n",
       "      <td>1</td>\n",
       "      <td>0</td>\n",
       "      <td>0.693147</td>\n",
       "      <td>4.174387</td>\n",
       "    </tr>\n",
       "    <tr>\n",
       "      <th>5</th>\n",
       "      <td>1</td>\n",
       "      <td>1</td>\n",
       "      <td>648047</td>\n",
       "      <td>61</td>\n",
       "      <td>Apartment</td>\n",
       "      <td>66</td>\n",
       "      <td>1</td>\n",
       "      <td>4.5</td>\n",
       "      <td>NY</td>\n",
       "      <td>104.428105</td>\n",
       "      <td>1</td>\n",
       "      <td>0</td>\n",
       "      <td>0.000000</td>\n",
       "      <td>4.110874</td>\n",
       "    </tr>\n",
       "  </tbody>\n",
       "</table>\n",
       "</div>"
      ],
      "text/plain": [
       "   Bedrooms  Capacity        Id  Price Property_Type  Review_Count Room_Type  \\\n",
       "0         1         2   6882689    198     Apartment            17         2   \n",
       "2         1         2   8940740    149     Apartment             6         2   \n",
       "3         1         4  12035970     55     Apartment             0         2   \n",
       "4         1         2  11642165     65     Apartment             3         1   \n",
       "5         1         1    648047     61     Apartment            66         1   \n",
       "\n",
       "   Star_Rating City   Avg_Price  City_NY  City_SF  log_Capacity  log_Price  \n",
       "0          5.0   NY  104.428105        1        0      0.693147   5.288267  \n",
       "2          5.0   NY  104.428105        1        0      0.693147   5.003946  \n",
       "3          0.0   NY  104.428105        1        0      1.386294   4.007333  \n",
       "4          5.0   NY  104.428105        1        0      0.693147   4.174387  \n",
       "5          4.5   NY  104.428105        1        0      0.000000   4.110874  "
      ]
     },
     "execution_count": 67,
     "metadata": {},
     "output_type": "execute_result"
    }
   ],
   "source": [
    "combined_df.head()"
   ]
  },
  {
   "cell_type": "code",
   "execution_count": 87,
   "metadata": {
    "collapsed": true
   },
   "outputs": [],
   "source": [
    "feature_cols = ['log_Capacity','City_SF','City_NY','Room_Type']\n",
    "X = combined_df[feature_cols]\n",
    "y = combined_df.log_Price"
   ]
  },
  {
   "cell_type": "code",
   "execution_count": 88,
   "metadata": {
    "collapsed": true
   },
   "outputs": [],
   "source": [
    "# make training and testing split\n",
    "X_train, X_test, y_train, y_test = train_test_split(X, y)"
   ]
  },
  {
   "cell_type": "code",
   "execution_count": 89,
   "metadata": {
    "collapsed": true
   },
   "outputs": [],
   "source": [
    "lr_ridge = Ridge()"
   ]
  },
  {
   "cell_type": "code",
   "execution_count": 90,
   "metadata": {
    "collapsed": false
   },
   "outputs": [
    {
     "data": {
      "text/plain": [
       "Ridge(alpha=1.0, copy_X=True, fit_intercept=True, max_iter=None,\n",
       "   normalize=False, solver='auto', tol=0.001)"
      ]
     },
     "execution_count": 90,
     "metadata": {},
     "output_type": "execute_result"
    }
   ],
   "source": [
    "lr_ridge.fit(X_train, y_train)"
   ]
  },
  {
   "cell_type": "code",
   "execution_count": 91,
   "metadata": {
    "collapsed": true
   },
   "outputs": [],
   "source": [
    "predictions = lr_ridge.predict(X_test)"
   ]
  },
  {
   "cell_type": "code",
   "execution_count": 92,
   "metadata": {
    "collapsed": false
   },
   "outputs": [
    {
     "data": {
      "text/plain": [
       "0.32120395686993414"
      ]
     },
     "execution_count": 92,
     "metadata": {},
     "output_type": "execute_result"
    }
   ],
   "source": [
    "ridge_RMSE = np.sqrt(metrics.mean_squared_error(y_test, predictions))\n",
    "ridge_RMSE"
   ]
  },
  {
   "cell_type": "code",
   "execution_count": 99,
   "metadata": {
    "collapsed": false
   },
   "outputs": [
    {
     "data": {
      "text/plain": [
       "0.54006802837202805"
      ]
     },
     "execution_count": 99,
     "metadata": {},
     "output_type": "execute_result"
    }
   ],
   "source": [
    "ridge_r2 = metrics.r2_score(y_test, predictions)\n",
    "ridge_r2"
   ]
  },
  {
   "cell_type": "code",
   "execution_count": 101,
   "metadata": {
    "collapsed": true
   },
   "outputs": [],
   "source": [
    "# Let's take a look at the residuals\n",
    "resids = y_test - predictions"
   ]
  },
  {
   "cell_type": "code",
   "execution_count": 104,
   "metadata": {
    "collapsed": false
   },
   "outputs": [
    {
     "data": {
      "text/plain": [
       "<matplotlib.text.Text at 0x110148610>"
      ]
     },
     "execution_count": 104,
     "metadata": {},
     "output_type": "execute_result"
    },
    {
     "name": "stderr",
     "output_type": "stream",
     "text": [
      "/Users/paulsingman/pyth/data-analysis/venv/lib/python2.7/site-packages/matplotlib/collections.py:590: FutureWarning: elementwise comparison failed; returning scalar instead, but in the future will perform elementwise comparison\n",
      "  if self._edgecolors == str('face'):\n"
     ]
    },
    {
     "data": {
      "image/png": "[encoded data removed]",
      "text/plain": [
       "<matplotlib.figure.Figure at 0x110115250>"
      ]
     },
     "metadata": {},
     "output_type": "display_data"
    }
   ],
   "source": [
    "plt.scatter(np.linspace(1,230,230),resids)\n",
    "plt.axhline(ls='--', linewidth=3, color='r')\n",
    "plt.title('Ridge Regression Residuals')"
   ]
  },
  {
   "cell_type": "markdown",
   "metadata": {},
   "source": [
    "### Residuals look like random noise (good) and are homoscedastic"
   ]
  },
  {
   "cell_type": "code",
   "execution_count": null,
   "metadata": {
    "collapsed": true
   },
   "outputs": [],
   "source": []
  },
  {
   "cell_type": "code",
   "execution_count": null,
   "metadata": {
    "collapsed": true
   },
   "outputs": [],
   "source": []
  },
  {
   "cell_type": "markdown",
   "metadata": {},
   "source": [
    "### With the ridge model we achieve an r-squared of .54. Let's try to optimize the alpha parameter to improve this value"
   ]
  },
  {
   "cell_type": "code",
   "execution_count": 100,
   "metadata": {
    "collapsed": true
   },
   "outputs": [],
   "source": [
    "alphas = [10e-3, 10e-2, 10e-1, 1, 10, 100]"
   ]
  },
  {
   "cell_type": "code",
   "execution_count": 105,
   "metadata": {
    "collapsed": true
   },
   "outputs": [],
   "source": [
    "RMSEs = []\n",
    "r_squareds = []\n",
    "for a in alphas:\n",
    "    lr_ridge = Ridge(alpha=a)\n",
    "    lr_ridge.fit(X_train, y_train)\n",
    "    predictions = lr_ridge.predict(X_test)\n",
    "    RMSEs.append(np.sqrt(metrics.mean_squared_error(y_test, predictions)))\n",
    "    r_squareds.append(metrics.r2_score(y_test, predictions))\n",
    "    "
   ]
  },
  {
   "cell_type": "code",
   "execution_count": 109,
   "metadata": {
    "collapsed": false
   },
   "outputs": [
    {
     "data": {
      "image/png": "[encoded data removed]",
      "text/plain": [
       "<matplotlib.figure.Figure at 0x11094bf90>"
      ]
     },
     "metadata": {},
     "output_type": "display_data"
    }
   ],
   "source": [
    "ax = plt.gca()\n",
    "\n",
    "ax.plot(alphas, r_squareds)\n",
    "ax.set_xscale('log')\n",
    "ax.set_xlim(ax.get_xlim()[::-1])  # reverse axis\n",
    "plt.xlabel('alpha')\n",
    "plt.ylabel('r_squared')\n",
    "plt.title('Ridge R-Squared as a function of the regularization')\n",
    "plt.show()"
   ]
  },
  {
   "cell_type": "markdown",
   "metadata": {},
   "source": [
    "#### Graph shows that alpha of 1 is reasonably optimal."
   ]
  },
  {
   "cell_type": "markdown",
   "metadata": {},
   "source": [
    "# For comparison to the linear model, let's try a Gradient Boosted Regressor\n",
    "### We'll use grid search to find the optimal parameters and score it by the RMSE"
   ]
  },
  {
   "cell_type": "code",
   "execution_count": 110,
   "metadata": {
    "collapsed": true
   },
   "outputs": [],
   "source": [
    "from sklearn.ensemble import GradientBoostingRegressor\n",
    "from sklearn.grid_search import GridSearchCV"
   ]
  },
  {
   "cell_type": "code",
   "execution_count": 111,
   "metadata": {
    "collapsed": true
   },
   "outputs": [],
   "source": [
    "param_grid = {'learning_rate': [0.01, 0.05, 0.1, 1],\n",
    "              'max_depth': [4, 6],\n",
    "              'min_samples_leaf': [3, 5, 9]\n",
    "              }\n",
    "\n",
    "gbr = GradientBoostingRegressor(n_estimators=1500)\n",
    "\n",
    "gs_cv = GridSearchCV(gbr, param_grid, n_jobs=4).fit(X_train, y_train)"
   ]
  },
  {
   "cell_type": "code",
   "execution_count": 112,
   "metadata": {
    "collapsed": false
   },
   "outputs": [
    {
     "data": {
      "text/plain": [
       "{'learning_rate': 0.01, 'max_depth': 4, 'min_samples_leaf': 5}"
      ]
     },
     "execution_count": 112,
     "metadata": {},
     "output_type": "execute_result"
    }
   ],
   "source": [
    "# best parameters\n",
    "gs_cv.best_params_"
   ]
  },
  {
   "cell_type": "code",
   "execution_count": 113,
   "metadata": {
    "collapsed": false
   },
   "outputs": [
    {
     "data": {
      "text/plain": [
       "0.57007229401371318"
      ]
     },
     "execution_count": 113,
     "metadata": {},
     "output_type": "execute_result"
    }
   ],
   "source": [
    "gs_cv.best_score_"
   ]
  },
  {
   "cell_type": "code",
   "execution_count": null,
   "metadata": {
    "collapsed": true
   },
   "outputs": [],
   "source": [
    "mae = mean_absolute_error(y_test, est.predict(X_test))\n",
    "print('MAE: %.4f' % mae)"
   ]
  },
  {
   "cell_type": "code",
   "execution_count": 115,
   "metadata": {
    "collapsed": true
   },
   "outputs": [],
   "source": [
    "opt_gbr = GradientBoostingRegressor(n_estimators=5000, learning_rate=0.01, max_depth=4, min_samples_leaf=5)"
   ]
  },
  {
   "cell_type": "code",
   "execution_count": 116,
   "metadata": {
    "collapsed": false
   },
   "outputs": [
    {
     "data": {
      "text/plain": [
       "GradientBoostingRegressor(alpha=0.9, init=None, learning_rate=0.01, loss='ls',\n",
       "             max_depth=4, max_features=None, max_leaf_nodes=None,\n",
       "             min_samples_leaf=5, min_samples_split=2,\n",
       "             min_weight_fraction_leaf=0.0, n_estimators=5000,\n",
       "             random_state=None, subsample=1.0, verbose=0, warm_start=False)"
      ]
     },
     "execution_count": 116,
     "metadata": {},
     "output_type": "execute_result"
    }
   ],
   "source": [
    "opt_gbr.fit(X_train, y_train)"
   ]
  },
  {
   "cell_type": "code",
   "execution_count": 117,
   "metadata": {
    "collapsed": false
   },
   "outputs": [
    {
     "data": {
      "text/plain": [
       "0.32653518322187269"
      ]
     },
     "execution_count": 117,
     "metadata": {},
     "output_type": "execute_result"
    }
   ],
   "source": [
    "gbr_rmse = np.sqrt(metrics.mean_squared_error(y_test, opt_gbr.predict(X_test)))\n",
    "gbr_rmse"
   ]
  },
  {
   "cell_type": "code",
   "execution_count": 114,
   "metadata": {
    "collapsed": true
   },
   "outputs": [],
   "source": []
  },
  {
   "cell_type": "code",
   "execution_count": null,
   "metadata": {
    "collapsed": true
   },
   "outputs": [],
   "source": []
  }
 ],
 "metadata": {
  "kernelspec": {
   "display_name": "Python 2",
   "language": "python",
   "name": "python2"
  },
  "language_info": {
   "codemirror_mode": {
    "name": "ipython",
    "version": 2
   },
   "file_extension": ".py",
   "mimetype": "text/x-python",
   "name": "python",
   "nbconvert_exporter": "python",
   "pygments_lexer": "ipython2",
   "version": "2.7.10"
  }
 },
 "nbformat": 4,
 "nbformat_minor": 0
}
