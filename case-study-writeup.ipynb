{
 "cells": [
  {
   "cell_type": "markdown",
   "metadata": {},
   "source": [
    "# Listing Price Prediction Model from Scraped Airbnb Data\n",
    "\n",
    "## Notebook Contents\n",
    "\n",
    "#### Data Exploration\n",
    "* Explore with histograms and scatter matrices\n",
    "* Plot correlation matrix of features\n",
    "\n",
    "#### Data Preprocessing\n",
    "* Transform skewed variables (Price, Review Count)\n",
    "* Map Room Type feature\n",
    "* Make binomial feature Has_Star_Rating\n",
    "* Add features mean-Price for each city\n",
    "* Combine each city's DF into one DF to train model on\n",
    "\n",
    "\n",
    "* combine data sets from 3 cities with feature column 'city'\n",
    "* Make baseline model by predicting the city's average and calculating RMSE\n",
    "* Improve baseline by adding features to linear regression model and calculate improvement\n",
    "* calculate RMSE of model over different sizes of training examples to see improvement"
   ]
  },
  {
   "cell_type": "code",
   "execution_count": 37,
   "metadata": {
    "collapsed": true
   },
   "outputs": [],
   "source": [
    "# standard imports\n",
    "import numpy as np\n",
    "import pandas as pd\n",
    "import matplotlib.pyplot as plt\n",
    "%matplotlib inline\n",
    "import seaborn as sns"
   ]
  },
  {
   "cell_type": "code",
   "execution_count": 91,
   "metadata": {
    "collapsed": true
   },
   "outputs": [],
   "source": [
    "pd.options.mode.chained_assignment = None  # default='warn'"
   ]
  },
  {
   "cell_type": "code",
   "execution_count": 36,
   "metadata": {
    "collapsed": true
   },
   "outputs": [],
   "source": [
    "def load_df(df_file):\n",
    "    # function to load csv files from data folder into DataFrame\n",
    "    basepath = 'data/'\n",
    "    filepath = basepath + df_file\n",
    "    load_df = pd.DataFrame.from_csv(filepath)\n",
    "    return load_df"
   ]
  },
  {
   "cell_type": "code",
   "execution_count": 45,
   "metadata": {
    "collapsed": true
   },
   "outputs": [],
   "source": [
    "# load the scraped datasets\n",
    "ny_df = load_df('NY_df.csv')\n",
    "la_df = load_df('LA_df.csv')\n",
    "sf_df = load_df('SF_df.csv')"
   ]
  },
  {
   "cell_type": "markdown",
   "metadata": {},
   "source": [
    "## Data Exploration\n",
    "\n",
    "### Exploring NY data (in earlier notebook, LA and SF data explored in same way and confirmed to have similar distributions. Will only show NY exploration here for readability)\n",
    "* Generate feature & response histograms and scatter matrices\n",
    "* Plot correlation matrix"
   ]
  },
  {
   "cell_type": "code",
   "execution_count": 46,
   "metadata": {
    "collapsed": false
   },
   "outputs": [
    {
     "data": {
      "text/html": [
       "<div>\n",
       "<table border=\"1\" class=\"dataframe\">\n",
       "  <thead>\n",
       "    <tr style=\"text-align: right;\">\n",
       "      <th></th>\n",
       "      <th>Bedrooms</th>\n",
       "      <th>Capacity</th>\n",
       "      <th>Id</th>\n",
       "      <th>Price</th>\n",
       "      <th>Property_Type</th>\n",
       "      <th>Review_Count</th>\n",
       "      <th>Room_Type</th>\n",
       "      <th>Star_Rating</th>\n",
       "    </tr>\n",
       "  </thead>\n",
       "  <tbody>\n",
       "    <tr>\n",
       "      <th>0</th>\n",
       "      <td>1</td>\n",
       "      <td>2</td>\n",
       "      <td>6882689</td>\n",
       "      <td>198</td>\n",
       "      <td>Apartment</td>\n",
       "      <td>17</td>\n",
       "      <td>Entire home/apt</td>\n",
       "      <td>5</td>\n",
       "    </tr>\n",
       "    <tr>\n",
       "      <th>1</th>\n",
       "      <td>2</td>\n",
       "      <td>7</td>\n",
       "      <td>12022627</td>\n",
       "      <td>2200</td>\n",
       "      <td>Apartment</td>\n",
       "      <td>0</td>\n",
       "      <td>Entire home/apt</td>\n",
       "      <td>0</td>\n",
       "    </tr>\n",
       "    <tr>\n",
       "      <th>2</th>\n",
       "      <td>1</td>\n",
       "      <td>2</td>\n",
       "      <td>8940740</td>\n",
       "      <td>149</td>\n",
       "      <td>Apartment</td>\n",
       "      <td>6</td>\n",
       "      <td>Entire home/apt</td>\n",
       "      <td>5</td>\n",
       "    </tr>\n",
       "    <tr>\n",
       "      <th>3</th>\n",
       "      <td>1</td>\n",
       "      <td>4</td>\n",
       "      <td>12035970</td>\n",
       "      <td>55</td>\n",
       "      <td>Apartment</td>\n",
       "      <td>0</td>\n",
       "      <td>Entire home/apt</td>\n",
       "      <td>0</td>\n",
       "    </tr>\n",
       "    <tr>\n",
       "      <th>4</th>\n",
       "      <td>1</td>\n",
       "      <td>2</td>\n",
       "      <td>11642165</td>\n",
       "      <td>65</td>\n",
       "      <td>Apartment</td>\n",
       "      <td>3</td>\n",
       "      <td>Private room</td>\n",
       "      <td>5</td>\n",
       "    </tr>\n",
       "  </tbody>\n",
       "</table>\n",
       "</div>"
      ],
      "text/plain": [
       "   Bedrooms  Capacity        Id  Price Property_Type  Review_Count  \\\n",
       "0         1         2   6882689    198     Apartment            17   \n",
       "1         2         7  12022627   2200     Apartment             0   \n",
       "2         1         2   8940740    149     Apartment             6   \n",
       "3         1         4  12035970     55     Apartment             0   \n",
       "4         1         2  11642165     65     Apartment             3   \n",
       "\n",
       "         Room_Type  Star_Rating  \n",
       "0  Entire home/apt            5  \n",
       "1  Entire home/apt            0  \n",
       "2  Entire home/apt            5  \n",
       "3  Entire home/apt            0  \n",
       "4     Private room            5  "
      ]
     },
     "execution_count": 46,
     "metadata": {},
     "output_type": "execute_result"
    }
   ],
   "source": [
    "ny_df.head()"
   ]
  },
  {
   "cell_type": "code",
   "execution_count": 47,
   "metadata": {
    "collapsed": true
   },
   "outputs": [],
   "source": [
    "# Limit DF to columns we'll consider as features (and Price)\n",
    "ny_feature_cols = ['Bedrooms','Capacity','Price','Review_Count','Room_Type','Star_Rating']\n",
    "feature_ny_df = ny_df[ny_feature_cols]"
   ]
  },
  {
   "cell_type": "code",
   "execution_count": 48,
   "metadata": {
    "collapsed": false
   },
   "outputs": [
    {
     "data": {
      "text/html": [
       "<div>\n",
       "<table border=\"1\" class=\"dataframe\">\n",
       "  <thead>\n",
       "    <tr style=\"text-align: right;\">\n",
       "      <th></th>\n",
       "      <th>Bedrooms</th>\n",
       "      <th>Capacity</th>\n",
       "      <th>Price</th>\n",
       "      <th>Review_Count</th>\n",
       "      <th>Star_Rating</th>\n",
       "    </tr>\n",
       "  </thead>\n",
       "  <tbody>\n",
       "    <tr>\n",
       "      <th>count</th>\n",
       "      <td>306.000000</td>\n",
       "      <td>306.000000</td>\n",
       "      <td>306.000000</td>\n",
       "      <td>306.000000</td>\n",
       "      <td>306.000000</td>\n",
       "    </tr>\n",
       "    <tr>\n",
       "      <th>mean</th>\n",
       "      <td>0.869281</td>\n",
       "      <td>2.218954</td>\n",
       "      <td>104.428105</td>\n",
       "      <td>14.601307</td>\n",
       "      <td>3.485294</td>\n",
       "    </tr>\n",
       "    <tr>\n",
       "      <th>std</th>\n",
       "      <td>0.460830</td>\n",
       "      <td>1.056332</td>\n",
       "      <td>129.893511</td>\n",
       "      <td>24.689904</td>\n",
       "      <td>2.142607</td>\n",
       "    </tr>\n",
       "    <tr>\n",
       "      <th>min</th>\n",
       "      <td>0.000000</td>\n",
       "      <td>1.000000</td>\n",
       "      <td>20.000000</td>\n",
       "      <td>0.000000</td>\n",
       "      <td>0.000000</td>\n",
       "    </tr>\n",
       "    <tr>\n",
       "      <th>25%</th>\n",
       "      <td>1.000000</td>\n",
       "      <td>2.000000</td>\n",
       "      <td>61.250000</td>\n",
       "      <td>2.000000</td>\n",
       "      <td>0.000000</td>\n",
       "    </tr>\n",
       "    <tr>\n",
       "      <th>50%</th>\n",
       "      <td>1.000000</td>\n",
       "      <td>2.000000</td>\n",
       "      <td>90.000000</td>\n",
       "      <td>5.000000</td>\n",
       "      <td>4.500000</td>\n",
       "    </tr>\n",
       "    <tr>\n",
       "      <th>75%</th>\n",
       "      <td>1.000000</td>\n",
       "      <td>2.000000</td>\n",
       "      <td>119.000000</td>\n",
       "      <td>15.000000</td>\n",
       "      <td>5.000000</td>\n",
       "    </tr>\n",
       "    <tr>\n",
       "      <th>max</th>\n",
       "      <td>3.000000</td>\n",
       "      <td>8.000000</td>\n",
       "      <td>2200.000000</td>\n",
       "      <td>180.000000</td>\n",
       "      <td>5.000000</td>\n",
       "    </tr>\n",
       "  </tbody>\n",
       "</table>\n",
       "</div>"
      ],
      "text/plain": [
       "         Bedrooms    Capacity        Price  Review_Count  Star_Rating\n",
       "count  306.000000  306.000000   306.000000    306.000000   306.000000\n",
       "mean     0.869281    2.218954   104.428105     14.601307     3.485294\n",
       "std      0.460830    1.056332   129.893511     24.689904     2.142607\n",
       "min      0.000000    1.000000    20.000000      0.000000     0.000000\n",
       "25%      1.000000    2.000000    61.250000      2.000000     0.000000\n",
       "50%      1.000000    2.000000    90.000000      5.000000     4.500000\n",
       "75%      1.000000    2.000000   119.000000     15.000000     5.000000\n",
       "max      3.000000    8.000000  2200.000000    180.000000     5.000000"
      ]
     },
     "execution_count": 48,
     "metadata": {},
     "output_type": "execute_result"
    }
   ],
   "source": [
    "# Take a look at pandas describe function\n",
    "feature_ny_df.describe()"
   ]
  },
  {
   "cell_type": "markdown",
   "metadata": {},
   "source": [
    "All columns have the same count, so no need to deal with missing values. Let's take a look at histograms of the variables."
   ]
  },
  {
   "cell_type": "code",
   "execution_count": 49,
   "metadata": {
    "collapsed": false
   },
   "outputs": [
    {
     "data": {
      "text/plain": [
       "array([[<matplotlib.axes._subplots.AxesSubplot object at 0x113f66d50>,\n",
       "        <matplotlib.axes._subplots.AxesSubplot object at 0x11427f910>],\n",
       "       [<matplotlib.axes._subplots.AxesSubplot object at 0x1143c1710>,\n",
       "        <matplotlib.axes._subplots.AxesSubplot object at 0x114431450>],\n",
       "       [<matplotlib.axes._subplots.AxesSubplot object at 0x1144b3290>,\n",
       "        <matplotlib.axes._subplots.AxesSubplot object at 0x114500dd0>]], dtype=object)"
      ]
     },
     "execution_count": 49,
     "metadata": {},
     "output_type": "execute_result"
    },
    {
     "data": {
      "image/png": "[encoded data removed]",
      "text/plain": [
       "<matplotlib.figure.Figure at 0x11407d510>"
      ]
     },
     "metadata": {},
     "output_type": "display_data"
    }
   ],
   "source": [
    "feature_ny_df.hist(figsize=(10,10))"
   ]
  },
  {
   "cell_type": "markdown",
   "metadata": {},
   "source": [
    "### Thoughts on histograms\n",
    "* Bedrooms and Capacity look as expected.\n",
    "* Price has an outlier at $2200, that is ruining the histogram. We must deal with it.\n",
    "* Review Count is left skewed and should be logged for any model that req's norm. dist features.\n",
    "* Star Rating is essentially binomial with a rating of either 0 or 5. Could map from continuous to binomial.\n",
    "\n",
    "### Let's remove that outlier from Price and re-plot:"
   ]
  },
  {
   "cell_type": "code",
   "execution_count": 51,
   "metadata": {
    "collapsed": false
   },
   "outputs": [
    {
     "data": {
      "text/plain": [
       "<matplotlib.axes._subplots.AxesSubplot at 0x114a625d0>"
      ]
     },
     "execution_count": 51,
     "metadata": {},
     "output_type": "execute_result"
    },
    {
     "data": {
      "image/png": "[encoded data removed]",
      "text/plain": [
       "<matplotlib.figure.Figure at 0x114962a90>"
      ]
     },
     "metadata": {},
     "output_type": "display_data"
    }
   ],
   "source": [
    "price_outlier_mask = feature_ny_df.Price<2000\n",
    "feature_ny_df = feature_ny_df[price_outlier_mask]\n",
    "feature_ny_df.Price.hist()"
   ]
  },
  {
   "cell_type": "markdown",
   "metadata": {},
   "source": [
    "That looks better. Same as Review Count, Price is left skewed and could benefit from a log tranformation to make it more normally distributed. Let's see what that looks like:"
   ]
  },
  {
   "cell_type": "code",
   "execution_count": 52,
   "metadata": {
    "collapsed": true
   },
   "outputs": [],
   "source": [
    "feature_ny_df['log_Price'] = np.log(feature_ny_df.Price)"
   ]
  },
  {
   "cell_type": "code",
   "execution_count": 53,
   "metadata": {
    "collapsed": false
   },
   "outputs": [
    {
     "data": {
      "text/plain": [
       "<matplotlib.axes._subplots.AxesSubplot at 0x1146e3250>"
      ]
     },
     "execution_count": 53,
     "metadata": {},
     "output_type": "execute_result"
    },
    {
     "data": {
      "image/png": "[encoded data removed]",
      "text/plain": [
       "<matplotlib.figure.Figure at 0x11496b150>"
      ]
     },
     "metadata": {},
     "output_type": "display_data"
    }
   ],
   "source": [
    "feature_ny_df.log_Price.hist()"
   ]
  },
  {
   "cell_type": "markdown",
   "metadata": {},
   "source": [
    "The log of Price is normally distributed indeed!"
   ]
  },
  {
   "cell_type": "markdown",
   "metadata": {},
   "source": [
    "### Scatter Matrices"
   ]
  },
  {
   "cell_type": "code",
   "execution_count": 55,
   "metadata": {
    "collapsed": false
   },
   "outputs": [
    {
     "data": {
      "text/plain": [
       "array([[<matplotlib.axes._subplots.AxesSubplot object at 0x114d39c10>,\n",
       "        <matplotlib.axes._subplots.AxesSubplot object at 0x116ac8310>,\n",
       "        <matplotlib.axes._subplots.AxesSubplot object at 0x116f88290>,\n",
       "        <matplotlib.axes._subplots.AxesSubplot object at 0x11431d350>,\n",
       "        <matplotlib.axes._subplots.AxesSubplot object at 0x10dd13690>,\n",
       "        <matplotlib.axes._subplots.AxesSubplot object at 0x11434a850>],\n",
       "       [<matplotlib.axes._subplots.AxesSubplot object at 0x11753cf10>,\n",
       "        <matplotlib.axes._subplots.AxesSubplot object at 0x1175c0f90>,\n",
       "        <matplotlib.axes._subplots.AxesSubplot object at 0x1176305d0>,\n",
       "        <matplotlib.axes._subplots.AxesSubplot object at 0x1176b3410>,\n",
       "        <matplotlib.axes._subplots.AxesSubplot object at 0x117701f50>,\n",
       "        <matplotlib.axes._subplots.AxesSubplot object at 0x11778efd0>],\n",
       "       [<matplotlib.axes._subplots.AxesSubplot object at 0x117812d10>,\n",
       "        <matplotlib.axes._subplots.AxesSubplot object at 0x117882b90>,\n",
       "        <matplotlib.axes._subplots.AxesSubplot object at 0x1179058d0>,\n",
       "        <matplotlib.axes._subplots.AxesSubplot object at 0x11621a490>,\n",
       "        <matplotlib.axes._subplots.AxesSubplot object at 0x115025dd0>,\n",
       "        <matplotlib.axes._subplots.AxesSubplot object at 0x1179cb950>],\n",
       "       [<matplotlib.axes._subplots.AxesSubplot object at 0x117a3aa10>,\n",
       "        <matplotlib.axes._subplots.AxesSubplot object at 0x117abe750>,\n",
       "        <matplotlib.axes._subplots.AxesSubplot object at 0x117b246d0>,\n",
       "        <matplotlib.axes._subplots.AxesSubplot object at 0x117ba6510>,\n",
       "        <matplotlib.axes._subplots.AxesSubplot object at 0x117b47150>,\n",
       "        <matplotlib.axes._subplots.AxesSubplot object at 0x117c99310>],\n",
       "       [<matplotlib.axes._subplots.AxesSubplot object at 0x117d1e050>,\n",
       "        <matplotlib.axes._subplots.AxesSubplot object at 0x117d7f790>,\n",
       "        <matplotlib.axes._subplots.AxesSubplot object at 0x117e035d0>,\n",
       "        <matplotlib.axes._subplots.AxesSubplot object at 0x117e6a310>,\n",
       "        <matplotlib.axes._subplots.AxesSubplot object at 0x117eeb210>,\n",
       "        <matplotlib.axes._subplots.AxesSubplot object at 0x117f61f10>],\n",
       "       [<matplotlib.axes._subplots.AxesSubplot object at 0x117fd0f10>,\n",
       "        <matplotlib.axes._subplots.AxesSubplot object at 0x118054c50>,\n",
       "        <matplotlib.axes._subplots.AxesSubplot object at 0x1180babd0>,\n",
       "        <matplotlib.axes._subplots.AxesSubplot object at 0x11813ca10>,\n",
       "        <matplotlib.axes._subplots.AxesSubplot object at 0x1180dc750>,\n",
       "        <matplotlib.axes._subplots.AxesSubplot object at 0x118231810>]], dtype=object)"
      ]
     },
     "execution_count": 55,
     "metadata": {},
     "output_type": "execute_result"
    },
    {
     "data": {
      "image/png": "[encoded data removed]",
      "text/plain": [
       "<matplotlib.figure.Figure at 0x116a44890>"
      ]
     },
     "metadata": {},
     "output_type": "display_data"
    }
   ],
   "source": [
    "pd.tools.plotting.scatter_matrix(feature_ny_df, alpha=0.2, figsize=(16, 16), diagonal='kde')"
   ]
  },
  {
   "cell_type": "markdown",
   "metadata": {},
   "source": [
    "#### Overall it does not look like any one feature is particularly correlated with Price (or Log(Price)). Let's look at the actual correlation numbers:"
   ]
  },
  {
   "cell_type": "code",
   "execution_count": 56,
   "metadata": {
    "collapsed": false
   },
   "outputs": [
    {
     "data": {
      "text/html": [
       "<div>\n",
       "<table border=\"1\" class=\"dataframe\">\n",
       "  <thead>\n",
       "    <tr style=\"text-align: right;\">\n",
       "      <th></th>\n",
       "      <th>Bedrooms</th>\n",
       "      <th>Capacity</th>\n",
       "      <th>Price</th>\n",
       "      <th>Review_Count</th>\n",
       "      <th>Star_Rating</th>\n",
       "    </tr>\n",
       "  </thead>\n",
       "  <tbody>\n",
       "    <tr>\n",
       "      <th>Bedrooms</th>\n",
       "      <td>1.000000</td>\n",
       "      <td>0.178469</td>\n",
       "      <td>-0.108111</td>\n",
       "      <td>0.038039</td>\n",
       "      <td>-0.050983</td>\n",
       "    </tr>\n",
       "    <tr>\n",
       "      <th>Capacity</th>\n",
       "      <td>0.178469</td>\n",
       "      <td>1.000000</td>\n",
       "      <td>0.500679</td>\n",
       "      <td>-0.108792</td>\n",
       "      <td>-0.090091</td>\n",
       "    </tr>\n",
       "    <tr>\n",
       "      <th>Price</th>\n",
       "      <td>-0.108111</td>\n",
       "      <td>0.500679</td>\n",
       "      <td>1.000000</td>\n",
       "      <td>-0.077515</td>\n",
       "      <td>-0.025455</td>\n",
       "    </tr>\n",
       "    <tr>\n",
       "      <th>Review_Count</th>\n",
       "      <td>0.038039</td>\n",
       "      <td>-0.108792</td>\n",
       "      <td>-0.077515</td>\n",
       "      <td>1.000000</td>\n",
       "      <td>0.319596</td>\n",
       "    </tr>\n",
       "    <tr>\n",
       "      <th>Star_Rating</th>\n",
       "      <td>-0.050983</td>\n",
       "      <td>-0.090091</td>\n",
       "      <td>-0.025455</td>\n",
       "      <td>0.319596</td>\n",
       "      <td>1.000000</td>\n",
       "    </tr>\n",
       "  </tbody>\n",
       "</table>\n",
       "</div>"
      ],
      "text/plain": [
       "              Bedrooms  Capacity     Price  Review_Count  Star_Rating\n",
       "Bedrooms      1.000000  0.178469 -0.108111      0.038039    -0.050983\n",
       "Capacity      0.178469  1.000000  0.500679     -0.108792    -0.090091\n",
       "Price        -0.108111  0.500679  1.000000     -0.077515    -0.025455\n",
       "Review_Count  0.038039 -0.108792 -0.077515      1.000000     0.319596\n",
       "Star_Rating  -0.050983 -0.090091 -0.025455      0.319596     1.000000"
      ]
     },
     "execution_count": 56,
     "metadata": {},
     "output_type": "execute_result"
    }
   ],
   "source": [
    "# check collinearity of feature variables\n",
    "feature_ny_df[ny_feature_cols].corr()"
   ]
  },
  {
   "cell_type": "markdown",
   "metadata": {},
   "source": [
    "#### Price and Capacity are relatively highly correlated at 0.5. No other feature is particularly correlated to Price. Star Rating and Review Count are reasonably correlated at 0.32, suggesting listings with many reviews are well-liked. \n",
    "\n",
    "#### Let's see how Property Type and Room Type categorical variables look:"
   ]
  },
  {
   "cell_type": "code",
   "execution_count": 58,
   "metadata": {
    "collapsed": false
   },
   "outputs": [
    {
     "data": {
      "text/plain": [
       "Apartment          280\n",
       "House               14\n",
       "Townhouse            5\n",
       "Loft                 4\n",
       "Other                1\n",
       "Condominium          1\n",
       "Bed & Breakfast      1\n",
       "dtype: int64"
      ]
     },
     "execution_count": 58,
     "metadata": {},
     "output_type": "execute_result"
    }
   ],
   "source": [
    "ny_df.Property_Type.value_counts()"
   ]
  },
  {
   "cell_type": "code",
   "execution_count": 59,
   "metadata": {
    "collapsed": false
   },
   "outputs": [
    {
     "data": {
      "text/plain": [
       "Private room       156\n",
       "Entire home/apt    144\n",
       "Shared room          6\n",
       "dtype: int64"
      ]
     },
     "execution_count": 59,
     "metadata": {},
     "output_type": "execute_result"
    }
   ],
   "source": [
    "ny_df.Room_Type.value_counts()"
   ]
  },
  {
   "cell_type": "markdown",
   "metadata": {},
   "source": [
    "#### Too many Property Types to make one-hot-encoding worth it (too many additional features. However, will map Room Type to ordinal categorical variable type since I believe you can rank (in order of least desireable to most): 0 : Shared Room, 1 : Private Room, 2 : Entire home/apt"
   ]
  },
  {
   "cell_type": "markdown",
   "metadata": {},
   "source": [
    "#### Next, I want to look if there's a relationship between listings with a Star Rating greater than 0 and Price (i.e. would I be throwing away valuable info if I mapped Star Rating to binomial."
   ]
  },
  {
   "cell_type": "code",
   "execution_count": 61,
   "metadata": {
    "collapsed": false
   },
   "outputs": [
    {
     "data": {
      "text/plain": [
       "5.0    132\n",
       "4.5     85\n",
       "0.0     82\n",
       "4.0      6\n",
       "dtype: int64"
      ]
     },
     "execution_count": 61,
     "metadata": {},
     "output_type": "execute_result"
    }
   ],
   "source": [
    "feature_ny_df.Star_Rating.value_counts()"
   ]
  },
  {
   "cell_type": "code",
   "execution_count": 64,
   "metadata": {
    "collapsed": false
   },
   "outputs": [
    {
     "data": {
      "text/plain": [
       "Star_Rating\n",
       "0.0    125.722892\n",
       "4.0     66.500000\n",
       "4.5     93.458824\n",
       "5.0     99.825758\n",
       "Name: Price, dtype: float64"
      ]
     },
     "execution_count": 64,
     "metadata": {},
     "output_type": "execute_result"
    }
   ],
   "source": [
    "sr_group_by = ny_df.groupby('Star_Rating').Price.mean()\n",
    "sr_group_by"
   ]
  },
  {
   "cell_type": "code",
   "execution_count": null,
   "metadata": {
    "collapsed": true
   },
   "outputs": [],
   "source": [
    "star_rating_mask = feature_ny_df.Star_Rating>1.0\n",
    "star_rating_df = feature_ny_df[star_rating_mask]"
   ]
  },
  {
   "cell_type": "code",
   "execution_count": 72,
   "metadata": {
    "collapsed": false
   },
   "outputs": [
    {
     "data": {
      "text/plain": [
       "0.11085439208776988"
      ]
     },
     "execution_count": 72,
     "metadata": {},
     "output_type": "execute_result"
    }
   ],
   "source": [
    "# Correlation between price and Star Rating for listings with a rating greater than 0\n",
    "np.corrcoef(star_rating_df.Star_Rating, star_rating_df.Price)[0][1]"
   ]
  },
  {
   "cell_type": "markdown",
   "metadata": {},
   "source": [
    "#### There is some correlation between the Star Rating (when it is not 0) and Price. Though at 0.11 the correlation is not particularly strong. Looking at the Group By, interestingly, listings with a 0 star rating have a higher price. I believe these are properties that are naively priced and have not been stayed in much, if at all."
   ]
  },
  {
   "cell_type": "code",
   "execution_count": null,
   "metadata": {
    "collapsed": true
   },
   "outputs": [],
   "source": []
  },
  {
   "cell_type": "code",
   "execution_count": null,
   "metadata": {
    "collapsed": true
   },
   "outputs": [],
   "source": []
  },
  {
   "cell_type": "markdown",
   "metadata": {},
   "source": [
    "## Data Preprocessing\n",
    "* Transform skewed variables (Price, Review Count)\n",
    "* Map Room Type feature\n",
    "* Make binomial feature Has_Star_Rating\n",
    "* Add features mean-Price for each city\n",
    "* Combine each city's DF into one DF to train model on"
   ]
  },
  {
   "cell_type": "code",
   "execution_count": null,
   "metadata": {
    "collapsed": true
   },
   "outputs": [],
   "source": []
  },
  {
   "cell_type": "code",
   "execution_count": 142,
   "metadata": {
    "collapsed": false
   },
   "outputs": [],
   "source": [
    "def preprocess_data(df, city):\n",
    "    \"\"\"Transform data to prepare for model training\"\"\"\n",
    "    \n",
    "    # add city\n",
    "    df['City'] = city\n",
    "    \n",
    "    # get rid of the price outlier in the NY df\n",
    "    if city == 'NY':\n",
    "        price_outlier_mask = df.Price<2000\n",
    "        df = df[price_outlier_mask]\n",
    "    \n",
    "    # add column for mean price (for baseline model)\n",
    "    df['Avg_Price'] = df.Price.mean()\n",
    "    \n",
    "    # take log of price and add mean log(Price)\n",
    "    df['log_Price'] = np.log(df.Price)\n",
    "    df['log_Avg_Price'] = df.log_Price.mean()\n",
    "    \n",
    "    # Add log of Review Count\n",
    "    df['log_Review_Count'] = np.log(df.Review_Count)\n",
    "    \n",
    "    # get rid of -infs as a result of logs on 0\n",
    "    df['log_Review_Count'] = np.where(df.log_Review_Count<0, 0, df.log_Review_Count)\n",
    "    \n",
    "    # map Room Type variable\n",
    "    df['Room_Type'] = df.Room_Type.map({'Shared room':0,'Private room':1, 'Entire home/apt':2})\n",
    "    \n",
    "    # make 'Has_Star_Rating' feature\n",
    "    df['Has_Star_Rating'] = np.where(df['Star_Rating']>1.0, 1, 0)\n",
    "    \n",
    "    cols = ['Bedrooms','Capacity','Price','Review_Count','Room_Type','Star_Rating','City','Avg_Price',\n",
    "           'log_Price','log_Avg_Price','log_Review_Count','Has_Star_Rating']\n",
    "    \n",
    "    return df[cols]\n",
    "    #return df\n",
    "    "
   ]
  },
  {
   "cell_type": "code",
   "execution_count": 143,
   "metadata": {
    "collapsed": false
   },
   "outputs": [],
   "source": [
    "processed_ny_df = preprocess_data(ny_df,'NY')"
   ]
  },
  {
   "cell_type": "code",
   "execution_count": 144,
   "metadata": {
    "collapsed": false
   },
   "outputs": [
    {
     "data": {
      "text/html": [
       "<div>\n",
       "<table border=\"1\" class=\"dataframe\">\n",
       "  <thead>\n",
       "    <tr style=\"text-align: right;\">\n",
       "      <th></th>\n",
       "      <th>Bedrooms</th>\n",
       "      <th>Capacity</th>\n",
       "      <th>Price</th>\n",
       "      <th>Review_Count</th>\n",
       "      <th>Room_Type</th>\n",
       "      <th>Star_Rating</th>\n",
       "      <th>City</th>\n",
       "      <th>Avg_Price</th>\n",
       "      <th>log_Price</th>\n",
       "      <th>log_Avg_Price</th>\n",
       "      <th>log_Review_Count</th>\n",
       "      <th>Has_Star_Rating</th>\n",
       "    </tr>\n",
       "  </thead>\n",
       "  <tbody>\n",
       "    <tr>\n",
       "      <th>0</th>\n",
       "      <td>1</td>\n",
       "      <td>2</td>\n",
       "      <td>198</td>\n",
       "      <td>17</td>\n",
       "      <td>2</td>\n",
       "      <td>5.0</td>\n",
       "      <td>NY</td>\n",
       "      <td>97.557377</td>\n",
       "      <td>5.288267</td>\n",
       "      <td>4.464576</td>\n",
       "      <td>2.833213</td>\n",
       "      <td>1</td>\n",
       "    </tr>\n",
       "    <tr>\n",
       "      <th>2</th>\n",
       "      <td>1</td>\n",
       "      <td>2</td>\n",
       "      <td>149</td>\n",
       "      <td>6</td>\n",
       "      <td>2</td>\n",
       "      <td>5.0</td>\n",
       "      <td>NY</td>\n",
       "      <td>97.557377</td>\n",
       "      <td>5.003946</td>\n",
       "      <td>4.464576</td>\n",
       "      <td>1.791759</td>\n",
       "      <td>1</td>\n",
       "    </tr>\n",
       "    <tr>\n",
       "      <th>3</th>\n",
       "      <td>1</td>\n",
       "      <td>4</td>\n",
       "      <td>55</td>\n",
       "      <td>0</td>\n",
       "      <td>2</td>\n",
       "      <td>0.0</td>\n",
       "      <td>NY</td>\n",
       "      <td>97.557377</td>\n",
       "      <td>4.007333</td>\n",
       "      <td>4.464576</td>\n",
       "      <td>0.000000</td>\n",
       "      <td>0</td>\n",
       "    </tr>\n",
       "    <tr>\n",
       "      <th>4</th>\n",
       "      <td>1</td>\n",
       "      <td>2</td>\n",
       "      <td>65</td>\n",
       "      <td>3</td>\n",
       "      <td>1</td>\n",
       "      <td>5.0</td>\n",
       "      <td>NY</td>\n",
       "      <td>97.557377</td>\n",
       "      <td>4.174387</td>\n",
       "      <td>4.464576</td>\n",
       "      <td>1.098612</td>\n",
       "      <td>1</td>\n",
       "    </tr>\n",
       "    <tr>\n",
       "      <th>5</th>\n",
       "      <td>1</td>\n",
       "      <td>1</td>\n",
       "      <td>61</td>\n",
       "      <td>66</td>\n",
       "      <td>1</td>\n",
       "      <td>4.5</td>\n",
       "      <td>NY</td>\n",
       "      <td>97.557377</td>\n",
       "      <td>4.110874</td>\n",
       "      <td>4.464576</td>\n",
       "      <td>4.189655</td>\n",
       "      <td>1</td>\n",
       "    </tr>\n",
       "  </tbody>\n",
       "</table>\n",
       "</div>"
      ],
      "text/plain": [
       "   Bedrooms  Capacity  Price  Review_Count  Room_Type  Star_Rating City  \\\n",
       "0         1         2    198            17          2          5.0   NY   \n",
       "2         1         2    149             6          2          5.0   NY   \n",
       "3         1         4     55             0          2          0.0   NY   \n",
       "4         1         2     65             3          1          5.0   NY   \n",
       "5         1         1     61            66          1          4.5   NY   \n",
       "\n",
       "   Avg_Price  log_Price  log_Avg_Price  log_Review_Count  Has_Star_Rating  \n",
       "0  97.557377   5.288267       4.464576          2.833213                1  \n",
       "2  97.557377   5.003946       4.464576          1.791759                1  \n",
       "3  97.557377   4.007333       4.464576          0.000000                0  \n",
       "4  97.557377   4.174387       4.464576          1.098612                1  \n",
       "5  97.557377   4.110874       4.464576          4.189655                1  "
      ]
     },
     "execution_count": 144,
     "metadata": {},
     "output_type": "execute_result"
    }
   ],
   "source": [
    "processed_ny_df.head()"
   ]
  },
  {
   "cell_type": "code",
   "execution_count": 145,
   "metadata": {
    "collapsed": false
   },
   "outputs": [
    {
     "data": {
      "text/html": [
       "<div>\n",
       "<table border=\"1\" class=\"dataframe\">\n",
       "  <thead>\n",
       "    <tr style=\"text-align: right;\">\n",
       "      <th></th>\n",
       "      <th>Bedrooms</th>\n",
       "      <th>Capacity</th>\n",
       "      <th>Id</th>\n",
       "      <th>Price</th>\n",
       "      <th>Property_Type</th>\n",
       "      <th>Review_Count</th>\n",
       "      <th>Room_Type</th>\n",
       "      <th>Star_Rating</th>\n",
       "    </tr>\n",
       "  </thead>\n",
       "  <tbody>\n",
       "    <tr>\n",
       "      <th>0</th>\n",
       "      <td>1</td>\n",
       "      <td>2</td>\n",
       "      <td>1692470</td>\n",
       "      <td>108</td>\n",
       "      <td>Apartment</td>\n",
       "      <td>186</td>\n",
       "      <td>Private room</td>\n",
       "      <td>5.0</td>\n",
       "    </tr>\n",
       "    <tr>\n",
       "      <th>1</th>\n",
       "      <td>1</td>\n",
       "      <td>1</td>\n",
       "      <td>7246789</td>\n",
       "      <td>140</td>\n",
       "      <td>Apartment</td>\n",
       "      <td>7</td>\n",
       "      <td>Private room</td>\n",
       "      <td>5.0</td>\n",
       "    </tr>\n",
       "    <tr>\n",
       "      <th>2</th>\n",
       "      <td>1</td>\n",
       "      <td>1</td>\n",
       "      <td>1093088</td>\n",
       "      <td>68</td>\n",
       "      <td>Apartment</td>\n",
       "      <td>106</td>\n",
       "      <td>Private room</td>\n",
       "      <td>5.0</td>\n",
       "    </tr>\n",
       "    <tr>\n",
       "      <th>3</th>\n",
       "      <td>1</td>\n",
       "      <td>3</td>\n",
       "      <td>3667551</td>\n",
       "      <td>110</td>\n",
       "      <td>Apartment</td>\n",
       "      <td>23</td>\n",
       "      <td>Private room</td>\n",
       "      <td>4.5</td>\n",
       "    </tr>\n",
       "    <tr>\n",
       "      <th>4</th>\n",
       "      <td>1</td>\n",
       "      <td>3</td>\n",
       "      <td>9347891</td>\n",
       "      <td>130</td>\n",
       "      <td>House</td>\n",
       "      <td>25</td>\n",
       "      <td>Entire home/apt</td>\n",
       "      <td>5.0</td>\n",
       "    </tr>\n",
       "  </tbody>\n",
       "</table>\n",
       "</div>"
      ],
      "text/plain": [
       "   Bedrooms  Capacity       Id  Price Property_Type  Review_Count  \\\n",
       "0         1         2  1692470    108     Apartment           186   \n",
       "1         1         1  7246789    140     Apartment             7   \n",
       "2         1         1  1093088     68     Apartment           106   \n",
       "3         1         3  3667551    110     Apartment            23   \n",
       "4         1         3  9347891    130         House            25   \n",
       "\n",
       "         Room_Type  Star_Rating  \n",
       "0     Private room          5.0  \n",
       "1     Private room          5.0  \n",
       "2     Private room          5.0  \n",
       "3     Private room          4.5  \n",
       "4  Entire home/apt          5.0  "
      ]
     },
     "execution_count": 145,
     "metadata": {},
     "output_type": "execute_result"
    }
   ],
   "source": [
    "sf_df.head()"
   ]
  },
  {
   "cell_type": "code",
   "execution_count": 146,
   "metadata": {
    "collapsed": true
   },
   "outputs": [],
   "source": [
    "processed_sf_df = preprocess_data(sf_df,'SF')"
   ]
  },
  {
   "cell_type": "code",
   "execution_count": 147,
   "metadata": {
    "collapsed": false
   },
   "outputs": [
    {
     "data": {
      "text/html": [
       "<div>\n",
       "<table border=\"1\" class=\"dataframe\">\n",
       "  <thead>\n",
       "    <tr style=\"text-align: right;\">\n",
       "      <th></th>\n",
       "      <th>Bedrooms</th>\n",
       "      <th>Capacity</th>\n",
       "      <th>Price</th>\n",
       "      <th>Review_Count</th>\n",
       "      <th>Room_Type</th>\n",
       "      <th>Star_Rating</th>\n",
       "      <th>City</th>\n",
       "      <th>Avg_Price</th>\n",
       "      <th>log_Price</th>\n",
       "      <th>log_Avg_Price</th>\n",
       "      <th>log_Review_Count</th>\n",
       "      <th>Has_Star_Rating</th>\n",
       "    </tr>\n",
       "  </thead>\n",
       "  <tbody>\n",
       "    <tr>\n",
       "      <th>0</th>\n",
       "      <td>1</td>\n",
       "      <td>2</td>\n",
       "      <td>108</td>\n",
       "      <td>186</td>\n",
       "      <td>1</td>\n",
       "      <td>5.0</td>\n",
       "      <td>SF</td>\n",
       "      <td>123.065359</td>\n",
       "      <td>4.682131</td>\n",
       "      <td>4.705857</td>\n",
       "      <td>5.225747</td>\n",
       "      <td>1</td>\n",
       "    </tr>\n",
       "    <tr>\n",
       "      <th>1</th>\n",
       "      <td>1</td>\n",
       "      <td>1</td>\n",
       "      <td>140</td>\n",
       "      <td>7</td>\n",
       "      <td>1</td>\n",
       "      <td>5.0</td>\n",
       "      <td>SF</td>\n",
       "      <td>123.065359</td>\n",
       "      <td>4.941642</td>\n",
       "      <td>4.705857</td>\n",
       "      <td>1.945910</td>\n",
       "      <td>1</td>\n",
       "    </tr>\n",
       "    <tr>\n",
       "      <th>2</th>\n",
       "      <td>1</td>\n",
       "      <td>1</td>\n",
       "      <td>68</td>\n",
       "      <td>106</td>\n",
       "      <td>1</td>\n",
       "      <td>5.0</td>\n",
       "      <td>SF</td>\n",
       "      <td>123.065359</td>\n",
       "      <td>4.219508</td>\n",
       "      <td>4.705857</td>\n",
       "      <td>4.663439</td>\n",
       "      <td>1</td>\n",
       "    </tr>\n",
       "    <tr>\n",
       "      <th>3</th>\n",
       "      <td>1</td>\n",
       "      <td>3</td>\n",
       "      <td>110</td>\n",
       "      <td>23</td>\n",
       "      <td>1</td>\n",
       "      <td>4.5</td>\n",
       "      <td>SF</td>\n",
       "      <td>123.065359</td>\n",
       "      <td>4.700480</td>\n",
       "      <td>4.705857</td>\n",
       "      <td>3.135494</td>\n",
       "      <td>1</td>\n",
       "    </tr>\n",
       "    <tr>\n",
       "      <th>4</th>\n",
       "      <td>1</td>\n",
       "      <td>3</td>\n",
       "      <td>130</td>\n",
       "      <td>25</td>\n",
       "      <td>2</td>\n",
       "      <td>5.0</td>\n",
       "      <td>SF</td>\n",
       "      <td>123.065359</td>\n",
       "      <td>4.867534</td>\n",
       "      <td>4.705857</td>\n",
       "      <td>3.218876</td>\n",
       "      <td>1</td>\n",
       "    </tr>\n",
       "  </tbody>\n",
       "</table>\n",
       "</div>"
      ],
      "text/plain": [
       "   Bedrooms  Capacity  Price  Review_Count  Room_Type  Star_Rating City  \\\n",
       "0         1         2    108           186          1          5.0   SF   \n",
       "1         1         1    140             7          1          5.0   SF   \n",
       "2         1         1     68           106          1          5.0   SF   \n",
       "3         1         3    110            23          1          4.5   SF   \n",
       "4         1         3    130            25          2          5.0   SF   \n",
       "\n",
       "    Avg_Price  log_Price  log_Avg_Price  log_Review_Count  Has_Star_Rating  \n",
       "0  123.065359   4.682131       4.705857          5.225747                1  \n",
       "1  123.065359   4.941642       4.705857          1.945910                1  \n",
       "2  123.065359   4.219508       4.705857          4.663439                1  \n",
       "3  123.065359   4.700480       4.705857          3.135494                1  \n",
       "4  123.065359   4.867534       4.705857          3.218876                1  "
      ]
     },
     "execution_count": 147,
     "metadata": {},
     "output_type": "execute_result"
    }
   ],
   "source": [
    "processed_sf_df.head()"
   ]
  },
  {
   "cell_type": "code",
   "execution_count": 148,
   "metadata": {
    "collapsed": false
   },
   "outputs": [
    {
     "data": {
      "text/html": [
       "<div>\n",
       "<table border=\"1\" class=\"dataframe\">\n",
       "  <thead>\n",
       "    <tr style=\"text-align: right;\">\n",
       "      <th></th>\n",
       "      <th>Bedrooms</th>\n",
       "      <th>Capacity</th>\n",
       "      <th>Id</th>\n",
       "      <th>Price</th>\n",
       "      <th>Property_Type</th>\n",
       "      <th>Review_Count</th>\n",
       "      <th>Room_Type</th>\n",
       "      <th>Star_Rating</th>\n",
       "    </tr>\n",
       "  </thead>\n",
       "  <tbody>\n",
       "    <tr>\n",
       "      <th>0</th>\n",
       "      <td>2</td>\n",
       "      <td>4</td>\n",
       "      <td>12038456</td>\n",
       "      <td>250</td>\n",
       "      <td>Apartment</td>\n",
       "      <td>0</td>\n",
       "      <td>Entire home/apt</td>\n",
       "      <td>0.0</td>\n",
       "    </tr>\n",
       "    <tr>\n",
       "      <th>1</th>\n",
       "      <td>1</td>\n",
       "      <td>2</td>\n",
       "      <td>10814985</td>\n",
       "      <td>42</td>\n",
       "      <td>Apartment</td>\n",
       "      <td>3</td>\n",
       "      <td>Private room</td>\n",
       "      <td>5.0</td>\n",
       "    </tr>\n",
       "    <tr>\n",
       "      <th>2</th>\n",
       "      <td>1</td>\n",
       "      <td>3</td>\n",
       "      <td>8226591</td>\n",
       "      <td>65</td>\n",
       "      <td>Apartment</td>\n",
       "      <td>7</td>\n",
       "      <td>Entire home/apt</td>\n",
       "      <td>4.5</td>\n",
       "    </tr>\n",
       "    <tr>\n",
       "      <th>3</th>\n",
       "      <td>2</td>\n",
       "      <td>4</td>\n",
       "      <td>9463896</td>\n",
       "      <td>140</td>\n",
       "      <td>House</td>\n",
       "      <td>9</td>\n",
       "      <td>Entire home/apt</td>\n",
       "      <td>4.5</td>\n",
       "    </tr>\n",
       "    <tr>\n",
       "      <th>4</th>\n",
       "      <td>0</td>\n",
       "      <td>2</td>\n",
       "      <td>12020409</td>\n",
       "      <td>169</td>\n",
       "      <td>House</td>\n",
       "      <td>2</td>\n",
       "      <td>Entire home/apt</td>\n",
       "      <td>0.0</td>\n",
       "    </tr>\n",
       "  </tbody>\n",
       "</table>\n",
       "</div>"
      ],
      "text/plain": [
       "   Bedrooms  Capacity        Id  Price Property_Type  Review_Count  \\\n",
       "0         2         4  12038456    250     Apartment             0   \n",
       "1         1         2  10814985     42     Apartment             3   \n",
       "2         1         3   8226591     65     Apartment             7   \n",
       "3         2         4   9463896    140         House             9   \n",
       "4         0         2  12020409    169         House             2   \n",
       "\n",
       "         Room_Type  Star_Rating  \n",
       "0  Entire home/apt          0.0  \n",
       "1     Private room          5.0  \n",
       "2  Entire home/apt          4.5  \n",
       "3  Entire home/apt          4.5  \n",
       "4  Entire home/apt          0.0  "
      ]
     },
     "execution_count": 148,
     "metadata": {},
     "output_type": "execute_result"
    }
   ],
   "source": [
    "la_df.head()"
   ]
  },
  {
   "cell_type": "code",
   "execution_count": 149,
   "metadata": {
    "collapsed": true
   },
   "outputs": [],
   "source": [
    "processed_la_df = preprocess_data(la_df,'LA')"
   ]
  },
  {
   "cell_type": "code",
   "execution_count": 150,
   "metadata": {
    "collapsed": false
   },
   "outputs": [
    {
     "data": {
      "text/html": [
       "<div>\n",
       "<table border=\"1\" class=\"dataframe\">\n",
       "  <thead>\n",
       "    <tr style=\"text-align: right;\">\n",
       "      <th></th>\n",
       "      <th>Bedrooms</th>\n",
       "      <th>Capacity</th>\n",
       "      <th>Price</th>\n",
       "      <th>Review_Count</th>\n",
       "      <th>Room_Type</th>\n",
       "      <th>Star_Rating</th>\n",
       "      <th>City</th>\n",
       "      <th>Avg_Price</th>\n",
       "      <th>log_Price</th>\n",
       "      <th>log_Avg_Price</th>\n",
       "      <th>log_Review_Count</th>\n",
       "      <th>Has_Star_Rating</th>\n",
       "    </tr>\n",
       "  </thead>\n",
       "  <tbody>\n",
       "    <tr>\n",
       "      <th>0</th>\n",
       "      <td>2</td>\n",
       "      <td>4</td>\n",
       "      <td>250</td>\n",
       "      <td>0</td>\n",
       "      <td>2</td>\n",
       "      <td>0.0</td>\n",
       "      <td>LA</td>\n",
       "      <td>83.980392</td>\n",
       "      <td>5.521461</td>\n",
       "      <td>4.338542</td>\n",
       "      <td>0.000000</td>\n",
       "      <td>0</td>\n",
       "    </tr>\n",
       "    <tr>\n",
       "      <th>1</th>\n",
       "      <td>1</td>\n",
       "      <td>2</td>\n",
       "      <td>42</td>\n",
       "      <td>3</td>\n",
       "      <td>1</td>\n",
       "      <td>5.0</td>\n",
       "      <td>LA</td>\n",
       "      <td>83.980392</td>\n",
       "      <td>3.737670</td>\n",
       "      <td>4.338542</td>\n",
       "      <td>1.098612</td>\n",
       "      <td>1</td>\n",
       "    </tr>\n",
       "    <tr>\n",
       "      <th>2</th>\n",
       "      <td>1</td>\n",
       "      <td>3</td>\n",
       "      <td>65</td>\n",
       "      <td>7</td>\n",
       "      <td>2</td>\n",
       "      <td>4.5</td>\n",
       "      <td>LA</td>\n",
       "      <td>83.980392</td>\n",
       "      <td>4.174387</td>\n",
       "      <td>4.338542</td>\n",
       "      <td>1.945910</td>\n",
       "      <td>1</td>\n",
       "    </tr>\n",
       "    <tr>\n",
       "      <th>3</th>\n",
       "      <td>2</td>\n",
       "      <td>4</td>\n",
       "      <td>140</td>\n",
       "      <td>9</td>\n",
       "      <td>2</td>\n",
       "      <td>4.5</td>\n",
       "      <td>LA</td>\n",
       "      <td>83.980392</td>\n",
       "      <td>4.941642</td>\n",
       "      <td>4.338542</td>\n",
       "      <td>2.197225</td>\n",
       "      <td>1</td>\n",
       "    </tr>\n",
       "    <tr>\n",
       "      <th>4</th>\n",
       "      <td>0</td>\n",
       "      <td>2</td>\n",
       "      <td>169</td>\n",
       "      <td>2</td>\n",
       "      <td>2</td>\n",
       "      <td>0.0</td>\n",
       "      <td>LA</td>\n",
       "      <td>83.980392</td>\n",
       "      <td>5.129899</td>\n",
       "      <td>4.338542</td>\n",
       "      <td>0.693147</td>\n",
       "      <td>0</td>\n",
       "    </tr>\n",
       "  </tbody>\n",
       "</table>\n",
       "</div>"
      ],
      "text/plain": [
       "   Bedrooms  Capacity  Price  Review_Count  Room_Type  Star_Rating City  \\\n",
       "0         2         4    250             0          2          0.0   LA   \n",
       "1         1         2     42             3          1          5.0   LA   \n",
       "2         1         3     65             7          2          4.5   LA   \n",
       "3         2         4    140             9          2          4.5   LA   \n",
       "4         0         2    169             2          2          0.0   LA   \n",
       "\n",
       "   Avg_Price  log_Price  log_Avg_Price  log_Review_Count  Has_Star_Rating  \n",
       "0  83.980392   5.521461       4.338542          0.000000                0  \n",
       "1  83.980392   3.737670       4.338542          1.098612                1  \n",
       "2  83.980392   4.174387       4.338542          1.945910                1  \n",
       "3  83.980392   4.941642       4.338542          2.197225                1  \n",
       "4  83.980392   5.129899       4.338542          0.693147                0  "
      ]
     },
     "execution_count": 150,
     "metadata": {},
     "output_type": "execute_result"
    }
   ],
   "source": [
    "processed_la_df.head()"
   ]
  },
  {
   "cell_type": "code",
   "execution_count": null,
   "metadata": {
    "collapsed": true
   },
   "outputs": [],
   "source": []
  },
  {
   "cell_type": "code",
   "execution_count": null,
   "metadata": {
    "collapsed": true
   },
   "outputs": [],
   "source": []
  },
  {
   "cell_type": "code",
   "execution_count": 5,
   "metadata": {
    "collapsed": true
   },
   "outputs": [],
   "source": [
    "def preprocess_data(df):\n",
    "    \"\"\"Take in df and map/dummify object columns\"\"\"\n",
    "\n",
    "    # process non-numeric data types\n",
    "    df['Room_Type'] = df.Room_Type.map({'Shared room':0,'Private room':1, 'Entire home/apt':2})\n",
    "\n",
    "    # get_dummies for Property_Type, initially was going to do, but not enough non-Apartments\n",
    "    #temp_df pd.get_dummies(df.Property_Type, prefix='Ptype')  # e.g. 'Property_Type' => 'Ptype_Apartment'\n",
    "    #df = pd.concat([df, temp_df])\n",
    "\n",
    "    return df "
   ]
  },
  {
   "cell_type": "code",
   "execution_count": 6,
   "metadata": {
    "collapsed": true
   },
   "outputs": [],
   "source": [
    "sf_df = preprocess_data(sf_df)"
   ]
  },
  {
   "cell_type": "code",
   "execution_count": 18,
   "metadata": {
    "collapsed": false
   },
   "outputs": [
    {
     "data": {
      "text/plain": [
       "Star_Rating\n",
       "0.0    125.722892\n",
       "4.0     66.500000\n",
       "4.5     93.458824\n",
       "5.0     99.825758\n",
       "Name: Price, dtype: float64"
      ]
     },
     "execution_count": 18,
     "metadata": {},
     "output_type": "execute_result"
    }
   ],
   "source": [
    "gb = ny_df.groupby('Star_Rating').Price.mean()\n",
    "gb"
   ]
  },
  {
   "cell_type": "code",
   "execution_count": 20,
   "metadata": {
    "collapsed": false
   },
   "outputs": [
    {
     "data": {
      "text/plain": [
       "Capacity\n",
       "1      58.303571\n",
       "2      94.967033\n",
       "3     138.827586\n",
       "4     130.848485\n",
       "5     102.000000\n",
       "6     135.000000\n",
       "7    2200.000000\n",
       "8     245.000000\n",
       "Name: Price, dtype: float64"
      ]
     },
     "execution_count": 20,
     "metadata": {},
     "output_type": "execute_result"
    }
   ],
   "source": [
    "gb2 = ny_df.groupby('Capacity').Price.mean()\n",
    "gb2"
   ]
  },
  {
   "cell_type": "code",
   "execution_count": 22,
   "metadata": {
    "collapsed": false
   },
   "outputs": [
    {
     "data": {
      "text/plain": [
       "Room_Type\n",
       "0     49.333333\n",
       "1     70.538462\n",
       "2    143.437500\n",
       "Name: Price, dtype: float64"
      ]
     },
     "execution_count": 22,
     "metadata": {},
     "output_type": "execute_result"
    }
   ],
   "source": [
    "gb3 = ny_df.groupby('Room_Type').Price.mean()\n",
    "gb3"
   ]
  },
  {
   "cell_type": "code",
   "execution_count": 65,
   "metadata": {
    "collapsed": false
   },
   "outputs": [
    {
     "data": {
      "text/plain": [
       "Bedrooms\n",
       "0    126.462963\n",
       "1     88.087866\n",
       "2    321.500000\n",
       "3    215.000000\n",
       "Name: Price, dtype: float64"
      ]
     },
     "execution_count": 65,
     "metadata": {},
     "output_type": "execute_result"
    }
   ],
   "source": [
    "gb4 = ny_df.groupby('Bedrooms').Price.mean()\n",
    "gb4"
   ]
  },
  {
   "cell_type": "code",
   "execution_count": 7,
   "metadata": {
    "collapsed": true
   },
   "outputs": [],
   "source": [
    "ny_df['City'] = 'NY'"
   ]
  },
  {
   "cell_type": "code",
   "execution_count": 8,
   "metadata": {
    "collapsed": false
   },
   "outputs": [
    {
     "data": {
      "text/html": [
       "<div>\n",
       "<table border=\"1\" class=\"dataframe\">\n",
       "  <thead>\n",
       "    <tr style=\"text-align: right;\">\n",
       "      <th></th>\n",
       "      <th>Bedrooms</th>\n",
       "      <th>Capacity</th>\n",
       "      <th>Id</th>\n",
       "      <th>Price</th>\n",
       "      <th>Property_Type</th>\n",
       "      <th>Review_Count</th>\n",
       "      <th>Room_Type</th>\n",
       "      <th>Star_Rating</th>\n",
       "      <th>City</th>\n",
       "    </tr>\n",
       "  </thead>\n",
       "  <tbody>\n",
       "    <tr>\n",
       "      <th>0</th>\n",
       "      <td>1</td>\n",
       "      <td>2</td>\n",
       "      <td>6882689</td>\n",
       "      <td>198</td>\n",
       "      <td>Apartment</td>\n",
       "      <td>17</td>\n",
       "      <td>2</td>\n",
       "      <td>5</td>\n",
       "      <td>NY</td>\n",
       "    </tr>\n",
       "    <tr>\n",
       "      <th>1</th>\n",
       "      <td>2</td>\n",
       "      <td>7</td>\n",
       "      <td>12022627</td>\n",
       "      <td>2200</td>\n",
       "      <td>Apartment</td>\n",
       "      <td>0</td>\n",
       "      <td>2</td>\n",
       "      <td>0</td>\n",
       "      <td>NY</td>\n",
       "    </tr>\n",
       "    <tr>\n",
       "      <th>2</th>\n",
       "      <td>1</td>\n",
       "      <td>2</td>\n",
       "      <td>8940740</td>\n",
       "      <td>149</td>\n",
       "      <td>Apartment</td>\n",
       "      <td>6</td>\n",
       "      <td>2</td>\n",
       "      <td>5</td>\n",
       "      <td>NY</td>\n",
       "    </tr>\n",
       "    <tr>\n",
       "      <th>3</th>\n",
       "      <td>1</td>\n",
       "      <td>4</td>\n",
       "      <td>12035970</td>\n",
       "      <td>55</td>\n",
       "      <td>Apartment</td>\n",
       "      <td>0</td>\n",
       "      <td>2</td>\n",
       "      <td>0</td>\n",
       "      <td>NY</td>\n",
       "    </tr>\n",
       "    <tr>\n",
       "      <th>4</th>\n",
       "      <td>1</td>\n",
       "      <td>2</td>\n",
       "      <td>11642165</td>\n",
       "      <td>65</td>\n",
       "      <td>Apartment</td>\n",
       "      <td>3</td>\n",
       "      <td>1</td>\n",
       "      <td>5</td>\n",
       "      <td>NY</td>\n",
       "    </tr>\n",
       "  </tbody>\n",
       "</table>\n",
       "</div>"
      ],
      "text/plain": [
       "   Bedrooms  Capacity        Id  Price Property_Type  Review_Count  Room_Type  \\\n",
       "0         1         2   6882689    198     Apartment            17          2   \n",
       "1         2         7  12022627   2200     Apartment             0          2   \n",
       "2         1         2   8940740    149     Apartment             6          2   \n",
       "3         1         4  12035970     55     Apartment             0          2   \n",
       "4         1         2  11642165     65     Apartment             3          1   \n",
       "\n",
       "   Star_Rating City  \n",
       "0            5   NY  \n",
       "1            0   NY  \n",
       "2            5   NY  \n",
       "3            0   NY  \n",
       "4            5   NY  "
      ]
     },
     "execution_count": 8,
     "metadata": {},
     "output_type": "execute_result"
    }
   ],
   "source": [
    "ny_df.head()"
   ]
  },
  {
   "cell_type": "code",
   "execution_count": 9,
   "metadata": {
    "collapsed": true
   },
   "outputs": [],
   "source": [
    "la_df['City'] = 'LA'\n",
    "sf_df['City'] = 'SF'"
   ]
  },
  {
   "cell_type": "code",
   "execution_count": 10,
   "metadata": {
    "collapsed": true
   },
   "outputs": [],
   "source": [
    "ny_df['Avg_Price'] = ny_df.Price.mean()"
   ]
  },
  {
   "cell_type": "code",
   "execution_count": 11,
   "metadata": {
    "collapsed": false
   },
   "outputs": [],
   "source": [
    "la_df['Avg_Price'] = la_df.Price.mean()\n",
    "sf_df['Avg_Price'] = sf_df.Price.mean()"
   ]
  },
  {
   "cell_type": "code",
   "execution_count": 12,
   "metadata": {
    "collapsed": false
   },
   "outputs": [],
   "source": [
    "def combine_dfs(df_list):\n",
    "    data_frame = None\n",
    "    for df in df_list:\n",
    "        if data_frame is None:\n",
    "            data_frame = df\n",
    "        else:\n",
    "            data_frame = data_frame.append(df)\n",
    "    return data_frame"
   ]
  },
  {
   "cell_type": "code",
   "execution_count": 13,
   "metadata": {
    "collapsed": false
   },
   "outputs": [],
   "source": [
    "df_list = [ny_df, la_df, sf_df]\n",
    "combined_df = combine_dfs(df_list)"
   ]
  },
  {
   "cell_type": "code",
   "execution_count": 14,
   "metadata": {
    "collapsed": false
   },
   "outputs": [
    {
     "data": {
      "text/html": [
       "<div>\n",
       "<table border=\"1\" class=\"dataframe\">\n",
       "  <thead>\n",
       "    <tr style=\"text-align: right;\">\n",
       "      <th></th>\n",
       "      <th>Bedrooms</th>\n",
       "      <th>Capacity</th>\n",
       "      <th>Id</th>\n",
       "      <th>Price</th>\n",
       "      <th>Property_Type</th>\n",
       "      <th>Review_Count</th>\n",
       "      <th>Room_Type</th>\n",
       "      <th>Star_Rating</th>\n",
       "      <th>City</th>\n",
       "      <th>Avg_Price</th>\n",
       "    </tr>\n",
       "  </thead>\n",
       "  <tbody>\n",
       "    <tr>\n",
       "      <th>0</th>\n",
       "      <td>1</td>\n",
       "      <td>2</td>\n",
       "      <td>6882689</td>\n",
       "      <td>198</td>\n",
       "      <td>Apartment</td>\n",
       "      <td>17</td>\n",
       "      <td>2</td>\n",
       "      <td>5</td>\n",
       "      <td>NY</td>\n",
       "      <td>104.428105</td>\n",
       "    </tr>\n",
       "    <tr>\n",
       "      <th>1</th>\n",
       "      <td>2</td>\n",
       "      <td>7</td>\n",
       "      <td>12022627</td>\n",
       "      <td>2200</td>\n",
       "      <td>Apartment</td>\n",
       "      <td>0</td>\n",
       "      <td>2</td>\n",
       "      <td>0</td>\n",
       "      <td>NY</td>\n",
       "      <td>104.428105</td>\n",
       "    </tr>\n",
       "    <tr>\n",
       "      <th>2</th>\n",
       "      <td>1</td>\n",
       "      <td>2</td>\n",
       "      <td>8940740</td>\n",
       "      <td>149</td>\n",
       "      <td>Apartment</td>\n",
       "      <td>6</td>\n",
       "      <td>2</td>\n",
       "      <td>5</td>\n",
       "      <td>NY</td>\n",
       "      <td>104.428105</td>\n",
       "    </tr>\n",
       "    <tr>\n",
       "      <th>3</th>\n",
       "      <td>1</td>\n",
       "      <td>4</td>\n",
       "      <td>12035970</td>\n",
       "      <td>55</td>\n",
       "      <td>Apartment</td>\n",
       "      <td>0</td>\n",
       "      <td>2</td>\n",
       "      <td>0</td>\n",
       "      <td>NY</td>\n",
       "      <td>104.428105</td>\n",
       "    </tr>\n",
       "    <tr>\n",
       "      <th>4</th>\n",
       "      <td>1</td>\n",
       "      <td>2</td>\n",
       "      <td>11642165</td>\n",
       "      <td>65</td>\n",
       "      <td>Apartment</td>\n",
       "      <td>3</td>\n",
       "      <td>1</td>\n",
       "      <td>5</td>\n",
       "      <td>NY</td>\n",
       "      <td>104.428105</td>\n",
       "    </tr>\n",
       "  </tbody>\n",
       "</table>\n",
       "</div>"
      ],
      "text/plain": [
       "   Bedrooms  Capacity        Id  Price Property_Type  Review_Count  Room_Type  \\\n",
       "0         1         2   6882689    198     Apartment            17          2   \n",
       "1         2         7  12022627   2200     Apartment             0          2   \n",
       "2         1         2   8940740    149     Apartment             6          2   \n",
       "3         1         4  12035970     55     Apartment             0          2   \n",
       "4         1         2  11642165     65     Apartment             3          1   \n",
       "\n",
       "   Star_Rating City   Avg_Price  \n",
       "0            5   NY  104.428105  \n",
       "1            0   NY  104.428105  \n",
       "2            5   NY  104.428105  \n",
       "3            0   NY  104.428105  \n",
       "4            5   NY  104.428105  "
      ]
     },
     "execution_count": 14,
     "metadata": {},
     "output_type": "execute_result"
    }
   ],
   "source": [
    "combined_df.head()"
   ]
  },
  {
   "cell_type": "code",
   "execution_count": 15,
   "metadata": {
    "collapsed": false
   },
   "outputs": [],
   "source": [
    "# remove that outlier\n",
    "combined_df = combined_df[combined_df.Price<2000]"
   ]
  },
  {
   "cell_type": "code",
   "execution_count": 51,
   "metadata": {
    "collapsed": false
   },
   "outputs": [
    {
     "data": {
      "text/html": [
       "<div>\n",
       "<table border=\"1\" class=\"dataframe\">\n",
       "  <thead>\n",
       "    <tr style=\"text-align: right;\">\n",
       "      <th></th>\n",
       "      <th>Bedrooms</th>\n",
       "      <th>Capacity</th>\n",
       "      <th>Id</th>\n",
       "      <th>Price</th>\n",
       "      <th>Property_Type</th>\n",
       "      <th>Review_Count</th>\n",
       "      <th>Room_Type</th>\n",
       "      <th>Star_Rating</th>\n",
       "      <th>City</th>\n",
       "      <th>Avg_Price</th>\n",
       "    </tr>\n",
       "  </thead>\n",
       "  <tbody>\n",
       "    <tr>\n",
       "      <th>0</th>\n",
       "      <td>1</td>\n",
       "      <td>2</td>\n",
       "      <td>6882689</td>\n",
       "      <td>198</td>\n",
       "      <td>Apartment</td>\n",
       "      <td>17</td>\n",
       "      <td>2</td>\n",
       "      <td>5.0</td>\n",
       "      <td>NY</td>\n",
       "      <td>104.428105</td>\n",
       "    </tr>\n",
       "    <tr>\n",
       "      <th>2</th>\n",
       "      <td>1</td>\n",
       "      <td>2</td>\n",
       "      <td>8940740</td>\n",
       "      <td>149</td>\n",
       "      <td>Apartment</td>\n",
       "      <td>6</td>\n",
       "      <td>2</td>\n",
       "      <td>5.0</td>\n",
       "      <td>NY</td>\n",
       "      <td>104.428105</td>\n",
       "    </tr>\n",
       "    <tr>\n",
       "      <th>3</th>\n",
       "      <td>1</td>\n",
       "      <td>4</td>\n",
       "      <td>12035970</td>\n",
       "      <td>55</td>\n",
       "      <td>Apartment</td>\n",
       "      <td>0</td>\n",
       "      <td>2</td>\n",
       "      <td>0.0</td>\n",
       "      <td>NY</td>\n",
       "      <td>104.428105</td>\n",
       "    </tr>\n",
       "    <tr>\n",
       "      <th>4</th>\n",
       "      <td>1</td>\n",
       "      <td>2</td>\n",
       "      <td>11642165</td>\n",
       "      <td>65</td>\n",
       "      <td>Apartment</td>\n",
       "      <td>3</td>\n",
       "      <td>1</td>\n",
       "      <td>5.0</td>\n",
       "      <td>NY</td>\n",
       "      <td>104.428105</td>\n",
       "    </tr>\n",
       "    <tr>\n",
       "      <th>5</th>\n",
       "      <td>1</td>\n",
       "      <td>1</td>\n",
       "      <td>648047</td>\n",
       "      <td>61</td>\n",
       "      <td>Apartment</td>\n",
       "      <td>66</td>\n",
       "      <td>1</td>\n",
       "      <td>4.5</td>\n",
       "      <td>NY</td>\n",
       "      <td>104.428105</td>\n",
       "    </tr>\n",
       "  </tbody>\n",
       "</table>\n",
       "</div>"
      ],
      "text/plain": [
       "   Bedrooms  Capacity        Id  Price Property_Type  Review_Count Room_Type  \\\n",
       "0         1         2   6882689    198     Apartment            17         2   \n",
       "2         1         2   8940740    149     Apartment             6         2   \n",
       "3         1         4  12035970     55     Apartment             0         2   \n",
       "4         1         2  11642165     65     Apartment             3         1   \n",
       "5         1         1    648047     61     Apartment            66         1   \n",
       "\n",
       "   Star_Rating City   Avg_Price  \n",
       "0          5.0   NY  104.428105  \n",
       "2          5.0   NY  104.428105  \n",
       "3          0.0   NY  104.428105  \n",
       "4          5.0   NY  104.428105  \n",
       "5          4.5   NY  104.428105  "
      ]
     },
     "execution_count": 51,
     "metadata": {},
     "output_type": "execute_result"
    }
   ],
   "source": [
    "combined_df.head()"
   ]
  },
  {
   "cell_type": "markdown",
   "metadata": {},
   "source": [
    "# Baseline model where prediction = Average Price for a given city"
   ]
  },
  {
   "cell_type": "code",
   "execution_count": 26,
   "metadata": {
    "collapsed": true
   },
   "outputs": [],
   "source": [
    "from sklearn import metrics"
   ]
  },
  {
   "cell_type": "code",
   "execution_count": 56,
   "metadata": {
    "collapsed": true
   },
   "outputs": [],
   "source": [
    "base_predictions = np.log(combined_df.Avg_Price)"
   ]
  },
  {
   "cell_type": "code",
   "execution_count": 59,
   "metadata": {
    "collapsed": true
   },
   "outputs": [],
   "source": [
    "y = np.log(combined_df.Price)"
   ]
  },
  {
   "cell_type": "code",
   "execution_count": 60,
   "metadata": {
    "collapsed": false
   },
   "outputs": [],
   "source": [
    "error = y - base_predictions"
   ]
  },
  {
   "cell_type": "code",
   "execution_count": 94,
   "metadata": {
    "collapsed": false
   },
   "outputs": [
    {
     "data": {
      "text/plain": [
       "0.022980756866397445"
      ]
     },
     "execution_count": 94,
     "metadata": {},
     "output_type": "execute_result"
    }
   ],
   "source": [
    "base_r2 = metrics.r2_score(y, base_predictions)\n",
    "base_r2"
   ]
  },
  {
   "cell_type": "markdown",
   "metadata": {},
   "source": [
    "### Baseline r^2 is 0.02298, we will build linear regression model that beats this value."
   ]
  },
  {
   "cell_type": "code",
   "execution_count": 21,
   "metadata": {
    "collapsed": true
   },
   "outputs": [],
   "source": [
    "from sklearn.linear_model import Ridge\n",
    "from sklearn.cross_validation import train_test_split"
   ]
  },
  {
   "cell_type": "code",
   "execution_count": 18,
   "metadata": {
    "collapsed": false
   },
   "outputs": [
    {
     "data": {
      "text/html": [
       "<div>\n",
       "<table border=\"1\" class=\"dataframe\">\n",
       "  <thead>\n",
       "    <tr style=\"text-align: right;\">\n",
       "      <th></th>\n",
       "      <th>Bedrooms</th>\n",
       "      <th>Capacity</th>\n",
       "      <th>Id</th>\n",
       "      <th>Price</th>\n",
       "      <th>Property_Type</th>\n",
       "      <th>Review_Count</th>\n",
       "      <th>Room_Type</th>\n",
       "      <th>Star_Rating</th>\n",
       "      <th>City</th>\n",
       "      <th>Avg_Price</th>\n",
       "      <th>City_NY</th>\n",
       "      <th>City_SF</th>\n",
       "    </tr>\n",
       "  </thead>\n",
       "  <tbody>\n",
       "    <tr>\n",
       "      <th>0</th>\n",
       "      <td>1</td>\n",
       "      <td>2</td>\n",
       "      <td>6882689</td>\n",
       "      <td>198</td>\n",
       "      <td>Apartment</td>\n",
       "      <td>17</td>\n",
       "      <td>2</td>\n",
       "      <td>5.0</td>\n",
       "      <td>NY</td>\n",
       "      <td>104.428105</td>\n",
       "      <td>1</td>\n",
       "      <td>0</td>\n",
       "    </tr>\n",
       "    <tr>\n",
       "      <th>2</th>\n",
       "      <td>1</td>\n",
       "      <td>2</td>\n",
       "      <td>8940740</td>\n",
       "      <td>149</td>\n",
       "      <td>Apartment</td>\n",
       "      <td>6</td>\n",
       "      <td>2</td>\n",
       "      <td>5.0</td>\n",
       "      <td>NY</td>\n",
       "      <td>104.428105</td>\n",
       "      <td>1</td>\n",
       "      <td>0</td>\n",
       "    </tr>\n",
       "    <tr>\n",
       "      <th>3</th>\n",
       "      <td>1</td>\n",
       "      <td>4</td>\n",
       "      <td>12035970</td>\n",
       "      <td>55</td>\n",
       "      <td>Apartment</td>\n",
       "      <td>0</td>\n",
       "      <td>2</td>\n",
       "      <td>0.0</td>\n",
       "      <td>NY</td>\n",
       "      <td>104.428105</td>\n",
       "      <td>1</td>\n",
       "      <td>0</td>\n",
       "    </tr>\n",
       "    <tr>\n",
       "      <th>4</th>\n",
       "      <td>1</td>\n",
       "      <td>2</td>\n",
       "      <td>11642165</td>\n",
       "      <td>65</td>\n",
       "      <td>Apartment</td>\n",
       "      <td>3</td>\n",
       "      <td>1</td>\n",
       "      <td>5.0</td>\n",
       "      <td>NY</td>\n",
       "      <td>104.428105</td>\n",
       "      <td>1</td>\n",
       "      <td>0</td>\n",
       "    </tr>\n",
       "    <tr>\n",
       "      <th>5</th>\n",
       "      <td>1</td>\n",
       "      <td>1</td>\n",
       "      <td>648047</td>\n",
       "      <td>61</td>\n",
       "      <td>Apartment</td>\n",
       "      <td>66</td>\n",
       "      <td>1</td>\n",
       "      <td>4.5</td>\n",
       "      <td>NY</td>\n",
       "      <td>104.428105</td>\n",
       "      <td>1</td>\n",
       "      <td>0</td>\n",
       "    </tr>\n",
       "  </tbody>\n",
       "</table>\n",
       "</div>"
      ],
      "text/plain": [
       "   Bedrooms  Capacity        Id  Price Property_Type  Review_Count  Room_Type  \\\n",
       "0         1         2   6882689    198     Apartment            17          2   \n",
       "2         1         2   8940740    149     Apartment             6          2   \n",
       "3         1         4  12035970     55     Apartment             0          2   \n",
       "4         1         2  11642165     65     Apartment             3          1   \n",
       "5         1         1    648047     61     Apartment            66          1   \n",
       "\n",
       "   Star_Rating City   Avg_Price  City_NY  City_SF  \n",
       "0          5.0   NY  104.428105        1        0  \n",
       "2          5.0   NY  104.428105        1        0  \n",
       "3          0.0   NY  104.428105        1        0  \n",
       "4          5.0   NY  104.428105        1        0  \n",
       "5          4.5   NY  104.428105        1        0  "
      ]
     },
     "execution_count": 18,
     "metadata": {},
     "output_type": "execute_result"
    }
   ],
   "source": [
    "# One hot encode 'City' feature\n",
    "# create three dummy variables using get_dummies, then exclude the first dummy column\n",
    "city_dummies = pd.get_dummies(combined_df.City, prefix='City').iloc[:, 1:]\n",
    "\n",
    "# concatenate the dummy variable columns onto the original DataFrame\n",
    "combined_df = pd.concat([combined_df, city_dummies], axis=1)\n",
    "combined_df.head()"
   ]
  },
  {
   "cell_type": "code",
   "execution_count": 19,
   "metadata": {
    "collapsed": true
   },
   "outputs": [],
   "source": [
    "# add log of Price and Capacity since skewed distributions\n",
    "combined_df['log_Capacity'] = np.log(combined_df.Capacity)\n",
    "combined_df['log_Price'] = np.log(combined_df.Price)"
   ]
  },
  {
   "cell_type": "code",
   "execution_count": 67,
   "metadata": {
    "collapsed": false
   },
   "outputs": [
    {
     "data": {
      "text/html": [
       "<div>\n",
       "<table border=\"1\" class=\"dataframe\">\n",
       "  <thead>\n",
       "    <tr style=\"text-align: right;\">\n",
       "      <th></th>\n",
       "      <th>Bedrooms</th>\n",
       "      <th>Capacity</th>\n",
       "      <th>Id</th>\n",
       "      <th>Price</th>\n",
       "      <th>Property_Type</th>\n",
       "      <th>Review_Count</th>\n",
       "      <th>Room_Type</th>\n",
       "      <th>Star_Rating</th>\n",
       "      <th>City</th>\n",
       "      <th>Avg_Price</th>\n",
       "      <th>City_NY</th>\n",
       "      <th>City_SF</th>\n",
       "      <th>log_Capacity</th>\n",
       "      <th>log_Price</th>\n",
       "    </tr>\n",
       "  </thead>\n",
       "  <tbody>\n",
       "    <tr>\n",
       "      <th>0</th>\n",
       "      <td>1</td>\n",
       "      <td>2</td>\n",
       "      <td>6882689</td>\n",
       "      <td>198</td>\n",
       "      <td>Apartment</td>\n",
       "      <td>17</td>\n",
       "      <td>2</td>\n",
       "      <td>5.0</td>\n",
       "      <td>NY</td>\n",
       "      <td>104.428105</td>\n",
       "      <td>1</td>\n",
       "      <td>0</td>\n",
       "      <td>0.693147</td>\n",
       "      <td>5.288267</td>\n",
       "    </tr>\n",
       "    <tr>\n",
       "      <th>2</th>\n",
       "      <td>1</td>\n",
       "      <td>2</td>\n",
       "      <td>8940740</td>\n",
       "      <td>149</td>\n",
       "      <td>Apartment</td>\n",
       "      <td>6</td>\n",
       "      <td>2</td>\n",
       "      <td>5.0</td>\n",
       "      <td>NY</td>\n",
       "      <td>104.428105</td>\n",
       "      <td>1</td>\n",
       "      <td>0</td>\n",
       "      <td>0.693147</td>\n",
       "      <td>5.003946</td>\n",
       "    </tr>\n",
       "    <tr>\n",
       "      <th>3</th>\n",
       "      <td>1</td>\n",
       "      <td>4</td>\n",
       "      <td>12035970</td>\n",
       "      <td>55</td>\n",
       "      <td>Apartment</td>\n",
       "      <td>0</td>\n",
       "      <td>2</td>\n",
       "      <td>0.0</td>\n",
       "      <td>NY</td>\n",
       "      <td>104.428105</td>\n",
       "      <td>1</td>\n",
       "      <td>0</td>\n",
       "      <td>1.386294</td>\n",
       "      <td>4.007333</td>\n",
       "    </tr>\n",
       "    <tr>\n",
       "      <th>4</th>\n",
       "      <td>1</td>\n",
       "      <td>2</td>\n",
       "      <td>11642165</td>\n",
       "      <td>65</td>\n",
       "      <td>Apartment</td>\n",
       "      <td>3</td>\n",
       "      <td>1</td>\n",
       "      <td>5.0</td>\n",
       "      <td>NY</td>\n",
       "      <td>104.428105</td>\n",
       "      <td>1</td>\n",
       "      <td>0</td>\n",
       "      <td>0.693147</td>\n",
       "      <td>4.174387</td>\n",
       "    </tr>\n",
       "    <tr>\n",
       "      <th>5</th>\n",
       "      <td>1</td>\n",
       "      <td>1</td>\n",
       "      <td>648047</td>\n",
       "      <td>61</td>\n",
       "      <td>Apartment</td>\n",
       "      <td>66</td>\n",
       "      <td>1</td>\n",
       "      <td>4.5</td>\n",
       "      <td>NY</td>\n",
       "      <td>104.428105</td>\n",
       "      <td>1</td>\n",
       "      <td>0</td>\n",
       "      <td>0.000000</td>\n",
       "      <td>4.110874</td>\n",
       "    </tr>\n",
       "  </tbody>\n",
       "</table>\n",
       "</div>"
      ],
      "text/plain": [
       "   Bedrooms  Capacity        Id  Price Property_Type  Review_Count Room_Type  \\\n",
       "0         1         2   6882689    198     Apartment            17         2   \n",
       "2         1         2   8940740    149     Apartment             6         2   \n",
       "3         1         4  12035970     55     Apartment             0         2   \n",
       "4         1         2  11642165     65     Apartment             3         1   \n",
       "5         1         1    648047     61     Apartment            66         1   \n",
       "\n",
       "   Star_Rating City   Avg_Price  City_NY  City_SF  log_Capacity  log_Price  \n",
       "0          5.0   NY  104.428105        1        0      0.693147   5.288267  \n",
       "2          5.0   NY  104.428105        1        0      0.693147   5.003946  \n",
       "3          0.0   NY  104.428105        1        0      1.386294   4.007333  \n",
       "4          5.0   NY  104.428105        1        0      0.693147   4.174387  \n",
       "5          4.5   NY  104.428105        1        0      0.000000   4.110874  "
      ]
     },
     "execution_count": 67,
     "metadata": {},
     "output_type": "execute_result"
    }
   ],
   "source": [
    "combined_df.head()"
   ]
  },
  {
   "cell_type": "code",
   "execution_count": 20,
   "metadata": {
    "collapsed": true
   },
   "outputs": [],
   "source": [
    "feature_cols = ['log_Capacity','City_SF','City_NY','Room_Type']\n",
    "X = combined_df[feature_cols]\n",
    "y = combined_df.log_Price"
   ]
  },
  {
   "cell_type": "code",
   "execution_count": 88,
   "metadata": {
    "collapsed": true
   },
   "outputs": [],
   "source": [
    "# make training and testing split\n",
    "X_train, X_test, y_train, y_test = train_test_split(X, y)"
   ]
  },
  {
   "cell_type": "code",
   "execution_count": 89,
   "metadata": {
    "collapsed": true
   },
   "outputs": [],
   "source": [
    "lr_ridge = Ridge()"
   ]
  },
  {
   "cell_type": "code",
   "execution_count": 90,
   "metadata": {
    "collapsed": false
   },
   "outputs": [
    {
     "data": {
      "text/plain": [
       "Ridge(alpha=1.0, copy_X=True, fit_intercept=True, max_iter=None,\n",
       "   normalize=False, solver='auto', tol=0.001)"
      ]
     },
     "execution_count": 90,
     "metadata": {},
     "output_type": "execute_result"
    }
   ],
   "source": [
    "lr_ridge.fit(X_train, y_train)"
   ]
  },
  {
   "cell_type": "code",
   "execution_count": 91,
   "metadata": {
    "collapsed": true
   },
   "outputs": [],
   "source": [
    "predictions = lr_ridge.predict(X_test)"
   ]
  },
  {
   "cell_type": "code",
   "execution_count": 92,
   "metadata": {
    "collapsed": false
   },
   "outputs": [
    {
     "data": {
      "text/plain": [
       "0.32120395686993414"
      ]
     },
     "execution_count": 92,
     "metadata": {},
     "output_type": "execute_result"
    }
   ],
   "source": [
    "ridge_RMSE = np.sqrt(metrics.mean_squared_error(y_test, predictions))\n",
    "ridge_RMSE"
   ]
  },
  {
   "cell_type": "code",
   "execution_count": 99,
   "metadata": {
    "collapsed": false
   },
   "outputs": [
    {
     "data": {
      "text/plain": [
       "0.54006802837202805"
      ]
     },
     "execution_count": 99,
     "metadata": {},
     "output_type": "execute_result"
    }
   ],
   "source": [
    "ridge_r2 = metrics.r2_score(y_test, predictions)\n",
    "ridge_r2"
   ]
  },
  {
   "cell_type": "code",
   "execution_count": 101,
   "metadata": {
    "collapsed": true
   },
   "outputs": [],
   "source": [
    "# Let's take a look at the residuals\n",
    "resids = y_test - predictions"
   ]
  },
  {
   "cell_type": "code",
   "execution_count": 104,
   "metadata": {
    "collapsed": false
   },
   "outputs": [
    {
     "data": {
      "text/plain": [
       "<matplotlib.text.Text at 0x110148610>"
      ]
     },
     "execution_count": 104,
     "metadata": {},
     "output_type": "execute_result"
    },
    {
     "name": "stderr",
     "output_type": "stream",
     "text": [
      "/Users/paulsingman/pyth/data-analysis/venv/lib/python2.7/site-packages/matplotlib/collections.py:590: FutureWarning: elementwise comparison failed; returning scalar instead, but in the future will perform elementwise comparison\n",
      "  if self._edgecolors == str('face'):\n"
     ]
    },
    {
     "data": {
      "image/png": "[encoded data removed]",
      "text/plain": [
       "<matplotlib.figure.Figure at 0x110115250>"
      ]
     },
     "metadata": {},
     "output_type": "display_data"
    }
   ],
   "source": [
    "plt.scatter(np.linspace(1,230,230),resids)\n",
    "plt.axhline(ls='--', linewidth=3, color='r')\n",
    "plt.title('Ridge Regression Residuals')"
   ]
  },
  {
   "cell_type": "markdown",
   "metadata": {},
   "source": [
    "### Residuals look like random noise (good) and are homoscedastic"
   ]
  },
  {
   "cell_type": "code",
   "execution_count": null,
   "metadata": {
    "collapsed": true
   },
   "outputs": [],
   "source": []
  },
  {
   "cell_type": "code",
   "execution_count": null,
   "metadata": {
    "collapsed": true
   },
   "outputs": [],
   "source": []
  },
  {
   "cell_type": "markdown",
   "metadata": {},
   "source": [
    "### With the ridge model we achieve an r-squared of .54. Let's try to optimize the alpha parameter to improve this value"
   ]
  },
  {
   "cell_type": "code",
   "execution_count": 100,
   "metadata": {
    "collapsed": true
   },
   "outputs": [],
   "source": [
    "alphas = [10e-3, 10e-2, 10e-1, 1, 10, 100]"
   ]
  },
  {
   "cell_type": "code",
   "execution_count": 105,
   "metadata": {
    "collapsed": true
   },
   "outputs": [],
   "source": [
    "RMSEs = []\n",
    "r_squareds = []\n",
    "for a in alphas:\n",
    "    lr_ridge = Ridge(alpha=a)\n",
    "    lr_ridge.fit(X_train, y_train)\n",
    "    predictions = lr_ridge.predict(X_test)\n",
    "    RMSEs.append(np.sqrt(metrics.mean_squared_error(y_test, predictions)))\n",
    "    r_squareds.append(metrics.r2_score(y_test, predictions))\n",
    "    "
   ]
  },
  {
   "cell_type": "code",
   "execution_count": 109,
   "metadata": {
    "collapsed": false
   },
   "outputs": [
    {
     "data": {
      "image/png": "[encoded data removed]",
      "text/plain": [
       "<matplotlib.figure.Figure at 0x11094bf90>"
      ]
     },
     "metadata": {},
     "output_type": "display_data"
    }
   ],
   "source": [
    "ax = plt.gca()\n",
    "\n",
    "ax.plot(alphas, r_squareds)\n",
    "ax.set_xscale('log')\n",
    "ax.set_xlim(ax.get_xlim()[::-1])  # reverse axis\n",
    "plt.xlabel('alpha')\n",
    "plt.ylabel('r_squared')\n",
    "plt.title('Ridge R-Squared as a function of the regularization')\n",
    "plt.show()"
   ]
  },
  {
   "cell_type": "markdown",
   "metadata": {},
   "source": [
    "#### Graph shows that alpha of 1 is reasonably optimal."
   ]
  },
  {
   "cell_type": "markdown",
   "metadata": {},
   "source": [
    "# For comparison to the linear model, let's try a Gradient Boosted Regressor\n",
    "### We'll use grid search to find the optimal parameters and score it by the RMSE"
   ]
  },
  {
   "cell_type": "code",
   "execution_count": 22,
   "metadata": {
    "collapsed": true
   },
   "outputs": [],
   "source": [
    "from sklearn.ensemble import GradientBoostingRegressor\n",
    "from sklearn.grid_search import GridSearchCV"
   ]
  },
  {
   "cell_type": "code",
   "execution_count": 111,
   "metadata": {
    "collapsed": true
   },
   "outputs": [],
   "source": [
    "param_grid = {'learning_rate': [0.01, 0.05, 0.1, 1],\n",
    "              'max_depth': [4, 6],\n",
    "              'min_samples_leaf': [3, 5, 9]\n",
    "              }\n",
    "\n",
    "gbr = GradientBoostingRegressor(n_estimators=1500)\n",
    "\n",
    "gs_cv = GridSearchCV(gbr, param_grid, n_jobs=4).fit(X_train, y_train)"
   ]
  },
  {
   "cell_type": "code",
   "execution_count": 112,
   "metadata": {
    "collapsed": false
   },
   "outputs": [
    {
     "data": {
      "text/plain": [
       "{'learning_rate': 0.01, 'max_depth': 4, 'min_samples_leaf': 5}"
      ]
     },
     "execution_count": 112,
     "metadata": {},
     "output_type": "execute_result"
    }
   ],
   "source": [
    "# best parameters\n",
    "gs_cv.best_params_"
   ]
  },
  {
   "cell_type": "code",
   "execution_count": 113,
   "metadata": {
    "collapsed": false
   },
   "outputs": [
    {
     "data": {
      "text/plain": [
       "0.57007229401371318"
      ]
     },
     "execution_count": 113,
     "metadata": {},
     "output_type": "execute_result"
    }
   ],
   "source": [
    "gs_cv.best_score_"
   ]
  },
  {
   "cell_type": "code",
   "execution_count": 115,
   "metadata": {
    "collapsed": true
   },
   "outputs": [],
   "source": [
    "opt_gbr = GradientBoostingRegressor(n_estimators=5000, learning_rate=0.01, max_depth=4, min_samples_leaf=5)"
   ]
  },
  {
   "cell_type": "code",
   "execution_count": 116,
   "metadata": {
    "collapsed": false
   },
   "outputs": [
    {
     "data": {
      "text/plain": [
       "GradientBoostingRegressor(alpha=0.9, init=None, learning_rate=0.01, loss='ls',\n",
       "             max_depth=4, max_features=None, max_leaf_nodes=None,\n",
       "             min_samples_leaf=5, min_samples_split=2,\n",
       "             min_weight_fraction_leaf=0.0, n_estimators=5000,\n",
       "             random_state=None, subsample=1.0, verbose=0, warm_start=False)"
      ]
     },
     "execution_count": 116,
     "metadata": {},
     "output_type": "execute_result"
    }
   ],
   "source": [
    "opt_gbr.fit(X_train, y_train)"
   ]
  },
  {
   "cell_type": "code",
   "execution_count": 117,
   "metadata": {
    "collapsed": false
   },
   "outputs": [
    {
     "data": {
      "text/plain": [
       "0.32653518322187269"
      ]
     },
     "execution_count": 117,
     "metadata": {},
     "output_type": "execute_result"
    }
   ],
   "source": [
    "gbr_rmse = np.sqrt(metrics.mean_squared_error(y_test, opt_gbr.predict(X_test)))\n",
    "gbr_rmse"
   ]
  },
  {
   "cell_type": "code",
   "execution_count": 118,
   "metadata": {
    "collapsed": true
   },
   "outputs": [],
   "source": [
    "# Of course, the simple linear regression model outperforms the complex GBRT. Let's see which features were most important"
   ]
  },
  {
   "cell_type": "code",
   "execution_count": 122,
   "metadata": {
    "collapsed": false
   },
   "outputs": [
    {
     "data": {
      "text/plain": [
       "<matplotlib.text.Text at 0x11089d1d0>"
      ]
     },
     "execution_count": 122,
     "metadata": {},
     "output_type": "execute_result"
    },
    {
     "data": {
      "image/png": "[encoded data removed]",
      "text/plain": [
       "<matplotlib.figure.Figure at 0x110643b50>"
      ]
     },
     "metadata": {},
     "output_type": "display_data"
    }
   ],
   "source": [
    "# sort importances\n",
    "indices = np.argsort(opt_gbr.feature_importances_)\n",
    "# plot as bar chart\n",
    "plt.barh(np.arange(len(feature_cols)), opt_gbr.feature_importances_[indices])\n",
    "plt.yticks(np.arange(len(feature_cols)) + 0.25, np.array(feature_cols)[indices])\n",
    "_ = plt.xlabel('Relative importance')\n",
    "plt.title('Feature Importance in Gradient Boosted RT')"
   ]
  },
  {
   "cell_type": "markdown",
   "metadata": {},
   "source": [
    "#### Unsurprisingly, Capacity is the most important variable"
   ]
  },
  {
   "cell_type": "code",
   "execution_count": null,
   "metadata": {
    "collapsed": true
   },
   "outputs": [],
   "source": []
  },
  {
   "cell_type": "markdown",
   "metadata": {},
   "source": [
    "#### Since the Ridge regression was the best model, let's revisit it's parameters"
   ]
  },
  {
   "cell_type": "code",
   "execution_count": 124,
   "metadata": {
    "collapsed": false
   },
   "outputs": [
    {
     "data": {
      "text/plain": [
       "[('log_Capacity', 0.24518156528719259),\n",
       " ('City_SF', 0.20559443287383386),\n",
       " ('City_NY', 0.012811401975827311),\n",
       " ('Room_Type', 0.31176779446528891)]"
      ]
     },
     "execution_count": 124,
     "metadata": {},
     "output_type": "execute_result"
    }
   ],
   "source": [
    "zip(feature_cols,lr_ridge.coef_)"
   ]
  },
  {
   "cell_type": "code",
   "execution_count": 125,
   "metadata": {
    "collapsed": false
   },
   "outputs": [
    {
     "name": "stdout",
     "output_type": "stream",
     "text": [
      "intercept: 3.82435865152\n"
     ]
    }
   ],
   "source": [
    "print \"intercept: {}\".format(lr_ridge.intercept_)"
   ]
  },
  {
   "cell_type": "code",
   "execution_count": null,
   "metadata": {
    "collapsed": false
   },
   "outputs": [],
   "source": []
  },
  {
   "cell_type": "code",
   "execution_count": 30,
   "metadata": {
    "collapsed": false
   },
   "outputs": [],
   "source": [
    "def test_sample_size(df):\n",
    "    \n",
    "    RMSEs_train = []\n",
    "    r_squareds_train = []\n",
    "    RMSEs_test = []\n",
    "    r_squareds_test = []\n",
    "    \n",
    "    sample_sizes = np.linspace(101,len(df),9, dtype='int')\n",
    "    \n",
    "    X = df[feature_cols]\n",
    "    y = df.log_Price\n",
    "    \n",
    "    X_train, X_test, y_train, y_test = train_test_split(X, y)\n",
    "    \n",
    "    for n in sample_sizes:\n",
    "        \n",
    "        X_train_sample = X_train[:n]\n",
    "        y_train_sample = y_train[:n]\n",
    "        \n",
    "        lr_ridge = Ridge()\n",
    "        lr_ridge.fit(X_train_sample, y_train_sample)\n",
    "        \n",
    "        train_predictions = lr_ridge.predict(X_train_sample)\n",
    "        test_predictions = lr_ridge.predict(X_test)\n",
    "        \n",
    "        RMSE_train = np.sqrt(metrics.mean_squared_error(y_train_sample, train_predictions))\n",
    "        r2_train = metrics.r2_score(y_train_sample, train_predictions)\n",
    "        \n",
    "        RMSE_test = np.sqrt(metrics.mean_squared_error(y_test, test_predictions))\n",
    "        r2_test = metrics.r2_score(y_test, test_predictions)\n",
    "        \n",
    "        RMSEs_train.append(RMSE_train)\n",
    "        r_squareds_train.append(r2_train)\n",
    "        \n",
    "        RMSEs_test.append(RMSE_test)\n",
    "        r_squareds_test.append(r2_test)\n",
    "        \n",
    "    return RMSEs_train\n",
    "        \n",
    "    "
   ]
  },
  {
   "cell_type": "code",
   "execution_count": 31,
   "metadata": {
    "collapsed": false
   },
   "outputs": [],
   "source": [
    "r = test_sample_size(combined_df)"
   ]
  },
  {
   "cell_type": "code",
   "execution_count": null,
   "metadata": {
    "collapsed": true
   },
   "outputs": [],
   "source": [
    "# Train and predict using different training set sizes\n",
    "def train_predict(clf, X_train, y_train, X_test, y_test):\n",
    "    print \"------------------------------------------\"\n",
    "    print \"Training set size: {}\".format(len(X_train))\n",
    "    train_classifier(clf, X_train, y_train)\n",
    "    print \"F1 score for training set: {}\".format(predict_labels(clf, X_train, y_train))\n",
    "    print \"F1 score for test set: {}\".format(predict_labels(clf, X_test, y_test))\n",
    "\n",
    "# TODO: Run the helper function above for desired subsets of training data\n",
    "# Note: Keep the test set constant\n",
    "\n",
    "for i in np.linspace(100,300,3, dtype='int'):\n",
    "    X_train_batch = X_train[:i]\n",
    "    y_train_batch = y_train[:i]\n",
    "    train_predict(clf, X_train_batch, y_train_batch, X_test, y_test)"
   ]
  },
  {
   "cell_type": "code",
   "execution_count": null,
   "metadata": {
    "collapsed": true
   },
   "outputs": [],
   "source": []
  },
  {
   "cell_type": "code",
   "execution_count": 131,
   "metadata": {
    "collapsed": false
   },
   "outputs": [
    {
     "data": {
      "text/plain": [
       "array([ 101.,  203.,  305.,  407.,  509.,  611.,  713.,  815.,  917.])"
      ]
     },
     "execution_count": 131,
     "metadata": {},
     "output_type": "execute_result"
    }
   ],
   "source": [
    "np.linspace(101,len(combined_df),9)"
   ]
  },
  {
   "cell_type": "code",
   "execution_count": null,
   "metadata": {
    "collapsed": true
   },
   "outputs": [],
   "source": []
  },
  {
   "cell_type": "code",
   "execution_count": 32,
   "metadata": {
    "collapsed": false
   },
   "outputs": [
    {
     "data": {
      "text/plain": [
       "[0.30359143921067072,\n",
       " 0.31549223634636808,\n",
       " 0.31041212106898797,\n",
       " 0.3115850933509044,\n",
       " 0.30680665444980826,\n",
       " 0.30529085684436519,\n",
       " 0.30566388785703086,\n",
       " 0.30566388785703086,\n",
       " 0.30566388785703086]"
      ]
     },
     "execution_count": 32,
     "metadata": {},
     "output_type": "execute_result"
    }
   ],
   "source": [
    "r"
   ]
  },
  {
   "cell_type": "code",
   "execution_count": null,
   "metadata": {
    "collapsed": true
   },
   "outputs": [],
   "source": []
  }
 ],
 "metadata": {
  "kernelspec": {
   "display_name": "Python 2",
   "language": "python",
   "name": "python2"
  },
  "language_info": {
   "codemirror_mode": {
    "name": "ipython",
    "version": 2
   },
   "file_extension": ".py",
   "mimetype": "text/x-python",
   "name": "python",
   "nbconvert_exporter": "python",
   "pygments_lexer": "ipython2",
   "version": "2.7.10"
  }
 },
 "nbformat": 4,
 "nbformat_minor": 0
}
