{
 "cells": [
  {
   "cell_type": "code",
   "execution_count": 12,
   "metadata": {
    "collapsed": true
   },
   "outputs": [],
   "source": [
    "from BeautifulSoup import BeautifulSoup\n",
    "from urllib2 import urlopen\n",
    "import re"
   ]
  },
  {
   "cell_type": "code",
   "execution_count": 33,
   "metadata": {
    "collapsed": false
   },
   "outputs": [],
   "source": [
    "from collections import defaultdict\n",
    "import pandas as pd"
   ]
  },
  {
   "cell_type": "markdown",
   "metadata": {},
   "source": [
    "# New York"
   ]
  },
  {
   "cell_type": "code",
   "execution_count": 13,
   "metadata": {
    "collapsed": true
   },
   "outputs": [],
   "source": [
    "site = 'https://www.airbnb.com/s/New-York--NY'"
   ]
  },
  {
   "cell_type": "code",
   "execution_count": 14,
   "metadata": {
    "collapsed": true
   },
   "outputs": [],
   "source": [
    "header = {'User-Agent': 'Mozilla/5.0'}\n",
    "req = urllib2.Request(site,headers=header)"
   ]
  },
  {
   "cell_type": "code",
   "execution_count": 15,
   "metadata": {
    "collapsed": false
   },
   "outputs": [],
   "source": [
    "page = urlopen(req)"
   ]
  },
  {
   "cell_type": "code",
   "execution_count": 16,
   "metadata": {
    "collapsed": false
   },
   "outputs": [],
   "source": [
    "soup = BeautifulSoup(page)"
   ]
  },
  {
   "cell_type": "code",
   "execution_count": 17,
   "metadata": {
    "collapsed": true
   },
   "outputs": [],
   "source": [
    "#listings = soup.findAll(\"div\", {\"class\": \"col-sm-12 row-space-2 col-md-6\"})\n",
    "listings = soup.findAll(\"div\", {\"class\": \"panel-overlay-top-right wl-social-connection-panel\"})"
   ]
  },
  {
   "cell_type": "code",
   "execution_count": 50,
   "metadata": {
    "collapsed": true
   },
   "outputs": [],
   "source": [
    "df_data = defaultdict(list)"
   ]
  },
  {
   "cell_type": "code",
   "execution_count": 51,
   "metadata": {
    "collapsed": false
   },
   "outputs": [],
   "source": [
    "for listing in listings:\n",
    "    data = listing.find(\"span\")\n",
    "    \n",
    "    # index is listing id (int)\n",
    "    id = data['data-hosting_id']\n",
    "    df_data['Id'].append(id)\n",
    "    \n",
    "    try:\n",
    "        # No. of reviews (int)\n",
    "        review_count_text = data['data-review_count']\n",
    "        review_count = int(re.search(r\"[0-9]+\", review_count_text).group(0))\n",
    "        df_data['Review_Count'].append(review_count)\n",
    "    except:\n",
    "        df_data['Review_Count'].append(0)\n",
    "    \n",
    "    # star rating (float)\n",
    "    star_rating = float(data['data-star_rating'])\n",
    "    df_data['Star_Rating'].append(star_rating)\n",
    "    \n",
    "    # room type (categorical)\n",
    "    room_type = data['data-room_type']\n",
    "    df_data['Room_Type'].append(room_type)\n",
    "    \n",
    "    # property type (categorical)\n",
    "    property_type = data['data-property_type_name']\n",
    "    df_data['Property_Type'].append(property_type)\n",
    "    \n",
    "    # person capacity (int)\n",
    "    capacity = int(data['data-person_capacity_string'])\n",
    "    df_data['Capacity'].append(capacity)\n",
    "    \n",
    "    # No. of bedrooms\n",
    "    bedrooms = int(data['data-bedrooms_string'])\n",
    "    df_data['Bedrooms'].append(bedrooms)\n",
    "    \n",
    "    # Price\n",
    "    price_text = data['data-price']\n",
    "    price = int(re.search(r\"[0-9]+\", price_text).group(0))\n",
    "    df_data['Price'].append(price)"
   ]
  },
  {
   "cell_type": "code",
   "execution_count": 55,
   "metadata": {
    "collapsed": false
   },
   "outputs": [
    {
     "data": {
      "text/html": [
       "<div>\n",
       "<table border=\"1\" class=\"dataframe\">\n",
       "  <thead>\n",
       "    <tr style=\"text-align: right;\">\n",
       "      <th></th>\n",
       "      <th>Bedrooms</th>\n",
       "      <th>Capacity</th>\n",
       "      <th>Id</th>\n",
       "      <th>Price</th>\n",
       "      <th>Property_Type</th>\n",
       "      <th>Review_Count</th>\n",
       "      <th>Room_Type</th>\n",
       "      <th>Star_Rating</th>\n",
       "    </tr>\n",
       "  </thead>\n",
       "  <tbody>\n",
       "    <tr>\n",
       "      <th>0</th>\n",
       "      <td>1</td>\n",
       "      <td>2</td>\n",
       "      <td>6882689</td>\n",
       "      <td>198</td>\n",
       "      <td>Apartment</td>\n",
       "      <td>17</td>\n",
       "      <td>Entire home/apt</td>\n",
       "      <td>5.0</td>\n",
       "    </tr>\n",
       "    <tr>\n",
       "      <th>1</th>\n",
       "      <td>2</td>\n",
       "      <td>7</td>\n",
       "      <td>12022627</td>\n",
       "      <td>2200</td>\n",
       "      <td>Apartment</td>\n",
       "      <td>0</td>\n",
       "      <td>Entire home/apt</td>\n",
       "      <td>0.0</td>\n",
       "    </tr>\n",
       "    <tr>\n",
       "      <th>2</th>\n",
       "      <td>1</td>\n",
       "      <td>2</td>\n",
       "      <td>8940740</td>\n",
       "      <td>149</td>\n",
       "      <td>Apartment</td>\n",
       "      <td>6</td>\n",
       "      <td>Entire home/apt</td>\n",
       "      <td>5.0</td>\n",
       "    </tr>\n",
       "    <tr>\n",
       "      <th>3</th>\n",
       "      <td>1</td>\n",
       "      <td>4</td>\n",
       "      <td>12035970</td>\n",
       "      <td>55</td>\n",
       "      <td>Apartment</td>\n",
       "      <td>0</td>\n",
       "      <td>Entire home/apt</td>\n",
       "      <td>0.0</td>\n",
       "    </tr>\n",
       "    <tr>\n",
       "      <th>4</th>\n",
       "      <td>1</td>\n",
       "      <td>2</td>\n",
       "      <td>11642165</td>\n",
       "      <td>65</td>\n",
       "      <td>Apartment</td>\n",
       "      <td>3</td>\n",
       "      <td>Private room</td>\n",
       "      <td>5.0</td>\n",
       "    </tr>\n",
       "    <tr>\n",
       "      <th>5</th>\n",
       "      <td>1</td>\n",
       "      <td>1</td>\n",
       "      <td>648047</td>\n",
       "      <td>61</td>\n",
       "      <td>Apartment</td>\n",
       "      <td>66</td>\n",
       "      <td>Private room</td>\n",
       "      <td>4.5</td>\n",
       "    </tr>\n",
       "    <tr>\n",
       "      <th>6</th>\n",
       "      <td>1</td>\n",
       "      <td>2</td>\n",
       "      <td>11303306</td>\n",
       "      <td>105</td>\n",
       "      <td>Apartment</td>\n",
       "      <td>3</td>\n",
       "      <td>Entire home/apt</td>\n",
       "      <td>5.0</td>\n",
       "    </tr>\n",
       "    <tr>\n",
       "      <th>7</th>\n",
       "      <td>0</td>\n",
       "      <td>2</td>\n",
       "      <td>9533397</td>\n",
       "      <td>99</td>\n",
       "      <td>Apartment</td>\n",
       "      <td>7</td>\n",
       "      <td>Entire home/apt</td>\n",
       "      <td>5.0</td>\n",
       "    </tr>\n",
       "    <tr>\n",
       "      <th>8</th>\n",
       "      <td>1</td>\n",
       "      <td>4</td>\n",
       "      <td>12037554</td>\n",
       "      <td>45</td>\n",
       "      <td>Apartment</td>\n",
       "      <td>3</td>\n",
       "      <td>Entire home/apt</td>\n",
       "      <td>4.5</td>\n",
       "    </tr>\n",
       "    <tr>\n",
       "      <th>9</th>\n",
       "      <td>1</td>\n",
       "      <td>2</td>\n",
       "      <td>10513228</td>\n",
       "      <td>50</td>\n",
       "      <td>Apartment</td>\n",
       "      <td>5</td>\n",
       "      <td>Private room</td>\n",
       "      <td>5.0</td>\n",
       "    </tr>\n",
       "    <tr>\n",
       "      <th>10</th>\n",
       "      <td>1</td>\n",
       "      <td>3</td>\n",
       "      <td>12027155</td>\n",
       "      <td>120</td>\n",
       "      <td>Apartment</td>\n",
       "      <td>0</td>\n",
       "      <td>Entire home/apt</td>\n",
       "      <td>0.0</td>\n",
       "    </tr>\n",
       "    <tr>\n",
       "      <th>11</th>\n",
       "      <td>1</td>\n",
       "      <td>4</td>\n",
       "      <td>10140232</td>\n",
       "      <td>140</td>\n",
       "      <td>Apartment</td>\n",
       "      <td>4</td>\n",
       "      <td>Entire home/apt</td>\n",
       "      <td>5.0</td>\n",
       "    </tr>\n",
       "    <tr>\n",
       "      <th>12</th>\n",
       "      <td>1</td>\n",
       "      <td>2</td>\n",
       "      <td>7501292</td>\n",
       "      <td>99</td>\n",
       "      <td>Apartment</td>\n",
       "      <td>6</td>\n",
       "      <td>Entire home/apt</td>\n",
       "      <td>4.5</td>\n",
       "    </tr>\n",
       "    <tr>\n",
       "      <th>13</th>\n",
       "      <td>2</td>\n",
       "      <td>6</td>\n",
       "      <td>11507817</td>\n",
       "      <td>110</td>\n",
       "      <td>Apartment</td>\n",
       "      <td>8</td>\n",
       "      <td>Entire home/apt</td>\n",
       "      <td>5.0</td>\n",
       "    </tr>\n",
       "    <tr>\n",
       "      <th>14</th>\n",
       "      <td>1</td>\n",
       "      <td>2</td>\n",
       "      <td>10165410</td>\n",
       "      <td>42</td>\n",
       "      <td>Apartment</td>\n",
       "      <td>2</td>\n",
       "      <td>Private room</td>\n",
       "      <td>0.0</td>\n",
       "    </tr>\n",
       "    <tr>\n",
       "      <th>15</th>\n",
       "      <td>1</td>\n",
       "      <td>2</td>\n",
       "      <td>12053251</td>\n",
       "      <td>40</td>\n",
       "      <td>Apartment</td>\n",
       "      <td>3</td>\n",
       "      <td>Private room</td>\n",
       "      <td>5.0</td>\n",
       "    </tr>\n",
       "    <tr>\n",
       "      <th>16</th>\n",
       "      <td>1</td>\n",
       "      <td>2</td>\n",
       "      <td>12028699</td>\n",
       "      <td>100</td>\n",
       "      <td>Apartment</td>\n",
       "      <td>1</td>\n",
       "      <td>Entire home/apt</td>\n",
       "      <td>0.0</td>\n",
       "    </tr>\n",
       "    <tr>\n",
       "      <th>17</th>\n",
       "      <td>1</td>\n",
       "      <td>1</td>\n",
       "      <td>7965847</td>\n",
       "      <td>58</td>\n",
       "      <td>House</td>\n",
       "      <td>6</td>\n",
       "      <td>Private room</td>\n",
       "      <td>4.5</td>\n",
       "    </tr>\n",
       "  </tbody>\n",
       "</table>\n",
       "</div>"
      ],
      "text/plain": [
       "    Bedrooms  Capacity        Id  Price Property_Type  Review_Count  \\\n",
       "0          1         2   6882689    198     Apartment            17   \n",
       "1          2         7  12022627   2200     Apartment             0   \n",
       "2          1         2   8940740    149     Apartment             6   \n",
       "3          1         4  12035970     55     Apartment             0   \n",
       "4          1         2  11642165     65     Apartment             3   \n",
       "5          1         1    648047     61     Apartment            66   \n",
       "6          1         2  11303306    105     Apartment             3   \n",
       "7          0         2   9533397     99     Apartment             7   \n",
       "8          1         4  12037554     45     Apartment             3   \n",
       "9          1         2  10513228     50     Apartment             5   \n",
       "10         1         3  12027155    120     Apartment             0   \n",
       "11         1         4  10140232    140     Apartment             4   \n",
       "12         1         2   7501292     99     Apartment             6   \n",
       "13         2         6  11507817    110     Apartment             8   \n",
       "14         1         2  10165410     42     Apartment             2   \n",
       "15         1         2  12053251     40     Apartment             3   \n",
       "16         1         2  12028699    100     Apartment             1   \n",
       "17         1         1   7965847     58         House             6   \n",
       "\n",
       "          Room_Type  Star_Rating  \n",
       "0   Entire home/apt          5.0  \n",
       "1   Entire home/apt          0.0  \n",
       "2   Entire home/apt          5.0  \n",
       "3   Entire home/apt          0.0  \n",
       "4      Private room          5.0  \n",
       "5      Private room          4.5  \n",
       "6   Entire home/apt          5.0  \n",
       "7   Entire home/apt          5.0  \n",
       "8   Entire home/apt          4.5  \n",
       "9      Private room          5.0  \n",
       "10  Entire home/apt          0.0  \n",
       "11  Entire home/apt          5.0  \n",
       "12  Entire home/apt          4.5  \n",
       "13  Entire home/apt          5.0  \n",
       "14     Private room          0.0  \n",
       "15     Private room          5.0  \n",
       "16  Entire home/apt          0.0  \n",
       "17     Private room          4.5  "
      ]
     },
     "execution_count": 55,
     "metadata": {},
     "output_type": "execute_result"
    }
   ],
   "source": [
    "df = pd.DataFrame(df_data)\n",
    "df"
   ]
  },
  {
   "cell_type": "code",
   "execution_count": 61,
   "metadata": {
    "collapsed": true
   },
   "outputs": [],
   "source": [
    "def soupscraper(listings):\n",
    "    for listing in listings:\n",
    "        data = listing.find(\"span\")\n",
    "    \n",
    "        # index is listing id (int)\n",
    "        id = data['data-hosting_id']\n",
    "        df_data['Id'].append(id)\n",
    "    \n",
    "        try:\n",
    "            # No. of reviews (int)\n",
    "            review_count_text = data['data-review_count']\n",
    "            review_count = int(re.search(r\"[0-9]+\", review_count_text).group(0))\n",
    "            df_data['Review_Count'].append(review_count)\n",
    "        except:\n",
    "            df_data['Review_Count'].append(0)\n",
    "    \n",
    "        # star rating (float)\n",
    "        star_rating = float(data['data-star_rating'])\n",
    "        df_data['Star_Rating'].append(star_rating)\n",
    "    \n",
    "        # room type (categorical)\n",
    "        room_type = data['data-room_type']\n",
    "        df_data['Room_Type'].append(room_type)\n",
    "    \n",
    "        # property type (categorical)\n",
    "        property_type = data['data-property_type_name']\n",
    "        df_data['Property_Type'].append(property_type)\n",
    "    \n",
    "        # person capacity (int)\n",
    "        capacity = int(data['data-person_capacity_string'])\n",
    "        df_data['Capacity'].append(capacity)\n",
    "    \n",
    "        # No. of bedrooms\n",
    "        bedrooms = int(data['data-bedrooms_string'])\n",
    "        df_data['Bedrooms'].append(bedrooms)\n",
    "    \n",
    "        # Price\n",
    "        price_text = data['data-price']\n",
    "        price = int(re.search(r\"[0-9]+\", price_text).group(0))\n",
    "        df_data['Price'].append(price)\n",
    "    \n",
    "    return pd.DataFrame(df_data)"
   ]
  },
  {
   "cell_type": "code",
   "execution_count": 60,
   "metadata": {
    "collapsed": false
   },
   "outputs": [],
   "source": [
    "for i in range(2,18):\n",
    "    site = 'https://www.airbnb.com/s/New-York--NY?page=' + str(i)\n",
    "    header = {'User-Agent': 'Mozilla/5.0'}\n",
    "    req = urllib2.Request(site, headers=header)\n",
    "    page = urlopen(req)\n",
    "    soup = BeautifulSoup(page)\n",
    "    \n",
    "    listings = soup.findAll(\"div\", {\"class\": \"panel-overlay-top-right wl-social-connection-panel\"})\n",
    "    df_data = defaultdict(list)\n",
    "    \n",
    "    df_to_append = soupscraper(listings)\n",
    "    df = df.append(df_to_append)\n",
    "    "
   ]
  },
  {
   "cell_type": "code",
   "execution_count": 62,
   "metadata": {
    "collapsed": false
   },
   "outputs": [
    {
     "data": {
      "text/html": [
       "<div>\n",
       "<table border=\"1\" class=\"dataframe\">\n",
       "  <thead>\n",
       "    <tr style=\"text-align: right;\">\n",
       "      <th></th>\n",
       "      <th>Bedrooms</th>\n",
       "      <th>Capacity</th>\n",
       "      <th>Price</th>\n",
       "      <th>Review_Count</th>\n",
       "      <th>Star_Rating</th>\n",
       "    </tr>\n",
       "  </thead>\n",
       "  <tbody>\n",
       "    <tr>\n",
       "      <th>count</th>\n",
       "      <td>306.000000</td>\n",
       "      <td>306.000000</td>\n",
       "      <td>306.000000</td>\n",
       "      <td>306.000000</td>\n",
       "      <td>306.000000</td>\n",
       "    </tr>\n",
       "    <tr>\n",
       "      <th>mean</th>\n",
       "      <td>0.869281</td>\n",
       "      <td>2.218954</td>\n",
       "      <td>104.428105</td>\n",
       "      <td>14.601307</td>\n",
       "      <td>3.485294</td>\n",
       "    </tr>\n",
       "    <tr>\n",
       "      <th>std</th>\n",
       "      <td>0.460830</td>\n",
       "      <td>1.056332</td>\n",
       "      <td>129.893511</td>\n",
       "      <td>24.689904</td>\n",
       "      <td>2.142607</td>\n",
       "    </tr>\n",
       "    <tr>\n",
       "      <th>min</th>\n",
       "      <td>0.000000</td>\n",
       "      <td>1.000000</td>\n",
       "      <td>20.000000</td>\n",
       "      <td>0.000000</td>\n",
       "      <td>0.000000</td>\n",
       "    </tr>\n",
       "    <tr>\n",
       "      <th>25%</th>\n",
       "      <td>1.000000</td>\n",
       "      <td>2.000000</td>\n",
       "      <td>61.250000</td>\n",
       "      <td>2.000000</td>\n",
       "      <td>0.000000</td>\n",
       "    </tr>\n",
       "    <tr>\n",
       "      <th>50%</th>\n",
       "      <td>1.000000</td>\n",
       "      <td>2.000000</td>\n",
       "      <td>90.000000</td>\n",
       "      <td>5.000000</td>\n",
       "      <td>4.500000</td>\n",
       "    </tr>\n",
       "    <tr>\n",
       "      <th>75%</th>\n",
       "      <td>1.000000</td>\n",
       "      <td>2.000000</td>\n",
       "      <td>119.000000</td>\n",
       "      <td>15.000000</td>\n",
       "      <td>5.000000</td>\n",
       "    </tr>\n",
       "    <tr>\n",
       "      <th>max</th>\n",
       "      <td>3.000000</td>\n",
       "      <td>8.000000</td>\n",
       "      <td>2200.000000</td>\n",
       "      <td>180.000000</td>\n",
       "      <td>5.000000</td>\n",
       "    </tr>\n",
       "  </tbody>\n",
       "</table>\n",
       "</div>"
      ],
      "text/plain": [
       "         Bedrooms    Capacity        Price  Review_Count  Star_Rating\n",
       "count  306.000000  306.000000   306.000000    306.000000   306.000000\n",
       "mean     0.869281    2.218954   104.428105     14.601307     3.485294\n",
       "std      0.460830    1.056332   129.893511     24.689904     2.142607\n",
       "min      0.000000    1.000000    20.000000      0.000000     0.000000\n",
       "25%      1.000000    2.000000    61.250000      2.000000     0.000000\n",
       "50%      1.000000    2.000000    90.000000      5.000000     4.500000\n",
       "75%      1.000000    2.000000   119.000000     15.000000     5.000000\n",
       "max      3.000000    8.000000  2200.000000    180.000000     5.000000"
      ]
     },
     "execution_count": 62,
     "metadata": {},
     "output_type": "execute_result"
    }
   ],
   "source": [
    "df.describe()"
   ]
  },
  {
   "cell_type": "code",
   "execution_count": 63,
   "metadata": {
    "collapsed": false
   },
   "outputs": [
    {
     "data": {
      "text/html": [
       "<div>\n",
       "<table border=\"1\" class=\"dataframe\">\n",
       "  <thead>\n",
       "    <tr style=\"text-align: right;\">\n",
       "      <th></th>\n",
       "      <th>Bedrooms</th>\n",
       "      <th>Capacity</th>\n",
       "      <th>Id</th>\n",
       "      <th>Price</th>\n",
       "      <th>Property_Type</th>\n",
       "      <th>Review_Count</th>\n",
       "      <th>Room_Type</th>\n",
       "      <th>Star_Rating</th>\n",
       "    </tr>\n",
       "  </thead>\n",
       "  <tbody>\n",
       "    <tr>\n",
       "      <th>13</th>\n",
       "      <td>0</td>\n",
       "      <td>2</td>\n",
       "      <td>11363556</td>\n",
       "      <td>140</td>\n",
       "      <td>Apartment</td>\n",
       "      <td>1</td>\n",
       "      <td>Entire home/apt</td>\n",
       "      <td>0.0</td>\n",
       "    </tr>\n",
       "    <tr>\n",
       "      <th>14</th>\n",
       "      <td>1</td>\n",
       "      <td>2</td>\n",
       "      <td>2371377</td>\n",
       "      <td>96</td>\n",
       "      <td>Apartment</td>\n",
       "      <td>6</td>\n",
       "      <td>Entire home/apt</td>\n",
       "      <td>4.5</td>\n",
       "    </tr>\n",
       "    <tr>\n",
       "      <th>15</th>\n",
       "      <td>1</td>\n",
       "      <td>2</td>\n",
       "      <td>4257354</td>\n",
       "      <td>105</td>\n",
       "      <td>Apartment</td>\n",
       "      <td>100</td>\n",
       "      <td>Private room</td>\n",
       "      <td>4.5</td>\n",
       "    </tr>\n",
       "    <tr>\n",
       "      <th>16</th>\n",
       "      <td>0</td>\n",
       "      <td>4</td>\n",
       "      <td>2159898</td>\n",
       "      <td>185</td>\n",
       "      <td>Apartment</td>\n",
       "      <td>88</td>\n",
       "      <td>Entire home/apt</td>\n",
       "      <td>5.0</td>\n",
       "    </tr>\n",
       "    <tr>\n",
       "      <th>17</th>\n",
       "      <td>1</td>\n",
       "      <td>1</td>\n",
       "      <td>8782030</td>\n",
       "      <td>65</td>\n",
       "      <td>Apartment</td>\n",
       "      <td>0</td>\n",
       "      <td>Private room</td>\n",
       "      <td>0.0</td>\n",
       "    </tr>\n",
       "  </tbody>\n",
       "</table>\n",
       "</div>"
      ],
      "text/plain": [
       "    Bedrooms  Capacity        Id  Price Property_Type  Review_Count  \\\n",
       "13         0         2  11363556    140     Apartment             1   \n",
       "14         1         2   2371377     96     Apartment             6   \n",
       "15         1         2   4257354    105     Apartment           100   \n",
       "16         0         4   2159898    185     Apartment            88   \n",
       "17         1         1   8782030     65     Apartment             0   \n",
       "\n",
       "          Room_Type  Star_Rating  \n",
       "13  Entire home/apt          0.0  \n",
       "14  Entire home/apt          4.5  \n",
       "15     Private room          4.5  \n",
       "16  Entire home/apt          5.0  \n",
       "17     Private room          0.0  "
      ]
     },
     "execution_count": 63,
     "metadata": {},
     "output_type": "execute_result"
    }
   ],
   "source": [
    "df.tail()"
   ]
  },
  {
   "cell_type": "code",
   "execution_count": 64,
   "metadata": {
    "collapsed": false
   },
   "outputs": [
    {
     "data": {
      "text/plain": [
       "array([u'Entire home/apt', u'Private room', u'Shared room'], dtype=object)"
      ]
     },
     "execution_count": 64,
     "metadata": {},
     "output_type": "execute_result"
    }
   ],
   "source": [
    "df.Room_Type.unique()"
   ]
  },
  {
   "cell_type": "code",
   "execution_count": 65,
   "metadata": {
    "collapsed": false
   },
   "outputs": [
    {
     "data": {
      "text/plain": [
       "array([u'Apartment', u'House', u'Condominium', u'Loft', u'Townhouse',\n",
       "       u'Other', u'Bed & Breakfast'], dtype=object)"
      ]
     },
     "execution_count": 65,
     "metadata": {},
     "output_type": "execute_result"
    }
   ],
   "source": [
    "df.Property_Type.unique()"
   ]
  },
  {
   "cell_type": "code",
   "execution_count": null,
   "metadata": {
    "collapsed": false
   },
   "outputs": [],
   "source": []
  },
  {
   "cell_type": "code",
   "execution_count": null,
   "metadata": {
    "collapsed": true
   },
   "outputs": [],
   "source": []
  },
  {
   "cell_type": "code",
   "execution_count": null,
   "metadata": {
    "collapsed": true
   },
   "outputs": [],
   "source": []
  }
 ],
 "metadata": {
  "kernelspec": {
   "display_name": "Python 2",
   "language": "python",
   "name": "python2"
  },
  "language_info": {
   "codemirror_mode": {
    "name": "ipython",
    "version": 2
   },
   "file_extension": ".py",
   "mimetype": "text/x-python",
   "name": "python",
   "nbconvert_exporter": "python",
   "pygments_lexer": "ipython2",
   "version": "2.7.10"
  }
 },
 "nbformat": 4,
 "nbformat_minor": 0
}
