{
 "cells": [
  {
   "cell_type": "code",
   "execution_count": 10,
   "metadata": {
    "collapsed": true
   },
   "outputs": [],
   "source": [
    "from BeautifulSoup import BeautifulSoup\n",
    "import urllib2"
   ]
  },
  {
   "cell_type": "code",
   "execution_count": 24,
   "metadata": {
    "collapsed": true
   },
   "outputs": [],
   "source": [
    "import re"
   ]
  },
  {
   "cell_type": "code",
   "execution_count": 6,
   "metadata": {
    "collapsed": true
   },
   "outputs": [],
   "source": [
    "site = 'https://www.airbnb.com/s/New-York--NY'"
   ]
  },
  {
   "cell_type": "code",
   "execution_count": 7,
   "metadata": {
    "collapsed": true
   },
   "outputs": [],
   "source": [
    "hdr = {'User-Agent': 'Mozilla/5.0'}\n",
    "req = urllib2.Request(site,headers=hdr)"
   ]
  },
  {
   "cell_type": "code",
   "execution_count": 8,
   "metadata": {
    "collapsed": true
   },
   "outputs": [],
   "source": [
    "page = urlopen(req)"
   ]
  },
  {
   "cell_type": "code",
   "execution_count": 11,
   "metadata": {
    "collapsed": false
   },
   "outputs": [],
   "source": [
    "soup = BeautifulSoup(page)"
   ]
  },
  {
   "cell_type": "code",
   "execution_count": 12,
   "metadata": {
    "collapsed": true
   },
   "outputs": [],
   "source": [
    "listings = soup.findAll(\"div\", {\"class\": \"col-sm-12 row-space-2 col-md-6\"})"
   ]
  },
  {
   "cell_type": "code",
   "execution_count": 49,
   "metadata": {
    "collapsed": false
   },
   "outputs": [
    {
     "name": "stdout",
     "output_type": "stream",
     "text": [
      "\n",
      "\n",
      "<div data-lat=\"40.82606214822694\" data-lng=\"-73.95074971178106\" data-name=\"Charming Spacious Harlem Prewar Bdr\" data-url=\"/rooms/6597854?s=DZwzBZlG\" data-user=\"5280006\" data-id=\"6597854\" data-instant-book=\"true\" data-price=\"&lt;sup&gt;$&lt;/sup&gt;58&lt;sup&gt;&lt;/sup&gt;\"><sup>$</sup>58<sup></sup>\"\n",
      "                 data-has-superhost-badge=\"false\"\n",
      "                 data-has-new-listing-badge=\"false\"\n",
      "                 data-star-rating=\"0\"\n",
      "                 data-review-count=\"2\"\n",
      "                 class=\"listing\"\n",
      "                 itemscope itemtype=\"http://schema.org/Enumeration\"&gt;\n",
      "            \n",
      "              <div class=\"panel-image listing-img\">\n",
      "<div class=\"listing-description wl-data-6597854\">\n",
      "<div class=\"summary\">\n",
      "                      Room in classic NYC prewar. w Apple TV &amp; wifi. Private dining table in your space. Neighborhood is vibrant, diverse, safe. Walk to bars &amp; restaurants. Enjoy Riverbank Park's indoor pool and outdoor track. Trains 1, ABCD very close. 20 min. to 42 St.\n",
      "                        <div>Your extra-large room includes a work / dining table and library plus ample storage space for all your stuff. The living room is comfy and features a flat screen with apple TV. We've also got tons of board games in case you're on a tech detox : )\n",
      "\n",
      "Access to shared kitchen, living room and bathroom.\n",
      "\n",
      "Happy to help you any way we can!</div>\n",
      "<div>A few favorites: \n",
      "\n",
      "Brick Oven Pizza (URL HIDDEN)\n",
      "Loud Bar (URL HIDDEN)\n",
      "Brunch (URL HIDDEN)\n",
      "Tavern with great BBQ: (URL HIDDEN)\n",
      "Japanese-Dominican soon to arrive: (URL HIDDEN)\n",
      "Dominican (URL HIDDEN)\n",
      "Italian Wine Bar (URL HIDDEN)\n",
      "Bar / Eatery (URL HIDDEN)\n",
      "\n",
      "We are also a block from the NY Public Library and Riverbank State Park: (URL HIDDEN)\n",
      "\n",
      "1 Train / 145 Street stop is on the corner. ABCD / 145 Street stop is a few blocks away, about a 5 minute walk. A and D run express and are the fastest trains  to get downtown. Yellow taxis are ALWAYS easy to hail, any time of day or night, from the corner of 145 and Broadway.\n",
      "\n",
      "Laundry pick up and delivery services are available.</div>\n",
      "<div>\n",
      "                        Room Type\n",
      "                        <span class=\"pull-right\">Private room</span>\n",
      "<hr />\n",
      "                        Property Type\n",
      "                        <span class=\"pull-right\">Apartment</span>\n",
      "<hr />\n",
      "                        Accommodates\n",
      "                        <span class=\"pull-right\">2</span>\n",
      "<hr />\n",
      "                        Bedrooms\n",
      "                        <span class=\"pull-right\">1</span>\n",
      "</div>\n",
      "</div>\n",
      "<p class=\"address\">New York</p>\n",
      "</div>\n",
      "<a href=\"/rooms/6597854?s=DZwzBZlG\" target=\"listing_6597854\" class=\"media-photo media-cover\">\n",
      "<div class=\"listing-img-container media-cover text-center\">\n",
      "<img itemprop=\"image\" data-current=\"0\" src=\"https://a1.muscache.com/im/pictures/919bc632-4e07-43c7-9f15-9df498ce452d.jpg?aki_policy=x_medium\" class=\"img-responsive-height\" alt=\"Charming Spacious Harlem Prewar Bdr\" data-urls='[\"https://a1.muscache.com/im/pictures/919bc632-4e07-43c7-9f15-9df498ce452d.jpg?aki_policy=x_medium\", \"https://a2.muscache.com/im/pictures/83100286/a981870f_original.jpg?aki_policy=x_medium\", \"https://a1.muscache.com/im/pictures/df0f4105-8888-4e4f-8a6e-8700075feb6a.jpg?aki_policy=x_medium\", \"https://a1.muscache.com/im/pictures/d6deca91-a040-4a16-94ed-7c4130cfb2da.jpg?aki_policy=x_medium\", \"https://a1.muscache.com/im/pictures/27cc8b3b-a830-4abb-9e16-fc03964be9ff.jpg?aki_policy=x_medium\"]' data-picture-count=\"13\" data-should-async-load=\"true\" />\n",
      "</div>\n",
      "</a>\n",
      "<div class=\"target-prev target-control block-link\">\n",
      "<i class=\"icon icon-chevron-left icon-size-2 icon-white\"></i>\n",
      "</div>\n",
      "<a href=\"/rooms/6597854?s=DZwzBZlG\" target=\"listing_6597854\" class=\"link-reset panel-overlay-bottom-left panel-overlay-label panel-overlay-listing-label\">\n",
      "<div class=\"tooltip tooltip-fixed tooltip-bottom-left total-price-breakdown text-dark-gray\" role=\"tooltip\">\n",
      "<div class=\"loading\"></div>\n",
      "</div>\n",
      "<div>\n",
      "<div class=\"price-amount-container\">\n",
      "<sup class=\"h6 text-contrast\">$</sup>\n",
      "<span class=\"h3 text-contrast price-amount\">58</span>\n",
      "<sup class=\"h6 text-contrast\"></sup>\n",
      "<span class=\"h3 icon-beach show-md-inline\">\n",
      "<i class=\"icon icon-instant-book icon-flush-sides\"></i>\n",
      "</span>\n",
      "</div>\n",
      "<span class=\"h3 icon-beach hide-md\">\n",
      "<i class=\"icon icon-instant-book icon-flush-sides\"></i>\n",
      "</span>\n",
      "</div>\n",
      "</a>\n",
      "<div class=\"tooltip tooltip-left-middle listing-card-ib-tooltip\" data-fixed=\"true\">\n",
      "<div class=\"panel-body text-dark-gray\">\n",
      "<div class=\"space-1 h5\">Instant Book</div>\n",
      "<p class=\"text-muted\">\n",
      "                          Look for the lightning bolt for faster booking\n",
      "                        </p>\n",
      "</div>\n",
      "</div>\n",
      "<div class=\"target-next target-control block-link\">\n",
      "<i class=\"icon icon-chevron-right icon-size-2 icon-white\"></i>\n",
      "</div>\n",
      "<div class=\"panel-overlay-top-right wl-social-connection-panel\">\n",
      "<span class=\"rich-toggle wish_list_button wishlist-button\" data-img=\"https://a1.muscache.com/im/pictures/919bc632-4e07-43c7-9f15-9df498ce452d.jpg?aki_policy=large\" data-name=\"Charming Spacious Harlem ...\" data-address=\"New York\" data-hosting_id=\"6597854\" data-price=\"$58\" data-review_count=\"2 reviews\" data-host_img=\"https://a0.muscache.com/im/pictures/42826a3c-89a4-4daf-87b3-b5f0b4ce2a7a.jpg?aki_policy=profile_medium\" data-star_rating=\"0\" data-summary=\"Room in classic NYC prewar. w Apple TV &amp; wifi. Private dining table in your space. Neighborhood is vibrant, diverse, safe. Walk to bars &amp; restaurants. Enjoy Riverbank Park's indoor pool and outdoor track. Trains 1, ABCD very close. 20 min. to 42 St.\" data-room_type=\"Private room\" data-property_type_name=\"Apartment\" data-person_capacity_string=\"2\" data-bedrooms_string=\"1\" data-space_tab_content=\"Your extra-large room includes a work / dining table and library plus ample storage space for all your stuff. The living room is comfy and features a flat screen with apple TV. We've also got tons of board games in case you're on a tech detox : )\n",
      "\n",
      "Access to shared kitchen, living room and bathroom.\n",
      "\n",
      "Happy to help you any way we can!\" data-neighborhood_tab_content=\"A few favorites: \n",
      "\n",
      "Brick Oven Pizza (URL HIDDEN)\n",
      "Loud Bar (URL HIDDEN)\n",
      "Brunch (URL HIDDEN)\n",
      "Tavern with great BBQ: (URL HIDDEN)\n",
      "Japanese-Dominican soon to arrive: (URL HIDDEN)\n",
      "Dominican (URL HIDDEN)\n",
      "Italian Wine Bar (URL HIDDEN)\n",
      "Bar / Eatery (URL HIDDEN)\n",
      "\n",
      "We are also a block from the NY Public Library and Riverbank State Park: (URL HIDDEN)\n",
      "\n",
      "1 Train / 145 Street stop is on the corner. ABCD / 145 Street stop is a few blocks away, about a 5 minute walk. A and D run express and are the fastest trains  to get downtown. Yellow taxis are ALWAYS easy to hail, any time of day or night, from the corner of 145 and Broadway.\n",
      "\n",
      "Laundry pick up and delivery services are available.\">\n",
      "<input type=\"checkbox\" id=\"wishlist-widget-6597854\" name=\"wishlist-widget-6597854\" data-for-hosting=\"6597854\" />\n",
      "<label for=\"wishlist-widget-6597854\" class=\"hide-sm\">\n",
      "<span class=\"screen-reader-only\">Wishlist</span>\n",
      "<i class=\"icon icon-heart icon-rausch icon-size-2 rich-toggle-checked\"></i>\n",
      "<i class=\"icon icon-heart wishlist-heart-unchecked icon-size-2 rich-toggle-unchecked\"></i>\n",
      "<i class=\"icon icon-heart-alt icon-white icon-size-2\" id=\"wishlist-widget-icon-6597854\"></i>\n",
      "</label>\n",
      "<div class=\"tooltip tooltip-right-middle bg-dark-gray wishlist-widget-tooltip\" role=\"tooltip\" data-trigger=\"#wishlist-widget-icon-6597854\" data-event=\"none\">\n",
      "<p class=\"text-white wishlist-widget-tooltip__body\"></p>\n",
      "</div>\n",
      "</span>\n",
      "</div>\n",
      "</div>\n",
      "<div class=\"panel-body panel-card-section\">\n",
      "<div class=\"media\">\n",
      "<a href=\"/users/show/5280006\" class=\"media-photo-badge pull-right card-profile-picture card-profile-picture-offset\">\n",
      "<div class=\"media-photo media-round\">\n",
      "<img src=\"https://a0.muscache.com/im/pictures/42826a3c-89a4-4daf-87b3-b5f0b4ce2a7a.jpg?aki_policy=profile_medium\" alt=\"Jennifer from New York\" />\n",
      "</div>\n",
      "</a>\n",
      "<h3 title=\"Charming Spacious Harlem Prewar Bdr\" itemprop=\"name\" class=\"h5 listing-name text-truncate row-space-top-1\">\n",
      "<a href=\"/rooms/6597854?s=DZwzBZlG\" target=\"listing_6597854\" class=\"text-normal\">\n",
      "                      Charming Spacious Harlem Prewar Bdr\n",
      "                    </a>\n",
      "</h3>\n",
      "<div itemprop=\"description\" class=\"text-muted listing-location text-truncate\">\n",
      "<span>\n",
      "<a href=\"/rooms/6597854?s=DZwzBZlG\" target=\"listing_6597854\" class=\"text-normal link-reset\">\n",
      "        Private room\n",
      "        \n",
      "         &middot; 2 reviews\n",
      "      </a>\n",
      "</span>\n",
      "</div>\n",
      "</div>\n",
      "</div>\n",
      "</div>\n",
      "\n",
      "\n"
     ]
    }
   ],
   "source": [
    "for listing in listings[0]:\n",
    "    data = listing.findChild(\"div\", {\"data-lat\":re.compile(\"[0-9]+\")})\n",
    "    lat = data['data-lat']\n",
    "    lng = data['data-lng']\n",
    "    user = data['data-user']\n",
    "    id = data['data-id']\n",
    "    \n",
    "    price_text = data['data-price']\n",
    "    price = int(re.search(r\"[0-9]+\", price_text).group(0))\n",
    "    \n",
    "    \n",
    "    \n",
    "    #lat = listing.find(\"div\", {\"data-lat\":re.compile(\"[0-9]+\")})\n",
    "    #print lat\n",
    "    \n",
    "    \n",
    "    #price = listing.find(\"data-price\")\n",
    "    #print price"
   ]
  },
  {
   "cell_type": "code",
   "execution_count": 53,
   "metadata": {
    "collapsed": true
   },
   "outputs": [],
   "source": [
    "listing = listings[0]"
   ]
  },
  {
   "cell_type": "code",
   "execution_count": 54,
   "metadata": {
    "collapsed": false
   },
   "outputs": [
    {
     "data": {
      "text/plain": [
       "u'40.82606214822694'"
      ]
     },
     "execution_count": 54,
     "metadata": {},
     "output_type": "execute_result"
    }
   ],
   "source": [
    "lat = listing.findChild(\"div\", {\"data-lat\":re.compile(\"[0-9]+\")})\n",
    "lat[\"data-lat\"]"
   ]
  },
  {
   "cell_type": "code",
   "execution_count": 94,
   "metadata": {
    "collapsed": false
   },
   "outputs": [],
   "source": [
    "lat2 = listing.findChild(\"div\", {\"data-lat\":re.compile(\"[a-z]+\")})"
   ]
  },
  {
   "cell_type": "code",
   "execution_count": 96,
   "metadata": {
    "collapsed": false
   },
   "outputs": [
    {
     "ename": "KeyError",
     "evalue": "'data-review-count'",
     "output_type": "error",
     "traceback": [
      "\u001b[0;31m---------------------------------------------------------------------------\u001b[0m",
      "\u001b[0;31mKeyError\u001b[0m                                  Traceback (most recent call last)",
      "\u001b[0;32m<ipython-input-96-a60abfe0727a>\u001b[0m in \u001b[0;36m<module>\u001b[0;34m()\u001b[0m\n\u001b[0;32m----> 1\u001b[0;31m \u001b[0mlat\u001b[0m\u001b[0;34m[\u001b[0m\u001b[0;34m'data-review-count'\u001b[0m\u001b[0;34m]\u001b[0m\u001b[0;34m\u001b[0m\u001b[0m\n\u001b[0m",
      "\u001b[0;32m/Users/paulsingman/pyth/data-analysis/venv/lib/python2.7/site-packages/BeautifulSoup.pyc\u001b[0m in \u001b[0;36m__getitem__\u001b[0;34m(self, key)\u001b[0m\n\u001b[1;32m    611\u001b[0m         \"\"\"tag[key] returns the value of the 'key' attribute for the tag,\n\u001b[1;32m    612\u001b[0m         and throws an exception if it's not there.\"\"\"\n\u001b[0;32m--> 613\u001b[0;31m         \u001b[0;32mreturn\u001b[0m \u001b[0mself\u001b[0m\u001b[0;34m.\u001b[0m\u001b[0m_getAttrMap\u001b[0m\u001b[0;34m(\u001b[0m\u001b[0;34m)\u001b[0m\u001b[0;34m[\u001b[0m\u001b[0mkey\u001b[0m\u001b[0;34m]\u001b[0m\u001b[0;34m\u001b[0m\u001b[0m\n\u001b[0m\u001b[1;32m    614\u001b[0m \u001b[0;34m\u001b[0m\u001b[0m\n\u001b[1;32m    615\u001b[0m     \u001b[0;32mdef\u001b[0m \u001b[0m__iter__\u001b[0m\u001b[0;34m(\u001b[0m\u001b[0mself\u001b[0m\u001b[0;34m)\u001b[0m\u001b[0;34m:\u001b[0m\u001b[0;34m\u001b[0m\u001b[0m\n",
      "\u001b[0;31mKeyError\u001b[0m: 'data-review-count'"
     ]
    }
   ],
   "source": [
    "lat['data-review-count']"
   ]
  },
  {
   "cell_type": "code",
   "execution_count": 76,
   "metadata": {
    "collapsed": false
   },
   "outputs": [
    {
     "ename": "KeyError",
     "evalue": "'data-has-superhost-badge'",
     "output_type": "error",
     "traceback": [
      "\u001b[0;31m---------------------------------------------------------------------------\u001b[0m",
      "\u001b[0;31mKeyError\u001b[0m                                  Traceback (most recent call last)",
      "\u001b[0;32m<ipython-input-76-3e1a8723c369>\u001b[0m in \u001b[0;36m<module>\u001b[0;34m()\u001b[0m\n\u001b[0;32m----> 1\u001b[0;31m \u001b[0mlat2\u001b[0m\u001b[0;34m[\u001b[0m\u001b[0;34m'data-has-superhost-badge'\u001b[0m\u001b[0;34m]\u001b[0m\u001b[0;34m\u001b[0m\u001b[0m\n\u001b[0m",
      "\u001b[0;32m/Users/paulsingman/pyth/data-analysis/venv/lib/python2.7/site-packages/BeautifulSoup.pyc\u001b[0m in \u001b[0;36m__getitem__\u001b[0;34m(self, key)\u001b[0m\n\u001b[1;32m    611\u001b[0m         \"\"\"tag[key] returns the value of the 'key' attribute for the tag,\n\u001b[1;32m    612\u001b[0m         and throws an exception if it's not there.\"\"\"\n\u001b[0;32m--> 613\u001b[0;31m         \u001b[0;32mreturn\u001b[0m \u001b[0mself\u001b[0m\u001b[0;34m.\u001b[0m\u001b[0m_getAttrMap\u001b[0m\u001b[0;34m(\u001b[0m\u001b[0;34m)\u001b[0m\u001b[0;34m[\u001b[0m\u001b[0mkey\u001b[0m\u001b[0;34m]\u001b[0m\u001b[0;34m\u001b[0m\u001b[0m\n\u001b[0m\u001b[1;32m    614\u001b[0m \u001b[0;34m\u001b[0m\u001b[0m\n\u001b[1;32m    615\u001b[0m     \u001b[0;32mdef\u001b[0m \u001b[0m__iter__\u001b[0m\u001b[0;34m(\u001b[0m\u001b[0mself\u001b[0m\u001b[0;34m)\u001b[0m\u001b[0;34m:\u001b[0m\u001b[0;34m\u001b[0m\u001b[0m\n",
      "\u001b[0;31mKeyError\u001b[0m: 'data-has-superhost-badge'"
     ]
    }
   ],
   "source": [
    "lat2['data-has-superhost-badge']"
   ]
  },
  {
   "cell_type": "code",
   "execution_count": null,
   "metadata": {
    "collapsed": true
   },
   "outputs": [],
   "source": []
  },
  {
   "cell_type": "code",
   "execution_count": 98,
   "metadata": {
    "collapsed": false
   },
   "outputs": [
    {
     "ename": "KeyError",
     "evalue": "'data-review-count'",
     "output_type": "error",
     "traceback": [
      "\u001b[0;31m---------------------------------------------------------------------------\u001b[0m",
      "\u001b[0;31mKeyError\u001b[0m                                  Traceback (most recent call last)",
      "\u001b[0;32m<ipython-input-98-7e3b6d6a9dba>\u001b[0m in \u001b[0;36m<module>\u001b[0;34m()\u001b[0m\n\u001b[0;32m----> 1\u001b[0;31m \u001b[0mlat\u001b[0m\u001b[0;34m[\u001b[0m\u001b[0;34m\"data-review-count\"\u001b[0m\u001b[0;34m]\u001b[0m\u001b[0;34m\u001b[0m\u001b[0m\n\u001b[0m",
      "\u001b[0;32m/Users/paulsingman/pyth/data-analysis/venv/lib/python2.7/site-packages/BeautifulSoup.pyc\u001b[0m in \u001b[0;36m__getitem__\u001b[0;34m(self, key)\u001b[0m\n\u001b[1;32m    611\u001b[0m         \"\"\"tag[key] returns the value of the 'key' attribute for the tag,\n\u001b[1;32m    612\u001b[0m         and throws an exception if it's not there.\"\"\"\n\u001b[0;32m--> 613\u001b[0;31m         \u001b[0;32mreturn\u001b[0m \u001b[0mself\u001b[0m\u001b[0;34m.\u001b[0m\u001b[0m_getAttrMap\u001b[0m\u001b[0;34m(\u001b[0m\u001b[0;34m)\u001b[0m\u001b[0;34m[\u001b[0m\u001b[0mkey\u001b[0m\u001b[0;34m]\u001b[0m\u001b[0;34m\u001b[0m\u001b[0m\n\u001b[0m\u001b[1;32m    614\u001b[0m \u001b[0;34m\u001b[0m\u001b[0m\n\u001b[1;32m    615\u001b[0m     \u001b[0;32mdef\u001b[0m \u001b[0m__iter__\u001b[0m\u001b[0;34m(\u001b[0m\u001b[0mself\u001b[0m\u001b[0;34m)\u001b[0m\u001b[0;34m:\u001b[0m\u001b[0;34m\u001b[0m\u001b[0m\n",
      "\u001b[0;31mKeyError\u001b[0m: 'data-review-count'"
     ]
    }
   ],
   "source": [
    "lat[\"data-review-count\"]"
   ]
  },
  {
   "cell_type": "code",
   "execution_count": 59,
   "metadata": {
    "collapsed": false
   },
   "outputs": [
    {
     "data": {
      "text/plain": [
       "u'<sup>$</sup>58<sup></sup>'"
      ]
     },
     "execution_count": 59,
     "metadata": {},
     "output_type": "execute_result"
    }
   ],
   "source": [
    "price_data = lat['data-price']\n",
    "price_data"
   ]
  },
  {
   "cell_type": "code",
   "execution_count": 63,
   "metadata": {
    "collapsed": false
   },
   "outputs": [
    {
     "data": {
      "text/plain": [
       "58"
      ]
     },
     "execution_count": 63,
     "metadata": {},
     "output_type": "execute_result"
    }
   ],
   "source": [
    "price = int(re.search(r\"[0-9]+\", price_data).group(0))\n",
    "price"
   ]
  },
  {
   "cell_type": "code",
   "execution_count": 100,
   "metadata": {
    "collapsed": false
   },
   "outputs": [
    {
     "name": "stdout",
     "output_type": "stream",
     "text": [
      "[<sup>$</sup>, <sup></sup>, <div class=\"panel-image listing-img\">\n",
      "<div class=\"listing-description wl-data-6597854\">\n",
      "<div class=\"summary\">\n",
      "                      Room in classic NYC prewar. w Apple TV &amp; wifi. Private dining table in your space. Neighborhood is vibrant, diverse, safe. Walk to bars &amp; restaurants. Enjoy Riverbank Park's indoor pool and outdoor track. Trains 1, ABCD very close. 20 min. to 42 St.\n",
      "                        <div>Your extra-large room includes a work / dining table and library plus ample storage space for all your stuff. The living room is comfy and features a flat screen with apple TV. We've also got tons of board games in case you're on a tech detox : )\n",
      "\n",
      "Access to shared kitchen, living room and bathroom.\n",
      "\n",
      "Happy to help you any way we can!</div>\n",
      "<div>A few favorites: \n",
      "\n",
      "Brick Oven Pizza (URL HIDDEN)\n",
      "Loud Bar (URL HIDDEN)\n",
      "Brunch (URL HIDDEN)\n",
      "Tavern with great BBQ: (URL HIDDEN)\n",
      "Japanese-Dominican soon to arrive: (URL HIDDEN)\n",
      "Dominican (URL HIDDEN)\n",
      "Italian Wine Bar (URL HIDDEN)\n",
      "Bar / Eatery (URL HIDDEN)\n",
      "\n",
      "We are also a block from the NY Public Library and Riverbank State Park: (URL HIDDEN)\n",
      "\n",
      "1 Train / 145 Street stop is on the corner. ABCD / 145 Street stop is a few blocks away, about a 5 minute walk. A and D run express and are the fastest trains  to get downtown. Yellow taxis are ALWAYS easy to hail, any time of day or night, from the corner of 145 and Broadway.\n",
      "\n",
      "Laundry pick up and delivery services are available.</div>\n",
      "<div>\n",
      "                        Room Type\n",
      "                        <span class=\"pull-right\">Private room</span>\n",
      "<hr />\n",
      "                        Property Type\n",
      "                        <span class=\"pull-right\">Apartment</span>\n",
      "<hr />\n",
      "                        Accommodates\n",
      "                        <span class=\"pull-right\">2</span>\n",
      "<hr />\n",
      "                        Bedrooms\n",
      "                        <span class=\"pull-right\">1</span>\n",
      "</div>\n",
      "</div>\n",
      "<p class=\"address\">New York</p>\n",
      "</div>\n",
      "<a href=\"/rooms/6597854?s=DZwzBZlG\" target=\"listing_6597854\" class=\"media-photo media-cover\">\n",
      "<div class=\"listing-img-container media-cover text-center\">\n",
      "<img itemprop=\"image\" data-current=\"0\" src=\"https://a1.muscache.com/im/pictures/919bc632-4e07-43c7-9f15-9df498ce452d.jpg?aki_policy=x_medium\" class=\"img-responsive-height\" alt=\"Charming Spacious Harlem Prewar Bdr\" data-urls='[\"https://a1.muscache.com/im/pictures/919bc632-4e07-43c7-9f15-9df498ce452d.jpg?aki_policy=x_medium\", \"https://a2.muscache.com/im/pictures/83100286/a981870f_original.jpg?aki_policy=x_medium\", \"https://a1.muscache.com/im/pictures/df0f4105-8888-4e4f-8a6e-8700075feb6a.jpg?aki_policy=x_medium\", \"https://a1.muscache.com/im/pictures/d6deca91-a040-4a16-94ed-7c4130cfb2da.jpg?aki_policy=x_medium\", \"https://a1.muscache.com/im/pictures/27cc8b3b-a830-4abb-9e16-fc03964be9ff.jpg?aki_policy=x_medium\"]' data-picture-count=\"13\" data-should-async-load=\"true\" />\n",
      "</div>\n",
      "</a>\n",
      "<div class=\"target-prev target-control block-link\">\n",
      "<i class=\"icon icon-chevron-left icon-size-2 icon-white\"></i>\n",
      "</div>\n",
      "<a href=\"/rooms/6597854?s=DZwzBZlG\" target=\"listing_6597854\" class=\"link-reset panel-overlay-bottom-left panel-overlay-label panel-overlay-listing-label\">\n",
      "<div class=\"tooltip tooltip-fixed tooltip-bottom-left total-price-breakdown text-dark-gray\" role=\"tooltip\">\n",
      "<div class=\"loading\"></div>\n",
      "</div>\n",
      "<div>\n",
      "<div class=\"price-amount-container\">\n",
      "<sup class=\"h6 text-contrast\">$</sup>\n",
      "<span class=\"h3 text-contrast price-amount\">58</span>\n",
      "<sup class=\"h6 text-contrast\"></sup>\n",
      "<span class=\"h3 icon-beach show-md-inline\">\n",
      "<i class=\"icon icon-instant-book icon-flush-sides\"></i>\n",
      "</span>\n",
      "</div>\n",
      "<span class=\"h3 icon-beach hide-md\">\n",
      "<i class=\"icon icon-instant-book icon-flush-sides\"></i>\n",
      "</span>\n",
      "</div>\n",
      "</a>\n",
      "<div class=\"tooltip tooltip-left-middle listing-card-ib-tooltip\" data-fixed=\"true\">\n",
      "<div class=\"panel-body text-dark-gray\">\n",
      "<div class=\"space-1 h5\">Instant Book</div>\n",
      "<p class=\"text-muted\">\n",
      "                          Look for the lightning bolt for faster booking\n",
      "                        </p>\n",
      "</div>\n",
      "</div>\n",
      "<div class=\"target-next target-control block-link\">\n",
      "<i class=\"icon icon-chevron-right icon-size-2 icon-white\"></i>\n",
      "</div>\n",
      "<div class=\"panel-overlay-top-right wl-social-connection-panel\">\n",
      "<span class=\"rich-toggle wish_list_button wishlist-button\" data-img=\"https://a1.muscache.com/im/pictures/919bc632-4e07-43c7-9f15-9df498ce452d.jpg?aki_policy=large\" data-name=\"Charming Spacious Harlem ...\" data-address=\"New York\" data-hosting_id=\"6597854\" data-price=\"$58\" data-review_count=\"2 reviews\" data-host_img=\"https://a0.muscache.com/im/pictures/42826a3c-89a4-4daf-87b3-b5f0b4ce2a7a.jpg?aki_policy=profile_medium\" data-star_rating=\"0\" data-summary=\"Room in classic NYC prewar. w Apple TV &amp; wifi. Private dining table in your space. Neighborhood is vibrant, diverse, safe. Walk to bars &amp; restaurants. Enjoy Riverbank Park's indoor pool and outdoor track. Trains 1, ABCD very close. 20 min. to 42 St.\" data-room_type=\"Private room\" data-property_type_name=\"Apartment\" data-person_capacity_string=\"2\" data-bedrooms_string=\"1\" data-space_tab_content=\"Your extra-large room includes a work / dining table and library plus ample storage space for all your stuff. The living room is comfy and features a flat screen with apple TV. We've also got tons of board games in case you're on a tech detox : )\n",
      "\n",
      "Access to shared kitchen, living room and bathroom.\n",
      "\n",
      "Happy to help you any way we can!\" data-neighborhood_tab_content=\"A few favorites: \n",
      "\n",
      "Brick Oven Pizza (URL HIDDEN)\n",
      "Loud Bar (URL HIDDEN)\n",
      "Brunch (URL HIDDEN)\n",
      "Tavern with great BBQ: (URL HIDDEN)\n",
      "Japanese-Dominican soon to arrive: (URL HIDDEN)\n",
      "Dominican (URL HIDDEN)\n",
      "Italian Wine Bar (URL HIDDEN)\n",
      "Bar / Eatery (URL HIDDEN)\n",
      "\n",
      "We are also a block from the NY Public Library and Riverbank State Park: (URL HIDDEN)\n",
      "\n",
      "1 Train / 145 Street stop is on the corner. ABCD / 145 Street stop is a few blocks away, about a 5 minute walk. A and D run express and are the fastest trains  to get downtown. Yellow taxis are ALWAYS easy to hail, any time of day or night, from the corner of 145 and Broadway.\n",
      "\n",
      "Laundry pick up and delivery services are available.\">\n",
      "<input type=\"checkbox\" id=\"wishlist-widget-6597854\" name=\"wishlist-widget-6597854\" data-for-hosting=\"6597854\" />\n",
      "<label for=\"wishlist-widget-6597854\" class=\"hide-sm\">\n",
      "<span class=\"screen-reader-only\">Wishlist</span>\n",
      "<i class=\"icon icon-heart icon-rausch icon-size-2 rich-toggle-checked\"></i>\n",
      "<i class=\"icon icon-heart wishlist-heart-unchecked icon-size-2 rich-toggle-unchecked\"></i>\n",
      "<i class=\"icon icon-heart-alt icon-white icon-size-2\" id=\"wishlist-widget-icon-6597854\"></i>\n",
      "</label>\n",
      "<div class=\"tooltip tooltip-right-middle bg-dark-gray wishlist-widget-tooltip\" role=\"tooltip\" data-trigger=\"#wishlist-widget-icon-6597854\" data-event=\"none\">\n",
      "<p class=\"text-white wishlist-widget-tooltip__body\"></p>\n",
      "</div>\n",
      "</span>\n",
      "</div>\n",
      "</div>, <div class=\"listing-description wl-data-6597854\">\n",
      "<div class=\"summary\">\n",
      "                      Room in classic NYC prewar. w Apple TV &amp; wifi. Private dining table in your space. Neighborhood is vibrant, diverse, safe. Walk to bars &amp; restaurants. Enjoy Riverbank Park's indoor pool and outdoor track. Trains 1, ABCD very close. 20 min. to 42 St.\n",
      "                        <div>Your extra-large room includes a work / dining table and library plus ample storage space for all your stuff. The living room is comfy and features a flat screen with apple TV. We've also got tons of board games in case you're on a tech detox : )\n",
      "\n",
      "Access to shared kitchen, living room and bathroom.\n",
      "\n",
      "Happy to help you any way we can!</div>\n",
      "<div>A few favorites: \n",
      "\n",
      "Brick Oven Pizza (URL HIDDEN)\n",
      "Loud Bar (URL HIDDEN)\n",
      "Brunch (URL HIDDEN)\n",
      "Tavern with great BBQ: (URL HIDDEN)\n",
      "Japanese-Dominican soon to arrive: (URL HIDDEN)\n",
      "Dominican (URL HIDDEN)\n",
      "Italian Wine Bar (URL HIDDEN)\n",
      "Bar / Eatery (URL HIDDEN)\n",
      "\n",
      "We are also a block from the NY Public Library and Riverbank State Park: (URL HIDDEN)\n",
      "\n",
      "1 Train / 145 Street stop is on the corner. ABCD / 145 Street stop is a few blocks away, about a 5 minute walk. A and D run express and are the fastest trains  to get downtown. Yellow taxis are ALWAYS easy to hail, any time of day or night, from the corner of 145 and Broadway.\n",
      "\n",
      "Laundry pick up and delivery services are available.</div>\n",
      "<div>\n",
      "                        Room Type\n",
      "                        <span class=\"pull-right\">Private room</span>\n",
      "<hr />\n",
      "                        Property Type\n",
      "                        <span class=\"pull-right\">Apartment</span>\n",
      "<hr />\n",
      "                        Accommodates\n",
      "                        <span class=\"pull-right\">2</span>\n",
      "<hr />\n",
      "                        Bedrooms\n",
      "                        <span class=\"pull-right\">1</span>\n",
      "</div>\n",
      "</div>\n",
      "<p class=\"address\">New York</p>\n",
      "</div>, <div class=\"summary\">\n",
      "                      Room in classic NYC prewar. w Apple TV &amp; wifi. Private dining table in your space. Neighborhood is vibrant, diverse, safe. Walk to bars &amp; restaurants. Enjoy Riverbank Park's indoor pool and outdoor track. Trains 1, ABCD very close. 20 min. to 42 St.\n",
      "                        <div>Your extra-large room includes a work / dining table and library plus ample storage space for all your stuff. The living room is comfy and features a flat screen with apple TV. We've also got tons of board games in case you're on a tech detox : )\n",
      "\n",
      "Access to shared kitchen, living room and bathroom.\n",
      "\n",
      "Happy to help you any way we can!</div>\n",
      "<div>A few favorites: \n",
      "\n",
      "Brick Oven Pizza (URL HIDDEN)\n",
      "Loud Bar (URL HIDDEN)\n",
      "Brunch (URL HIDDEN)\n",
      "Tavern with great BBQ: (URL HIDDEN)\n",
      "Japanese-Dominican soon to arrive: (URL HIDDEN)\n",
      "Dominican (URL HIDDEN)\n",
      "Italian Wine Bar (URL HIDDEN)\n",
      "Bar / Eatery (URL HIDDEN)\n",
      "\n",
      "We are also a block from the NY Public Library and Riverbank State Park: (URL HIDDEN)\n",
      "\n",
      "1 Train / 145 Street stop is on the corner. ABCD / 145 Street stop is a few blocks away, about a 5 minute walk. A and D run express and are the fastest trains  to get downtown. Yellow taxis are ALWAYS easy to hail, any time of day or night, from the corner of 145 and Broadway.\n",
      "\n",
      "Laundry pick up and delivery services are available.</div>\n",
      "<div>\n",
      "                        Room Type\n",
      "                        <span class=\"pull-right\">Private room</span>\n",
      "<hr />\n",
      "                        Property Type\n",
      "                        <span class=\"pull-right\">Apartment</span>\n",
      "<hr />\n",
      "                        Accommodates\n",
      "                        <span class=\"pull-right\">2</span>\n",
      "<hr />\n",
      "                        Bedrooms\n",
      "                        <span class=\"pull-right\">1</span>\n",
      "</div>\n",
      "</div>, <div>Your extra-large room includes a work / dining table and library plus ample storage space for all your stuff. The living room is comfy and features a flat screen with apple TV. We've also got tons of board games in case you're on a tech detox : )\n",
      "\n",
      "Access to shared kitchen, living room and bathroom.\n",
      "\n",
      "Happy to help you any way we can!</div>, <div>A few favorites: \n",
      "\n",
      "Brick Oven Pizza (URL HIDDEN)\n",
      "Loud Bar (URL HIDDEN)\n",
      "Brunch (URL HIDDEN)\n",
      "Tavern with great BBQ: (URL HIDDEN)\n",
      "Japanese-Dominican soon to arrive: (URL HIDDEN)\n",
      "Dominican (URL HIDDEN)\n",
      "Italian Wine Bar (URL HIDDEN)\n",
      "Bar / Eatery (URL HIDDEN)\n",
      "\n",
      "We are also a block from the NY Public Library and Riverbank State Park: (URL HIDDEN)\n",
      "\n",
      "1 Train / 145 Street stop is on the corner. ABCD / 145 Street stop is a few blocks away, about a 5 minute walk. A and D run express and are the fastest trains  to get downtown. Yellow taxis are ALWAYS easy to hail, any time of day or night, from the corner of 145 and Broadway.\n",
      "\n",
      "Laundry pick up and delivery services are available.</div>, <div>\n",
      "                        Room Type\n",
      "                        <span class=\"pull-right\">Private room</span>\n",
      "<hr />\n",
      "                        Property Type\n",
      "                        <span class=\"pull-right\">Apartment</span>\n",
      "<hr />\n",
      "                        Accommodates\n",
      "                        <span class=\"pull-right\">2</span>\n",
      "<hr />\n",
      "                        Bedrooms\n",
      "                        <span class=\"pull-right\">1</span>\n",
      "</div>, <span class=\"pull-right\">Private room</span>, <hr />, <span class=\"pull-right\">Apartment</span>, <hr />, <span class=\"pull-right\">2</span>, <hr />, <span class=\"pull-right\">1</span>, <p class=\"address\">New York</p>, <a href=\"/rooms/6597854?s=DZwzBZlG\" target=\"listing_6597854\" class=\"media-photo media-cover\">\n",
      "<div class=\"listing-img-container media-cover text-center\">\n",
      "<img itemprop=\"image\" data-current=\"0\" src=\"https://a1.muscache.com/im/pictures/919bc632-4e07-43c7-9f15-9df498ce452d.jpg?aki_policy=x_medium\" class=\"img-responsive-height\" alt=\"Charming Spacious Harlem Prewar Bdr\" data-urls='[\"https://a1.muscache.com/im/pictures/919bc632-4e07-43c7-9f15-9df498ce452d.jpg?aki_policy=x_medium\", \"https://a2.muscache.com/im/pictures/83100286/a981870f_original.jpg?aki_policy=x_medium\", \"https://a1.muscache.com/im/pictures/df0f4105-8888-4e4f-8a6e-8700075feb6a.jpg?aki_policy=x_medium\", \"https://a1.muscache.com/im/pictures/d6deca91-a040-4a16-94ed-7c4130cfb2da.jpg?aki_policy=x_medium\", \"https://a1.muscache.com/im/pictures/27cc8b3b-a830-4abb-9e16-fc03964be9ff.jpg?aki_policy=x_medium\"]' data-picture-count=\"13\" data-should-async-load=\"true\" />\n",
      "</div>\n",
      "</a>, <div class=\"listing-img-container media-cover text-center\">\n",
      "<img itemprop=\"image\" data-current=\"0\" src=\"https://a1.muscache.com/im/pictures/919bc632-4e07-43c7-9f15-9df498ce452d.jpg?aki_policy=x_medium\" class=\"img-responsive-height\" alt=\"Charming Spacious Harlem Prewar Bdr\" data-urls='[\"https://a1.muscache.com/im/pictures/919bc632-4e07-43c7-9f15-9df498ce452d.jpg?aki_policy=x_medium\", \"https://a2.muscache.com/im/pictures/83100286/a981870f_original.jpg?aki_policy=x_medium\", \"https://a1.muscache.com/im/pictures/df0f4105-8888-4e4f-8a6e-8700075feb6a.jpg?aki_policy=x_medium\", \"https://a1.muscache.com/im/pictures/d6deca91-a040-4a16-94ed-7c4130cfb2da.jpg?aki_policy=x_medium\", \"https://a1.muscache.com/im/pictures/27cc8b3b-a830-4abb-9e16-fc03964be9ff.jpg?aki_policy=x_medium\"]' data-picture-count=\"13\" data-should-async-load=\"true\" />\n",
      "</div>, <img itemprop=\"image\" data-current=\"0\" src=\"https://a1.muscache.com/im/pictures/919bc632-4e07-43c7-9f15-9df498ce452d.jpg?aki_policy=x_medium\" class=\"img-responsive-height\" alt=\"Charming Spacious Harlem Prewar Bdr\" data-urls='[\"https://a1.muscache.com/im/pictures/919bc632-4e07-43c7-9f15-9df498ce452d.jpg?aki_policy=x_medium\", \"https://a2.muscache.com/im/pictures/83100286/a981870f_original.jpg?aki_policy=x_medium\", \"https://a1.muscache.com/im/pictures/df0f4105-8888-4e4f-8a6e-8700075feb6a.jpg?aki_policy=x_medium\", \"https://a1.muscache.com/im/pictures/d6deca91-a040-4a16-94ed-7c4130cfb2da.jpg?aki_policy=x_medium\", \"https://a1.muscache.com/im/pictures/27cc8b3b-a830-4abb-9e16-fc03964be9ff.jpg?aki_policy=x_medium\"]' data-picture-count=\"13\" data-should-async-load=\"true\" />, <div class=\"target-prev target-control block-link\">\n",
      "<i class=\"icon icon-chevron-left icon-size-2 icon-white\"></i>\n",
      "</div>, <i class=\"icon icon-chevron-left icon-size-2 icon-white\"></i>, <a href=\"/rooms/6597854?s=DZwzBZlG\" target=\"listing_6597854\" class=\"link-reset panel-overlay-bottom-left panel-overlay-label panel-overlay-listing-label\">\n",
      "<div class=\"tooltip tooltip-fixed tooltip-bottom-left total-price-breakdown text-dark-gray\" role=\"tooltip\">\n",
      "<div class=\"loading\"></div>\n",
      "</div>\n",
      "<div>\n",
      "<div class=\"price-amount-container\">\n",
      "<sup class=\"h6 text-contrast\">$</sup>\n",
      "<span class=\"h3 text-contrast price-amount\">58</span>\n",
      "<sup class=\"h6 text-contrast\"></sup>\n",
      "<span class=\"h3 icon-beach show-md-inline\">\n",
      "<i class=\"icon icon-instant-book icon-flush-sides\"></i>\n",
      "</span>\n",
      "</div>\n",
      "<span class=\"h3 icon-beach hide-md\">\n",
      "<i class=\"icon icon-instant-book icon-flush-sides\"></i>\n",
      "</span>\n",
      "</div>\n",
      "</a>, <div class=\"tooltip tooltip-fixed tooltip-bottom-left total-price-breakdown text-dark-gray\" role=\"tooltip\">\n",
      "<div class=\"loading\"></div>\n",
      "</div>, <div class=\"loading\"></div>, <div>\n",
      "<div class=\"price-amount-container\">\n",
      "<sup class=\"h6 text-contrast\">$</sup>\n",
      "<span class=\"h3 text-contrast price-amount\">58</span>\n",
      "<sup class=\"h6 text-contrast\"></sup>\n",
      "<span class=\"h3 icon-beach show-md-inline\">\n",
      "<i class=\"icon icon-instant-book icon-flush-sides\"></i>\n",
      "</span>\n",
      "</div>\n",
      "<span class=\"h3 icon-beach hide-md\">\n",
      "<i class=\"icon icon-instant-book icon-flush-sides\"></i>\n",
      "</span>\n",
      "</div>, <div class=\"price-amount-container\">\n",
      "<sup class=\"h6 text-contrast\">$</sup>\n",
      "<span class=\"h3 text-contrast price-amount\">58</span>\n",
      "<sup class=\"h6 text-contrast\"></sup>\n",
      "<span class=\"h3 icon-beach show-md-inline\">\n",
      "<i class=\"icon icon-instant-book icon-flush-sides\"></i>\n",
      "</span>\n",
      "</div>, <sup class=\"h6 text-contrast\">$</sup>, <span class=\"h3 text-contrast price-amount\">58</span>, <sup class=\"h6 text-contrast\"></sup>, <span class=\"h3 icon-beach show-md-inline\">\n",
      "<i class=\"icon icon-instant-book icon-flush-sides\"></i>\n",
      "</span>, <i class=\"icon icon-instant-book icon-flush-sides\"></i>, <span class=\"h3 icon-beach hide-md\">\n",
      "<i class=\"icon icon-instant-book icon-flush-sides\"></i>\n",
      "</span>, <i class=\"icon icon-instant-book icon-flush-sides\"></i>, <div class=\"tooltip tooltip-left-middle listing-card-ib-tooltip\" data-fixed=\"true\">\n",
      "<div class=\"panel-body text-dark-gray\">\n",
      "<div class=\"space-1 h5\">Instant Book</div>\n",
      "<p class=\"text-muted\">\n",
      "                          Look for the lightning bolt for faster booking\n",
      "                        </p>\n",
      "</div>\n",
      "</div>, <div class=\"panel-body text-dark-gray\">\n",
      "<div class=\"space-1 h5\">Instant Book</div>\n",
      "<p class=\"text-muted\">\n",
      "                          Look for the lightning bolt for faster booking\n",
      "                        </p>\n",
      "</div>, <div class=\"space-1 h5\">Instant Book</div>, <p class=\"text-muted\">\n",
      "                          Look for the lightning bolt for faster booking\n",
      "                        </p>, <div class=\"target-next target-control block-link\">\n",
      "<i class=\"icon icon-chevron-right icon-size-2 icon-white\"></i>\n",
      "</div>, <i class=\"icon icon-chevron-right icon-size-2 icon-white\"></i>, <div class=\"panel-overlay-top-right wl-social-connection-panel\">\n",
      "<span class=\"rich-toggle wish_list_button wishlist-button\" data-img=\"https://a1.muscache.com/im/pictures/919bc632-4e07-43c7-9f15-9df498ce452d.jpg?aki_policy=large\" data-name=\"Charming Spacious Harlem ...\" data-address=\"New York\" data-hosting_id=\"6597854\" data-price=\"$58\" data-review_count=\"2 reviews\" data-host_img=\"https://a0.muscache.com/im/pictures/42826a3c-89a4-4daf-87b3-b5f0b4ce2a7a.jpg?aki_policy=profile_medium\" data-star_rating=\"0\" data-summary=\"Room in classic NYC prewar. w Apple TV &amp; wifi. Private dining table in your space. Neighborhood is vibrant, diverse, safe. Walk to bars &amp; restaurants. Enjoy Riverbank Park's indoor pool and outdoor track. Trains 1, ABCD very close. 20 min. to 42 St.\" data-room_type=\"Private room\" data-property_type_name=\"Apartment\" data-person_capacity_string=\"2\" data-bedrooms_string=\"1\" data-space_tab_content=\"Your extra-large room includes a work / dining table and library plus ample storage space for all your stuff. The living room is comfy and features a flat screen with apple TV. We've also got tons of board games in case you're on a tech detox : )\n",
      "\n",
      "Access to shared kitchen, living room and bathroom.\n",
      "\n",
      "Happy to help you any way we can!\" data-neighborhood_tab_content=\"A few favorites: \n",
      "\n",
      "Brick Oven Pizza (URL HIDDEN)\n",
      "Loud Bar (URL HIDDEN)\n",
      "Brunch (URL HIDDEN)\n",
      "Tavern with great BBQ: (URL HIDDEN)\n",
      "Japanese-Dominican soon to arrive: (URL HIDDEN)\n",
      "Dominican (URL HIDDEN)\n",
      "Italian Wine Bar (URL HIDDEN)\n",
      "Bar / Eatery (URL HIDDEN)\n",
      "\n",
      "We are also a block from the NY Public Library and Riverbank State Park: (URL HIDDEN)\n",
      "\n",
      "1 Train / 145 Street stop is on the corner. ABCD / 145 Street stop is a few blocks away, about a 5 minute walk. A and D run express and are the fastest trains  to get downtown. Yellow taxis are ALWAYS easy to hail, any time of day or night, from the corner of 145 and Broadway.\n",
      "\n",
      "Laundry pick up and delivery services are available.\">\n",
      "<input type=\"checkbox\" id=\"wishlist-widget-6597854\" name=\"wishlist-widget-6597854\" data-for-hosting=\"6597854\" />\n",
      "<label for=\"wishlist-widget-6597854\" class=\"hide-sm\">\n",
      "<span class=\"screen-reader-only\">Wishlist</span>\n",
      "<i class=\"icon icon-heart icon-rausch icon-size-2 rich-toggle-checked\"></i>\n",
      "<i class=\"icon icon-heart wishlist-heart-unchecked icon-size-2 rich-toggle-unchecked\"></i>\n",
      "<i class=\"icon icon-heart-alt icon-white icon-size-2\" id=\"wishlist-widget-icon-6597854\"></i>\n",
      "</label>\n",
      "<div class=\"tooltip tooltip-right-middle bg-dark-gray wishlist-widget-tooltip\" role=\"tooltip\" data-trigger=\"#wishlist-widget-icon-6597854\" data-event=\"none\">\n",
      "<p class=\"text-white wishlist-widget-tooltip__body\"></p>\n",
      "</div>\n",
      "</span>\n",
      "</div>, <span class=\"rich-toggle wish_list_button wishlist-button\" data-img=\"https://a1.muscache.com/im/pictures/919bc632-4e07-43c7-9f15-9df498ce452d.jpg?aki_policy=large\" data-name=\"Charming Spacious Harlem ...\" data-address=\"New York\" data-hosting_id=\"6597854\" data-price=\"$58\" data-review_count=\"2 reviews\" data-host_img=\"https://a0.muscache.com/im/pictures/42826a3c-89a4-4daf-87b3-b5f0b4ce2a7a.jpg?aki_policy=profile_medium\" data-star_rating=\"0\" data-summary=\"Room in classic NYC prewar. w Apple TV &amp; wifi. Private dining table in your space. Neighborhood is vibrant, diverse, safe. Walk to bars &amp; restaurants. Enjoy Riverbank Park's indoor pool and outdoor track. Trains 1, ABCD very close. 20 min. to 42 St.\" data-room_type=\"Private room\" data-property_type_name=\"Apartment\" data-person_capacity_string=\"2\" data-bedrooms_string=\"1\" data-space_tab_content=\"Your extra-large room includes a work / dining table and library plus ample storage space for all your stuff. The living room is comfy and features a flat screen with apple TV. We've also got tons of board games in case you're on a tech detox : )\n",
      "\n",
      "Access to shared kitchen, living room and bathroom.\n",
      "\n",
      "Happy to help you any way we can!\" data-neighborhood_tab_content=\"A few favorites: \n",
      "\n",
      "Brick Oven Pizza (URL HIDDEN)\n",
      "Loud Bar (URL HIDDEN)\n",
      "Brunch (URL HIDDEN)\n",
      "Tavern with great BBQ: (URL HIDDEN)\n",
      "Japanese-Dominican soon to arrive: (URL HIDDEN)\n",
      "Dominican (URL HIDDEN)\n",
      "Italian Wine Bar (URL HIDDEN)\n",
      "Bar / Eatery (URL HIDDEN)\n",
      "\n",
      "We are also a block from the NY Public Library and Riverbank State Park: (URL HIDDEN)\n",
      "\n",
      "1 Train / 145 Street stop is on the corner. ABCD / 145 Street stop is a few blocks away, about a 5 minute walk. A and D run express and are the fastest trains  to get downtown. Yellow taxis are ALWAYS easy to hail, any time of day or night, from the corner of 145 and Broadway.\n",
      "\n",
      "Laundry pick up and delivery services are available.\">\n",
      "<input type=\"checkbox\" id=\"wishlist-widget-6597854\" name=\"wishlist-widget-6597854\" data-for-hosting=\"6597854\" />\n",
      "<label for=\"wishlist-widget-6597854\" class=\"hide-sm\">\n",
      "<span class=\"screen-reader-only\">Wishlist</span>\n",
      "<i class=\"icon icon-heart icon-rausch icon-size-2 rich-toggle-checked\"></i>\n",
      "<i class=\"icon icon-heart wishlist-heart-unchecked icon-size-2 rich-toggle-unchecked\"></i>\n",
      "<i class=\"icon icon-heart-alt icon-white icon-size-2\" id=\"wishlist-widget-icon-6597854\"></i>\n",
      "</label>\n",
      "<div class=\"tooltip tooltip-right-middle bg-dark-gray wishlist-widget-tooltip\" role=\"tooltip\" data-trigger=\"#wishlist-widget-icon-6597854\" data-event=\"none\">\n",
      "<p class=\"text-white wishlist-widget-tooltip__body\"></p>\n",
      "</div>\n",
      "</span>, <input type=\"checkbox\" id=\"wishlist-widget-6597854\" name=\"wishlist-widget-6597854\" data-for-hosting=\"6597854\" />, <label for=\"wishlist-widget-6597854\" class=\"hide-sm\">\n",
      "<span class=\"screen-reader-only\">Wishlist</span>\n",
      "<i class=\"icon icon-heart icon-rausch icon-size-2 rich-toggle-checked\"></i>\n",
      "<i class=\"icon icon-heart wishlist-heart-unchecked icon-size-2 rich-toggle-unchecked\"></i>\n",
      "<i class=\"icon icon-heart-alt icon-white icon-size-2\" id=\"wishlist-widget-icon-6597854\"></i>\n",
      "</label>, <span class=\"screen-reader-only\">Wishlist</span>, <i class=\"icon icon-heart icon-rausch icon-size-2 rich-toggle-checked\"></i>, <i class=\"icon icon-heart wishlist-heart-unchecked icon-size-2 rich-toggle-unchecked\"></i>, <i class=\"icon icon-heart-alt icon-white icon-size-2\" id=\"wishlist-widget-icon-6597854\"></i>, <div class=\"tooltip tooltip-right-middle bg-dark-gray wishlist-widget-tooltip\" role=\"tooltip\" data-trigger=\"#wishlist-widget-icon-6597854\" data-event=\"none\">\n",
      "<p class=\"text-white wishlist-widget-tooltip__body\"></p>\n",
      "</div>, <p class=\"text-white wishlist-widget-tooltip__body\"></p>, <div class=\"panel-body panel-card-section\">\n",
      "<div class=\"media\">\n",
      "<a href=\"/users/show/5280006\" class=\"media-photo-badge pull-right card-profile-picture card-profile-picture-offset\">\n",
      "<div class=\"media-photo media-round\">\n",
      "<img src=\"https://a0.muscache.com/im/pictures/42826a3c-89a4-4daf-87b3-b5f0b4ce2a7a.jpg?aki_policy=profile_medium\" alt=\"Jennifer from New York\" />\n",
      "</div>\n",
      "</a>\n",
      "<h3 title=\"Charming Spacious Harlem Prewar Bdr\" itemprop=\"name\" class=\"h5 listing-name text-truncate row-space-top-1\">\n",
      "<a href=\"/rooms/6597854?s=DZwzBZlG\" target=\"listing_6597854\" class=\"text-normal\">\n",
      "                      Charming Spacious Harlem Prewar Bdr\n",
      "                    </a>\n",
      "</h3>\n",
      "<div itemprop=\"description\" class=\"text-muted listing-location text-truncate\">\n",
      "<span>\n",
      "<a href=\"/rooms/6597854?s=DZwzBZlG\" target=\"listing_6597854\" class=\"text-normal link-reset\">\n",
      "        Private room\n",
      "        \n",
      "         &middot; 2 reviews\n",
      "      </a>\n",
      "</span>\n",
      "</div>\n",
      "</div>\n",
      "</div>, <div class=\"media\">\n",
      "<a href=\"/users/show/5280006\" class=\"media-photo-badge pull-right card-profile-picture card-profile-picture-offset\">\n",
      "<div class=\"media-photo media-round\">\n",
      "<img src=\"https://a0.muscache.com/im/pictures/42826a3c-89a4-4daf-87b3-b5f0b4ce2a7a.jpg?aki_policy=profile_medium\" alt=\"Jennifer from New York\" />\n",
      "</div>\n",
      "</a>\n",
      "<h3 title=\"Charming Spacious Harlem Prewar Bdr\" itemprop=\"name\" class=\"h5 listing-name text-truncate row-space-top-1\">\n",
      "<a href=\"/rooms/6597854?s=DZwzBZlG\" target=\"listing_6597854\" class=\"text-normal\">\n",
      "                      Charming Spacious Harlem Prewar Bdr\n",
      "                    </a>\n",
      "</h3>\n",
      "<div itemprop=\"description\" class=\"text-muted listing-location text-truncate\">\n",
      "<span>\n",
      "<a href=\"/rooms/6597854?s=DZwzBZlG\" target=\"listing_6597854\" class=\"text-normal link-reset\">\n",
      "        Private room\n",
      "        \n",
      "         &middot; 2 reviews\n",
      "      </a>\n",
      "</span>\n",
      "</div>\n",
      "</div>, <a href=\"/users/show/5280006\" class=\"media-photo-badge pull-right card-profile-picture card-profile-picture-offset\">\n",
      "<div class=\"media-photo media-round\">\n",
      "<img src=\"https://a0.muscache.com/im/pictures/42826a3c-89a4-4daf-87b3-b5f0b4ce2a7a.jpg?aki_policy=profile_medium\" alt=\"Jennifer from New York\" />\n",
      "</div>\n",
      "</a>, <div class=\"media-photo media-round\">\n",
      "<img src=\"https://a0.muscache.com/im/pictures/42826a3c-89a4-4daf-87b3-b5f0b4ce2a7a.jpg?aki_policy=profile_medium\" alt=\"Jennifer from New York\" />\n",
      "</div>, <img src=\"https://a0.muscache.com/im/pictures/42826a3c-89a4-4daf-87b3-b5f0b4ce2a7a.jpg?aki_policy=profile_medium\" alt=\"Jennifer from New York\" />, <h3 title=\"Charming Spacious Harlem Prewar Bdr\" itemprop=\"name\" class=\"h5 listing-name text-truncate row-space-top-1\">\n",
      "<a href=\"/rooms/6597854?s=DZwzBZlG\" target=\"listing_6597854\" class=\"text-normal\">\n",
      "                      Charming Spacious Harlem Prewar Bdr\n",
      "                    </a>\n",
      "</h3>, <a href=\"/rooms/6597854?s=DZwzBZlG\" target=\"listing_6597854\" class=\"text-normal\">\n",
      "                      Charming Spacious Harlem Prewar Bdr\n",
      "                    </a>, <div itemprop=\"description\" class=\"text-muted listing-location text-truncate\">\n",
      "<span>\n",
      "<a href=\"/rooms/6597854?s=DZwzBZlG\" target=\"listing_6597854\" class=\"text-normal link-reset\">\n",
      "        Private room\n",
      "        \n",
      "         &middot; 2 reviews\n",
      "      </a>\n",
      "</span>\n",
      "</div>, <span>\n",
      "<a href=\"/rooms/6597854?s=DZwzBZlG\" target=\"listing_6597854\" class=\"text-normal link-reset\">\n",
      "        Private room\n",
      "        \n",
      "         &middot; 2 reviews\n",
      "      </a>\n",
      "</span>, <a href=\"/rooms/6597854?s=DZwzBZlG\" target=\"listing_6597854\" class=\"text-normal link-reset\">\n",
      "        Private room\n",
      "        \n",
      "         &middot; 2 reviews\n",
      "      </a>]\n"
     ]
    }
   ],
   "source": [
    "print lat(0)"
   ]
  },
  {
   "cell_type": "code",
   "execution_count": null,
   "metadata": {
    "collapsed": true
   },
   "outputs": [],
   "source": []
  },
  {
   "cell_type": "code",
   "execution_count": null,
   "metadata": {
    "collapsed": true
   },
   "outputs": [],
   "source": []
  },
  {
   "cell_type": "code",
   "execution_count": 4,
   "metadata": {
    "collapsed": true
   },
   "outputs": [],
   "source": [
    "import requests\n",
    "from lxml import html"
   ]
  },
  {
   "cell_type": "code",
   "execution_count": 5,
   "metadata": {
    "collapsed": true
   },
   "outputs": [],
   "source": [
    "session = requests.session()"
   ]
  },
  {
   "cell_type": "code",
   "execution_count": 6,
   "metadata": {
    "collapsed": true
   },
   "outputs": [],
   "source": [
    "page = session.get(url)"
   ]
  },
  {
   "cell_type": "code",
   "execution_count": 8,
   "metadata": {
    "collapsed": true
   },
   "outputs": [],
   "source": [
    "page_html = html.fromstring(page.text)"
   ]
  },
  {
   "cell_type": "code",
   "execution_count": 9,
   "metadata": {
    "collapsed": false
   },
   "outputs": [
    {
     "ename": "TypeError",
     "evalue": "'module' object is not callable",
     "output_type": "error",
     "traceback": [
      "\u001b[0;31m---------------------------------------------------------------------------\u001b[0m",
      "\u001b[0;31mTypeError\u001b[0m                                 Traceback (most recent call last)",
      "\u001b[0;32m<ipython-input-9-db6dfb0c7035>\u001b[0m in \u001b[0;36m<module>\u001b[0;34m()\u001b[0m\n\u001b[0;32m----> 1\u001b[0;31m \u001b[0mbsObj\u001b[0m \u001b[0;34m=\u001b[0m \u001b[0mBeautifulSoup\u001b[0m\u001b[0;34m(\u001b[0m\u001b[0mpage_html\u001b[0m\u001b[0;34m)\u001b[0m\u001b[0;34m\u001b[0m\u001b[0m\n\u001b[0m",
      "\u001b[0;31mTypeError\u001b[0m: 'module' object is not callable"
     ]
    }
   ],
   "source": [
    "bsObj = BeautifulSoup(page_html)"
   ]
  },
  {
   "cell_type": "code",
   "execution_count": null,
   "metadata": {
    "collapsed": true
   },
   "outputs": [],
   "source": []
  },
  {
   "cell_type": "code",
   "execution_count": null,
   "metadata": {
    "collapsed": false
   },
   "outputs": [],
   "source": []
  },
  {
   "cell_type": "code",
   "execution_count": null,
   "metadata": {
    "collapsed": true
   },
   "outputs": [],
   "source": []
  },
  {
   "cell_type": "code",
   "execution_count": null,
   "metadata": {
    "collapsed": true
   },
   "outputs": [],
   "source": []
  }
 ],
 "metadata": {
  "kernelspec": {
   "display_name": "Python 2",
   "language": "python",
   "name": "python2"
  },
  "language_info": {
   "codemirror_mode": {
    "name": "ipython",
    "version": 2
   },
   "file_extension": ".py",
   "mimetype": "text/x-python",
   "name": "python",
   "nbconvert_exporter": "python",
   "pygments_lexer": "ipython2",
   "version": "2.7.10"
  }
 },
 "nbformat": 4,
 "nbformat_minor": 0
}
