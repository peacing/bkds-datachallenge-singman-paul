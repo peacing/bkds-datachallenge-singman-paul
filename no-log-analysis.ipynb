{
 "cells": [
  {
   "cell_type": "code",
   "execution_count": 1,
   "metadata": {
    "collapsed": true
   },
   "outputs": [],
   "source": [
    "# standard imports\n",
    "import numpy as np\n",
    "import pandas as pd\n",
    "import matplotlib.pyplot as plt\n",
    "%matplotlib inline\n",
    "import seaborn as sns\n",
    "# Additional imports\n",
    "from sklearn import metrics\n",
    "from itertools import combinations\n",
    "from sklearn.linear_model import Ridge\n",
    "from sklearn.linear_model import LinearRegression\n",
    "from sklearn.linear_model import Lasso\n",
    "from sklearn.linear_model import ElasticNet\n",
    "from sklearn.cross_validation import train_test_split\n",
    "import time"
   ]
  },
  {
   "cell_type": "code",
   "execution_count": 2,
   "metadata": {
    "collapsed": true
   },
   "outputs": [],
   "source": [
    "# ignore warnings on setting values ona  copy of a DF\n",
    "pd.options.mode.chained_assignment = None  # default='warn'"
   ]
  },
  {
   "cell_type": "code",
   "execution_count": 2,
   "metadata": {
    "collapsed": true
   },
   "outputs": [],
   "source": [
    "def load_df(df_file):\n",
    "    # function to load csv files from data folder into DataFrame\n",
    "    basepath = 'data/'\n",
    "    filepath = basepath + df_file\n",
    "    load_df = pd.DataFrame.from_csv(filepath)\n",
    "    return load_df"
   ]
  },
  {
   "cell_type": "code",
   "execution_count": 17,
   "metadata": {
    "collapsed": true
   },
   "outputs": [],
   "source": [
    "df_ny = load_df('df_ny.csv')\n",
    "df_sf = load_df('df_sf.csv')\n",
    "df_la = load_df('df_la.csv')\n",
    "df_dc = load_df('df_dc.csv')\n",
    "df_da = load_df('df_da.csv')\n",
    "df_ch = load_df('df_ch.csv')"
   ]
  },
  {
   "cell_type": "code",
   "execution_count": 16,
   "metadata": {
    "collapsed": false
   },
   "outputs": [
    {
     "data": {
      "text/html": [
       "<div>\n",
       "<table border=\"1\" class=\"dataframe\">\n",
       "  <thead>\n",
       "    <tr style=\"text-align: right;\">\n",
       "      <th></th>\n",
       "      <th>Bedrooms</th>\n",
       "      <th>Capacity</th>\n",
       "      <th>Id</th>\n",
       "      <th>Price</th>\n",
       "      <th>Property_Type</th>\n",
       "      <th>Review_Count</th>\n",
       "      <th>Room_Type</th>\n",
       "      <th>Star_Rating</th>\n",
       "      <th>City</th>\n",
       "      <th>Avg_Price</th>\n",
       "      <th>Has_Star_Rating</th>\n",
       "    </tr>\n",
       "  </thead>\n",
       "  <tbody>\n",
       "    <tr>\n",
       "      <th>0</th>\n",
       "      <td>1</td>\n",
       "      <td>1</td>\n",
       "      <td>12382618</td>\n",
       "      <td>38</td>\n",
       "      <td>Apartment</td>\n",
       "      <td>1</td>\n",
       "      <td>0</td>\n",
       "      <td>0.0</td>\n",
       "      <td>NY</td>\n",
       "      <td>92.918301</td>\n",
       "      <td>0</td>\n",
       "    </tr>\n",
       "    <tr>\n",
       "      <th>1</th>\n",
       "      <td>1</td>\n",
       "      <td>1</td>\n",
       "      <td>648047</td>\n",
       "      <td>61</td>\n",
       "      <td>Apartment</td>\n",
       "      <td>67</td>\n",
       "      <td>1</td>\n",
       "      <td>4.5</td>\n",
       "      <td>NY</td>\n",
       "      <td>92.918301</td>\n",
       "      <td>1</td>\n",
       "    </tr>\n",
       "    <tr>\n",
       "      <th>2</th>\n",
       "      <td>1</td>\n",
       "      <td>2</td>\n",
       "      <td>6597854</td>\n",
       "      <td>58</td>\n",
       "      <td>Apartment</td>\n",
       "      <td>6</td>\n",
       "      <td>1</td>\n",
       "      <td>5.0</td>\n",
       "      <td>NY</td>\n",
       "      <td>92.918301</td>\n",
       "      <td>1</td>\n",
       "    </tr>\n",
       "    <tr>\n",
       "      <th>3</th>\n",
       "      <td>1</td>\n",
       "      <td>2</td>\n",
       "      <td>8750161</td>\n",
       "      <td>56</td>\n",
       "      <td>House</td>\n",
       "      <td>36</td>\n",
       "      <td>1</td>\n",
       "      <td>5.0</td>\n",
       "      <td>NY</td>\n",
       "      <td>92.918301</td>\n",
       "      <td>1</td>\n",
       "    </tr>\n",
       "    <tr>\n",
       "      <th>4</th>\n",
       "      <td>0</td>\n",
       "      <td>2</td>\n",
       "      <td>11862330</td>\n",
       "      <td>130</td>\n",
       "      <td>Apartment</td>\n",
       "      <td>4</td>\n",
       "      <td>2</td>\n",
       "      <td>5.0</td>\n",
       "      <td>NY</td>\n",
       "      <td>92.918301</td>\n",
       "      <td>1</td>\n",
       "    </tr>\n",
       "  </tbody>\n",
       "</table>\n",
       "</div>"
      ],
      "text/plain": [
       "   Bedrooms  Capacity        Id  Price Property_Type  Review_Count  Room_Type  \\\n",
       "0         1         1  12382618     38     Apartment             1          0   \n",
       "1         1         1    648047     61     Apartment            67          1   \n",
       "2         1         2   6597854     58     Apartment             6          1   \n",
       "3         1         2   8750161     56         House            36          1   \n",
       "4         0         2  11862330    130     Apartment             4          2   \n",
       "\n",
       "   Star_Rating City  Avg_Price  Has_Star_Rating  \n",
       "0          0.0   NY  92.918301                0  \n",
       "1          4.5   NY  92.918301                1  \n",
       "2          5.0   NY  92.918301                1  \n",
       "3          5.0   NY  92.918301                1  \n",
       "4          5.0   NY  92.918301                1  "
      ]
     },
     "execution_count": 16,
     "metadata": {},
     "output_type": "execute_result"
    }
   ],
   "source": [
    "df_ny.head()"
   ]
  },
  {
   "cell_type": "code",
   "execution_count": 8,
   "metadata": {
    "collapsed": true
   },
   "outputs": [],
   "source": [
    "def preprocess_data(df, city):\n",
    "    \"\"\"Transform data to prepare for model training\"\"\"\n",
    "    \n",
    "    # add city\n",
    "    df['City'] = city\n",
    "    \n",
    "    # add column for mean price (for baseline model)\n",
    "    df['Avg_Price'] = df.Price.mean()\n",
    "    \n",
    "    # map Room Type variable\n",
    "    df['Room_Type'] = df.Room_Type.map({'Shared room':0,'Private room':1, 'Entire home/apt':2})\n",
    "    \n",
    "    # make 'Has_Star_Rating' feature\n",
    "    df['Has_Star_Rating'] = np.where(df['Star_Rating']>1.0, 1, 0)\n",
    "    \n",
    "    cols = ['Bedrooms','Capacity','Price','Review_Count','Room_Type','Star_Rating','City','Avg_Price',\n",
    "           'Has_Star_Rating']\n",
    "    \n",
    "    return df[cols]\n",
    "    #return df"
   ]
  },
  {
   "cell_type": "code",
   "execution_count": 9,
   "metadata": {
    "collapsed": true
   },
   "outputs": [],
   "source": [
    "p_df_ny = preprocess_data(df_ny,'NY')\n",
    "p_df_sf = preprocess_data(df_sf,'SF')\n",
    "p_df_la = preprocess_data(df_la,'LA')\n",
    "p_df_da = preprocess_data(df_da,'DA')\n",
    "p_df_dc = preprocess_data(df_dc,'DC')\n",
    "p_df_ch = preprocess_data(df_ch,'CH')"
   ]
  },
  {
   "cell_type": "code",
   "execution_count": 10,
   "metadata": {
    "collapsed": true
   },
   "outputs": [],
   "source": [
    "def combine_dfs(df_list):\n",
    "    data_frame = None\n",
    "    for df in df_list:\n",
    "        if data_frame is None:\n",
    "            data_frame = df\n",
    "        else:\n",
    "            data_frame = data_frame.append(df)\n",
    "    return data_frame"
   ]
  },
  {
   "cell_type": "code",
   "execution_count": 18,
   "metadata": {
    "collapsed": true
   },
   "outputs": [],
   "source": [
    "df_list2 = [df_ny, df_la, df_sf, df_da, df_dc, df_ch]\n",
    "df_all_unprocessed = combine_dfs(df_list2)"
   ]
  },
  {
   "cell_type": "code",
   "execution_count": 20,
   "metadata": {
    "collapsed": false,
    "scrolled": true
   },
   "outputs": [
    {
     "data": {
      "text/html": [
       "<div>\n",
       "<table border=\"1\" class=\"dataframe\">\n",
       "  <thead>\n",
       "    <tr style=\"text-align: right;\">\n",
       "      <th></th>\n",
       "      <th>Bedrooms</th>\n",
       "      <th>Capacity</th>\n",
       "      <th>Price</th>\n",
       "      <th>Review_Count</th>\n",
       "      <th>Star_Rating</th>\n",
       "    </tr>\n",
       "  </thead>\n",
       "  <tbody>\n",
       "    <tr>\n",
       "      <th>count</th>\n",
       "      <td>1836.000000</td>\n",
       "      <td>1836.000000</td>\n",
       "      <td>1836.000000</td>\n",
       "      <td>1836.000000</td>\n",
       "      <td>1836.000000</td>\n",
       "    </tr>\n",
       "    <tr>\n",
       "      <th>mean</th>\n",
       "      <td>0.934096</td>\n",
       "      <td>2.224401</td>\n",
       "      <td>88.504357</td>\n",
       "      <td>27.058279</td>\n",
       "      <td>4.064815</td>\n",
       "    </tr>\n",
       "    <tr>\n",
       "      <th>std</th>\n",
       "      <td>0.420863</td>\n",
       "      <td>0.978111</td>\n",
       "      <td>40.695848</td>\n",
       "      <td>42.568072</td>\n",
       "      <td>1.805952</td>\n",
       "    </tr>\n",
       "    <tr>\n",
       "      <th>min</th>\n",
       "      <td>0.000000</td>\n",
       "      <td>1.000000</td>\n",
       "      <td>10.000000</td>\n",
       "      <td>0.000000</td>\n",
       "      <td>0.000000</td>\n",
       "    </tr>\n",
       "    <tr>\n",
       "      <th>25%</th>\n",
       "      <td>1.000000</td>\n",
       "      <td>2.000000</td>\n",
       "      <td>60.000000</td>\n",
       "      <td>4.000000</td>\n",
       "      <td>4.500000</td>\n",
       "    </tr>\n",
       "    <tr>\n",
       "      <th>50%</th>\n",
       "      <td>1.000000</td>\n",
       "      <td>2.000000</td>\n",
       "      <td>84.000000</td>\n",
       "      <td>12.000000</td>\n",
       "      <td>5.000000</td>\n",
       "    </tr>\n",
       "    <tr>\n",
       "      <th>75%</th>\n",
       "      <td>1.000000</td>\n",
       "      <td>2.000000</td>\n",
       "      <td>110.000000</td>\n",
       "      <td>29.000000</td>\n",
       "      <td>5.000000</td>\n",
       "    </tr>\n",
       "    <tr>\n",
       "      <th>max</th>\n",
       "      <td>3.000000</td>\n",
       "      <td>12.000000</td>\n",
       "      <td>285.000000</td>\n",
       "      <td>432.000000</td>\n",
       "      <td>5.000000</td>\n",
       "    </tr>\n",
       "  </tbody>\n",
       "</table>\n",
       "</div>"
      ],
      "text/plain": [
       "          Bedrooms     Capacity        Price  Review_Count  Star_Rating\n",
       "count  1836.000000  1836.000000  1836.000000   1836.000000  1836.000000\n",
       "mean      0.934096     2.224401    88.504357     27.058279     4.064815\n",
       "std       0.420863     0.978111    40.695848     42.568072     1.805952\n",
       "min       0.000000     1.000000    10.000000      0.000000     0.000000\n",
       "25%       1.000000     2.000000    60.000000      4.000000     4.500000\n",
       "50%       1.000000     2.000000    84.000000     12.000000     5.000000\n",
       "75%       1.000000     2.000000   110.000000     29.000000     5.000000\n",
       "max       3.000000    12.000000   285.000000    432.000000     5.000000"
      ]
     },
     "execution_count": 20,
     "metadata": {},
     "output_type": "execute_result"
    }
   ],
   "source": [
    "df_all_unprocessed = df_all_unprocessed.drop('Id', 1)\n",
    "df_all_unprocessed.describe()"
   ]
  },
  {
   "cell_type": "code",
   "execution_count": 21,
   "metadata": {
    "collapsed": false
   },
   "outputs": [
    {
     "data": {
      "text/plain": [
       "Apartment          1154\n",
       "House               441\n",
       "Condominium          84\n",
       "Loft                 54\n",
       "Townhouse            42\n",
       "Other                18\n",
       "Bed & Breakfast      15\n",
       "Bungalow             11\n",
       "Cabin                 8\n",
       "Dorm                  4\n",
       "Villa                 2\n",
       "Castle                2\n",
       "Camper/RV             1\n",
       "dtype: int64"
      ]
     },
     "execution_count": 21,
     "metadata": {},
     "output_type": "execute_result"
    }
   ],
   "source": [
    "df_all_unprocessed.Property_Type.value_counts()"
   ]
  },
  {
   "cell_type": "code",
   "execution_count": 22,
   "metadata": {
    "collapsed": false
   },
   "outputs": [
    {
     "data": {
      "text/plain": [
       "Private room       934\n",
       "Entire home/apt    828\n",
       "Shared room         74\n",
       "dtype: int64"
      ]
     },
     "execution_count": 22,
     "metadata": {},
     "output_type": "execute_result"
    }
   ],
   "source": [
    "df_all_unprocessed.Room_Type.value_counts()"
   ]
  },
  {
   "cell_type": "code",
   "execution_count": 11,
   "metadata": {
    "collapsed": true
   },
   "outputs": [],
   "source": [
    "df_list = [p_df_ny, p_df_la, p_df_sf, p_df_da, p_df_dc, p_df_ch]\n",
    "df_all = combine_dfs(df_list)"
   ]
  },
  {
   "cell_type": "code",
   "execution_count": 12,
   "metadata": {
    "collapsed": false
   },
   "outputs": [
    {
     "data": {
      "text/html": [
       "<div>\n",
       "<table border=\"1\" class=\"dataframe\">\n",
       "  <thead>\n",
       "    <tr style=\"text-align: right;\">\n",
       "      <th></th>\n",
       "      <th>Bedrooms</th>\n",
       "      <th>Capacity</th>\n",
       "      <th>Price</th>\n",
       "      <th>Review_Count</th>\n",
       "      <th>Room_Type</th>\n",
       "      <th>Star_Rating</th>\n",
       "      <th>Avg_Price</th>\n",
       "      <th>Has_Star_Rating</th>\n",
       "    </tr>\n",
       "  </thead>\n",
       "  <tbody>\n",
       "    <tr>\n",
       "      <th>count</th>\n",
       "      <td>1836.000000</td>\n",
       "      <td>1836.000000</td>\n",
       "      <td>1836.000000</td>\n",
       "      <td>1836.000000</td>\n",
       "      <td>1836.000000</td>\n",
       "      <td>1836.000000</td>\n",
       "      <td>1836.000000</td>\n",
       "      <td>1836.000000</td>\n",
       "    </tr>\n",
       "    <tr>\n",
       "      <th>mean</th>\n",
       "      <td>0.934096</td>\n",
       "      <td>2.224401</td>\n",
       "      <td>88.504357</td>\n",
       "      <td>27.058279</td>\n",
       "      <td>1.410675</td>\n",
       "      <td>4.064815</td>\n",
       "      <td>88.504357</td>\n",
       "      <td>0.837691</td>\n",
       "    </tr>\n",
       "    <tr>\n",
       "      <th>std</th>\n",
       "      <td>0.420863</td>\n",
       "      <td>0.978111</td>\n",
       "      <td>40.695848</td>\n",
       "      <td>42.568072</td>\n",
       "      <td>0.568161</td>\n",
       "      <td>1.805952</td>\n",
       "      <td>13.497168</td>\n",
       "      <td>0.368835</td>\n",
       "    </tr>\n",
       "    <tr>\n",
       "      <th>min</th>\n",
       "      <td>0.000000</td>\n",
       "      <td>1.000000</td>\n",
       "      <td>10.000000</td>\n",
       "      <td>0.000000</td>\n",
       "      <td>0.000000</td>\n",
       "      <td>0.000000</td>\n",
       "      <td>74.120915</td>\n",
       "      <td>0.000000</td>\n",
       "    </tr>\n",
       "    <tr>\n",
       "      <th>25%</th>\n",
       "      <td>1.000000</td>\n",
       "      <td>2.000000</td>\n",
       "      <td>60.000000</td>\n",
       "      <td>4.000000</td>\n",
       "      <td>1.000000</td>\n",
       "      <td>4.500000</td>\n",
       "      <td>77.042484</td>\n",
       "      <td>1.000000</td>\n",
       "    </tr>\n",
       "    <tr>\n",
       "      <th>50%</th>\n",
       "      <td>1.000000</td>\n",
       "      <td>2.000000</td>\n",
       "      <td>84.000000</td>\n",
       "      <td>12.000000</td>\n",
       "      <td>1.000000</td>\n",
       "      <td>5.000000</td>\n",
       "      <td>86.330065</td>\n",
       "      <td>1.000000</td>\n",
       "    </tr>\n",
       "    <tr>\n",
       "      <th>75%</th>\n",
       "      <td>1.000000</td>\n",
       "      <td>2.000000</td>\n",
       "      <td>110.000000</td>\n",
       "      <td>29.000000</td>\n",
       "      <td>2.000000</td>\n",
       "      <td>5.000000</td>\n",
       "      <td>92.918301</td>\n",
       "      <td>1.000000</td>\n",
       "    </tr>\n",
       "    <tr>\n",
       "      <th>max</th>\n",
       "      <td>3.000000</td>\n",
       "      <td>12.000000</td>\n",
       "      <td>285.000000</td>\n",
       "      <td>432.000000</td>\n",
       "      <td>2.000000</td>\n",
       "      <td>5.000000</td>\n",
       "      <td>114.284314</td>\n",
       "      <td>1.000000</td>\n",
       "    </tr>\n",
       "  </tbody>\n",
       "</table>\n",
       "</div>"
      ],
      "text/plain": [
       "          Bedrooms     Capacity        Price  Review_Count    Room_Type  \\\n",
       "count  1836.000000  1836.000000  1836.000000   1836.000000  1836.000000   \n",
       "mean      0.934096     2.224401    88.504357     27.058279     1.410675   \n",
       "std       0.420863     0.978111    40.695848     42.568072     0.568161   \n",
       "min       0.000000     1.000000    10.000000      0.000000     0.000000   \n",
       "25%       1.000000     2.000000    60.000000      4.000000     1.000000   \n",
       "50%       1.000000     2.000000    84.000000     12.000000     1.000000   \n",
       "75%       1.000000     2.000000   110.000000     29.000000     2.000000   \n",
       "max       3.000000    12.000000   285.000000    432.000000     2.000000   \n",
       "\n",
       "       Star_Rating    Avg_Price  Has_Star_Rating  \n",
       "count  1836.000000  1836.000000      1836.000000  \n",
       "mean      4.064815    88.504357         0.837691  \n",
       "std       1.805952    13.497168         0.368835  \n",
       "min       0.000000    74.120915         0.000000  \n",
       "25%       4.500000    77.042484         1.000000  \n",
       "50%       5.000000    86.330065         1.000000  \n",
       "75%       5.000000    92.918301         1.000000  \n",
       "max       5.000000   114.284314         1.000000  "
      ]
     },
     "execution_count": 12,
     "metadata": {},
     "output_type": "execute_result"
    }
   ],
   "source": [
    "df_all.describe()"
   ]
  },
  {
   "cell_type": "code",
   "execution_count": 11,
   "metadata": {
    "collapsed": false
   },
   "outputs": [
    {
     "data": {
      "text/html": [
       "<div>\n",
       "<table border=\"1\" class=\"dataframe\">\n",
       "  <thead>\n",
       "    <tr style=\"text-align: right;\">\n",
       "      <th></th>\n",
       "      <th>Bedrooms</th>\n",
       "      <th>Capacity</th>\n",
       "      <th>Price</th>\n",
       "      <th>Review_Count</th>\n",
       "      <th>Room_Type</th>\n",
       "      <th>Star_Rating</th>\n",
       "      <th>City</th>\n",
       "      <th>Avg_Price</th>\n",
       "      <th>Has_Star_Rating</th>\n",
       "    </tr>\n",
       "  </thead>\n",
       "  <tbody>\n",
       "    <tr>\n",
       "      <th>0</th>\n",
       "      <td>1</td>\n",
       "      <td>1</td>\n",
       "      <td>38</td>\n",
       "      <td>1</td>\n",
       "      <td>0</td>\n",
       "      <td>0.0</td>\n",
       "      <td>NY</td>\n",
       "      <td>92.918301</td>\n",
       "      <td>0</td>\n",
       "    </tr>\n",
       "    <tr>\n",
       "      <th>1</th>\n",
       "      <td>1</td>\n",
       "      <td>1</td>\n",
       "      <td>61</td>\n",
       "      <td>67</td>\n",
       "      <td>1</td>\n",
       "      <td>4.5</td>\n",
       "      <td>NY</td>\n",
       "      <td>92.918301</td>\n",
       "      <td>1</td>\n",
       "    </tr>\n",
       "    <tr>\n",
       "      <th>2</th>\n",
       "      <td>1</td>\n",
       "      <td>2</td>\n",
       "      <td>58</td>\n",
       "      <td>6</td>\n",
       "      <td>1</td>\n",
       "      <td>5.0</td>\n",
       "      <td>NY</td>\n",
       "      <td>92.918301</td>\n",
       "      <td>1</td>\n",
       "    </tr>\n",
       "    <tr>\n",
       "      <th>3</th>\n",
       "      <td>1</td>\n",
       "      <td>2</td>\n",
       "      <td>56</td>\n",
       "      <td>36</td>\n",
       "      <td>1</td>\n",
       "      <td>5.0</td>\n",
       "      <td>NY</td>\n",
       "      <td>92.918301</td>\n",
       "      <td>1</td>\n",
       "    </tr>\n",
       "    <tr>\n",
       "      <th>4</th>\n",
       "      <td>0</td>\n",
       "      <td>2</td>\n",
       "      <td>130</td>\n",
       "      <td>4</td>\n",
       "      <td>2</td>\n",
       "      <td>5.0</td>\n",
       "      <td>NY</td>\n",
       "      <td>92.918301</td>\n",
       "      <td>1</td>\n",
       "    </tr>\n",
       "  </tbody>\n",
       "</table>\n",
       "</div>"
      ],
      "text/plain": [
       "   Bedrooms  Capacity  Price  Review_Count  Room_Type  Star_Rating City  \\\n",
       "0         1         1     38             1          0          0.0   NY   \n",
       "1         1         1     61            67          1          4.5   NY   \n",
       "2         1         2     58             6          1          5.0   NY   \n",
       "3         1         2     56            36          1          5.0   NY   \n",
       "4         0         2    130             4          2          5.0   NY   \n",
       "\n",
       "   Avg_Price  Has_Star_Rating  \n",
       "0  92.918301                0  \n",
       "1  92.918301                1  \n",
       "2  92.918301                1  \n",
       "3  92.918301                1  \n",
       "4  92.918301                1  "
      ]
     },
     "execution_count": 11,
     "metadata": {},
     "output_type": "execute_result"
    }
   ],
   "source": [
    "df_all.head()"
   ]
  },
  {
   "cell_type": "code",
   "execution_count": 12,
   "metadata": {
    "collapsed": true
   },
   "outputs": [],
   "source": [
    "def save_df(df, name):\n",
    "    basepath = 'data/'\n",
    "    filepath = basepath + name\n",
    "    df.to_csv(filepath)\n",
    "    return None"
   ]
  },
  {
   "cell_type": "code",
   "execution_count": 13,
   "metadata": {
    "collapsed": true
   },
   "outputs": [],
   "source": [
    "save_df(df_all, 'df_all_nologs.csv')"
   ]
  },
  {
   "cell_type": "markdown",
   "metadata": {},
   "source": [
    "## One-hot encode City feature"
   ]
  },
  {
   "cell_type": "code",
   "execution_count": 14,
   "metadata": {
    "collapsed": true
   },
   "outputs": [],
   "source": [
    "def one_hot_encode(df, feature):\n",
    "    # One hot encode 'City' feature\n",
    "    # create dummy variables using get_dummies, then exclude the first column since redundant\n",
    "    dummies = pd.get_dummies(df[feature], prefix=feature).iloc[:, 1:]\n",
    "\n",
    "    # concatenate the dummy variable columns onto the original DataFrame\n",
    "    df = pd.concat([df, dummies], axis=1)\n",
    "    \n",
    "    # drop the original feature from the df\n",
    "    df.drop(feature, axis=1,inplace=True)\n",
    "    \n",
    "    return df"
   ]
  },
  {
   "cell_type": "code",
   "execution_count": 15,
   "metadata": {
    "collapsed": true
   },
   "outputs": [],
   "source": [
    "df_all = one_hot_encode(df_all,'City')"
   ]
  },
  {
   "cell_type": "code",
   "execution_count": 16,
   "metadata": {
    "collapsed": true
   },
   "outputs": [],
   "source": [
    "save_df(df_all, 'df_all_nologs.csv')"
   ]
  },
  {
   "cell_type": "code",
   "execution_count": 17,
   "metadata": {
    "collapsed": false
   },
   "outputs": [
    {
     "data": {
      "text/html": [
       "<div>\n",
       "<table border=\"1\" class=\"dataframe\">\n",
       "  <thead>\n",
       "    <tr style=\"text-align: right;\">\n",
       "      <th></th>\n",
       "      <th>Bedrooms</th>\n",
       "      <th>Capacity</th>\n",
       "      <th>Price</th>\n",
       "      <th>Review_Count</th>\n",
       "      <th>Room_Type</th>\n",
       "      <th>Star_Rating</th>\n",
       "      <th>Avg_Price</th>\n",
       "      <th>Has_Star_Rating</th>\n",
       "      <th>City_DA</th>\n",
       "      <th>City_DC</th>\n",
       "      <th>City_LA</th>\n",
       "      <th>City_NY</th>\n",
       "      <th>City_SF</th>\n",
       "    </tr>\n",
       "  </thead>\n",
       "  <tbody>\n",
       "    <tr>\n",
       "      <th>0</th>\n",
       "      <td>1</td>\n",
       "      <td>1</td>\n",
       "      <td>38</td>\n",
       "      <td>1</td>\n",
       "      <td>0</td>\n",
       "      <td>0.0</td>\n",
       "      <td>92.918301</td>\n",
       "      <td>0</td>\n",
       "      <td>0</td>\n",
       "      <td>0</td>\n",
       "      <td>0</td>\n",
       "      <td>1</td>\n",
       "      <td>0</td>\n",
       "    </tr>\n",
       "    <tr>\n",
       "      <th>1</th>\n",
       "      <td>1</td>\n",
       "      <td>1</td>\n",
       "      <td>61</td>\n",
       "      <td>67</td>\n",
       "      <td>1</td>\n",
       "      <td>4.5</td>\n",
       "      <td>92.918301</td>\n",
       "      <td>1</td>\n",
       "      <td>0</td>\n",
       "      <td>0</td>\n",
       "      <td>0</td>\n",
       "      <td>1</td>\n",
       "      <td>0</td>\n",
       "    </tr>\n",
       "    <tr>\n",
       "      <th>2</th>\n",
       "      <td>1</td>\n",
       "      <td>2</td>\n",
       "      <td>58</td>\n",
       "      <td>6</td>\n",
       "      <td>1</td>\n",
       "      <td>5.0</td>\n",
       "      <td>92.918301</td>\n",
       "      <td>1</td>\n",
       "      <td>0</td>\n",
       "      <td>0</td>\n",
       "      <td>0</td>\n",
       "      <td>1</td>\n",
       "      <td>0</td>\n",
       "    </tr>\n",
       "    <tr>\n",
       "      <th>3</th>\n",
       "      <td>1</td>\n",
       "      <td>2</td>\n",
       "      <td>56</td>\n",
       "      <td>36</td>\n",
       "      <td>1</td>\n",
       "      <td>5.0</td>\n",
       "      <td>92.918301</td>\n",
       "      <td>1</td>\n",
       "      <td>0</td>\n",
       "      <td>0</td>\n",
       "      <td>0</td>\n",
       "      <td>1</td>\n",
       "      <td>0</td>\n",
       "    </tr>\n",
       "    <tr>\n",
       "      <th>4</th>\n",
       "      <td>0</td>\n",
       "      <td>2</td>\n",
       "      <td>130</td>\n",
       "      <td>4</td>\n",
       "      <td>2</td>\n",
       "      <td>5.0</td>\n",
       "      <td>92.918301</td>\n",
       "      <td>1</td>\n",
       "      <td>0</td>\n",
       "      <td>0</td>\n",
       "      <td>0</td>\n",
       "      <td>1</td>\n",
       "      <td>0</td>\n",
       "    </tr>\n",
       "  </tbody>\n",
       "</table>\n",
       "</div>"
      ],
      "text/plain": [
       "   Bedrooms  Capacity  Price  Review_Count  Room_Type  Star_Rating  Avg_Price  \\\n",
       "0         1         1     38             1          0          0.0  92.918301   \n",
       "1         1         1     61            67          1          4.5  92.918301   \n",
       "2         1         2     58             6          1          5.0  92.918301   \n",
       "3         1         2     56            36          1          5.0  92.918301   \n",
       "4         0         2    130             4          2          5.0  92.918301   \n",
       "\n",
       "   Has_Star_Rating  City_DA  City_DC  City_LA  City_NY  City_SF  \n",
       "0                0        0        0        0        1        0  \n",
       "1                1        0        0        0        1        0  \n",
       "2                1        0        0        0        1        0  \n",
       "3                1        0        0        0        1        0  \n",
       "4                1        0        0        0        1        0  "
      ]
     },
     "execution_count": 17,
     "metadata": {},
     "output_type": "execute_result"
    }
   ],
   "source": [
    "df_all.head()"
   ]
  },
  {
   "cell_type": "markdown",
   "metadata": {},
   "source": [
    "### Let's look at histograms "
   ]
  },
  {
   "cell_type": "code",
   "execution_count": 20,
   "metadata": {
    "collapsed": true
   },
   "outputs": [],
   "source": [
    "feat_cols = ['Bedrooms','Capacity','Has_Star_Rating','Review_Count','Room_Type','Star_Rating']"
   ]
  },
  {
   "cell_type": "code",
   "execution_count": 21,
   "metadata": {
    "collapsed": false
   },
   "outputs": [
    {
     "data": {
      "text/plain": [
       "array([[<matplotlib.axes._subplots.AxesSubplot object at 0x10c0be690>,\n",
       "        <matplotlib.axes._subplots.AxesSubplot object at 0x10c616810>],\n",
       "       [<matplotlib.axes._subplots.AxesSubplot object at 0x10c7f6a50>,\n",
       "        <matplotlib.axes._subplots.AxesSubplot object at 0x10c85cad0>],\n",
       "       [<matplotlib.axes._subplots.AxesSubplot object at 0x10c8ddb50>,\n",
       "        <matplotlib.axes._subplots.AxesSubplot object at 0x10c87e590>]], dtype=object)"
      ]
     },
     "execution_count": 21,
     "metadata": {},
     "output_type": "execute_result"
    },
    {
     "data": {
      "image/png": "[encoded data removed]",
      "text/plain": [
       "<matplotlib.figure.Figure at 0x10c087a90>"
      ]
     },
     "metadata": {},
     "output_type": "display_data"
    }
   ],
   "source": [
    "df_all[feat_cols].hist(figsize=(10,10))"
   ]
  },
  {
   "cell_type": "code",
   "execution_count": 26,
   "metadata": {
    "collapsed": false
   },
   "outputs": [
    {
     "data": {
      "text/plain": [
       "<matplotlib.axes._subplots.AxesSubplot at 0x10cf923d0>"
      ]
     },
     "execution_count": 26,
     "metadata": {},
     "output_type": "execute_result"
    },
    {
     "data": {
      "image/png": "[encoded data removed]",
      "text/plain": [
       "<matplotlib.figure.Figure at 0x10cb16390>"
      ]
     },
     "metadata": {},
     "output_type": "display_data"
    }
   ],
   "source": [
    "df_all.Price.hist(bins=25)"
   ]
  },
  {
   "cell_type": "code",
   "execution_count": 24,
   "metadata": {
    "collapsed": false
   },
   "outputs": [
    {
     "data": {
      "text/plain": [
       "Star_Rating\n",
       "0.0    88.835570\n",
       "2.5    65.000000\n",
       "3.5    36.666667\n",
       "4.0    76.880000\n",
       "4.5    82.779221\n",
       "5.0    90.818344\n",
       "Name: Price, dtype: float64"
      ]
     },
     "execution_count": 24,
     "metadata": {},
     "output_type": "execute_result"
    }
   ],
   "source": [
    "# How Star Rating values correspond to Price\n",
    "sr_groupby = df_all.groupby('Star_Rating').Price.mean()\n",
    "sr_groupby"
   ]
  },
  {
   "cell_type": "code",
   "execution_count": 30,
   "metadata": {
    "collapsed": false
   },
   "outputs": [
    {
     "data": {
      "text/plain": [
       "<matplotlib.text.Text at 0x10f53c910>"
      ]
     },
     "execution_count": 30,
     "metadata": {},
     "output_type": "execute_result"
    },
    {
     "data": {
      "image/png": "[encoded data removed]",
      "text/plain": [
       "<matplotlib.figure.Figure at 0x10f45ed90>"
      ]
     },
     "metadata": {},
     "output_type": "display_data"
    }
   ],
   "source": [
    "plt.plot(sr_groupby.index, sr_groupby.values)\n",
    "plt.title('Average Price by Star Rating')\n",
    "plt.xlabel('Star Rating')\n",
    "plt.ylabel('Average Price')"
   ]
  },
  {
   "cell_type": "code",
   "execution_count": null,
   "metadata": {
    "collapsed": true
   },
   "outputs": [],
   "source": []
  },
  {
   "cell_type": "markdown",
   "metadata": {},
   "source": [
    "### Let's look at a scatter matrix"
   ]
  },
  {
   "cell_type": "code",
   "execution_count": 27,
   "metadata": {
    "collapsed": true
   },
   "outputs": [],
   "source": [
    "sm_cols = ['Bedrooms','Capacity','Has_Star_Rating','Review_Count','Room_Type','Star_Rating','Price']"
   ]
  },
  {
   "cell_type": "code",
   "execution_count": 28,
   "metadata": {
    "collapsed": false
   },
   "outputs": [
    {
     "data": {
      "text/plain": [
       "array([[<matplotlib.axes._subplots.AxesSubplot object at 0x10d081150>,\n",
       "        <matplotlib.axes._subplots.AxesSubplot object at 0x10d1a1890>,\n",
       "        <matplotlib.axes._subplots.AxesSubplot object at 0x10d221d50>,\n",
       "        <matplotlib.axes._subplots.AxesSubplot object at 0x10d285f50>,\n",
       "        <matplotlib.axes._subplots.AxesSubplot object at 0x10d3152d0>,\n",
       "        <matplotlib.axes._subplots.AxesSubplot object at 0x10d363790>,\n",
       "        <matplotlib.axes._subplots.AxesSubplot object at 0x10d3f09d0>],\n",
       "       [<matplotlib.axes._subplots.AxesSubplot object at 0x10d474810>,\n",
       "        <matplotlib.axes._subplots.AxesSubplot object at 0x10d4e3390>,\n",
       "        <matplotlib.axes._subplots.AxesSubplot object at 0x10d567410>,\n",
       "        <matplotlib.axes._subplots.AxesSubplot object at 0x10d5cb190>,\n",
       "        <matplotlib.axes._subplots.AxesSubplot object at 0x10d64e2d0>,\n",
       "        <matplotlib.axes._subplots.AxesSubplot object at 0x10d5edfd0>,\n",
       "        <matplotlib.axes._subplots.AxesSubplot object at 0x10d735d90>],\n",
       "       [<matplotlib.axes._subplots.AxesSubplot object at 0x10d7b6ad0>,\n",
       "        <matplotlib.axes._subplots.AxesSubplot object at 0x10d827250>,\n",
       "        <matplotlib.axes._subplots.AxesSubplot object at 0x10d8ad090>,\n",
       "        <matplotlib.axes._subplots.AxesSubplot object at 0x10cfbf550>,\n",
       "        <matplotlib.axes._subplots.AxesSubplot object at 0x10d967890>,\n",
       "        <matplotlib.axes._subplots.AxesSubplot object at 0x10d9ec5d0>,\n",
       "        <matplotlib.axes._subplots.AxesSubplot object at 0x10da4fa90>],\n",
       "       [<matplotlib.axes._subplots.AxesSubplot object at 0x10dad38d0>,\n",
       "        <matplotlib.axes._subplots.AxesSubplot object at 0x10db39610>,\n",
       "        <matplotlib.axes._subplots.AxesSubplot object at 0x10dbbd5d0>,\n",
       "        <matplotlib.axes._subplots.AxesSubplot object at 0x10dc40310>,\n",
       "        <matplotlib.axes._subplots.AxesSubplot object at 0x10dcaf250>,\n",
       "        <matplotlib.axes._subplots.AxesSubplot object at 0x10dd24f50>,\n",
       "        <matplotlib.axes._subplots.AxesSubplot object at 0x10dd8ced0>],\n",
       "       [<matplotlib.axes._subplots.AxesSubplot object at 0x10de0ed10>,\n",
       "        <matplotlib.axes._subplots.AxesSubplot object at 0x10ddaf1d0>,\n",
       "        <matplotlib.axes._subplots.AxesSubplot object at 0x10deffb10>,\n",
       "        <matplotlib.axes._subplots.AxesSubplot object at 0x10df84850>,\n",
       "        <matplotlib.axes._subplots.AxesSubplot object at 0x10dfe6f90>,\n",
       "        <matplotlib.axes._subplots.AxesSubplot object at 0x10e06bdd0>,\n",
       "        <matplotlib.axes._subplots.AxesSubplot object at 0x10e0c5b10>],\n",
       "       [<matplotlib.axes._subplots.AxesSubplot object at 0x10e154a10>,\n",
       "        <matplotlib.axes._subplots.AxesSubplot object at 0x10e1d7750>,\n",
       "        <matplotlib.axes._subplots.AxesSubplot object at 0x10e246750>,\n",
       "        <matplotlib.axes._subplots.AxesSubplot object at 0x10e2ca490>,\n",
       "        <matplotlib.axes._subplots.AxesSubplot object at 0x10e32f410>,\n",
       "        <matplotlib.axes._subplots.AxesSubplot object at 0x10e3b2250>,\n",
       "        <matplotlib.axes._subplots.AxesSubplot object at 0x10e352e50>],\n",
       "       [<matplotlib.axes._subplots.AxesSubplot object at 0x10e4a6050>,\n",
       "        <matplotlib.axes._subplots.AxesSubplot object at 0x10e51dd50>,\n",
       "        <matplotlib.axes._subplots.AxesSubplot object at 0x10e579050>,\n",
       "        <matplotlib.axes._subplots.AxesSubplot object at 0x10e5eec50>,\n",
       "        <matplotlib.axes._subplots.AxesSubplot object at 0x10e657910>,\n",
       "        <matplotlib.axes._subplots.AxesSubplot object at 0x10e6e18d0>,\n",
       "        <matplotlib.axes._subplots.AxesSubplot object at 0x10e767610>]], dtype=object)"
      ]
     },
     "execution_count": 28,
     "metadata": {},
     "output_type": "execute_result"
    },
    {
     "name": "stderr",
     "output_type": "stream",
     "text": [
      "/Users/paulsingman/pyth/data-analysis/venv/lib/python2.7/site-packages/matplotlib/collections.py:590: FutureWarning: elementwise comparison failed; returning scalar instead, but in the future will perform elementwise comparison\n",
      "  if self._edgecolors == str('face'):\n"
     ]
    },
    {
     "data": {
      "image/png": "[encoded data removed]",
      "text/plain": [
       "<matplotlib.figure.Figure at 0x10cffde10>"
      ]
     },
     "metadata": {},
     "output_type": "display_data"
    }
   ],
   "source": [
    "pd.tools.plotting.scatter_matrix(df_all[sm_cols], alpha=0.2, figsize=(15, 15), diagonal='kde')"
   ]
  },
  {
   "cell_type": "markdown",
   "metadata": {},
   "source": [
    "### Correlation matrix"
   ]
  },
  {
   "cell_type": "code",
   "execution_count": 29,
   "metadata": {
    "collapsed": false
   },
   "outputs": [
    {
     "data": {
      "text/html": [
       "<div>\n",
       "<table border=\"1\" class=\"dataframe\">\n",
       "  <thead>\n",
       "    <tr style=\"text-align: right;\">\n",
       "      <th></th>\n",
       "      <th>Bedrooms</th>\n",
       "      <th>Capacity</th>\n",
       "      <th>Has_Star_Rating</th>\n",
       "      <th>Review_Count</th>\n",
       "      <th>Room_Type</th>\n",
       "      <th>Star_Rating</th>\n",
       "      <th>Price</th>\n",
       "    </tr>\n",
       "  </thead>\n",
       "  <tbody>\n",
       "    <tr>\n",
       "      <th>Bedrooms</th>\n",
       "      <td>1.000000</td>\n",
       "      <td>0.317923</td>\n",
       "      <td>-0.054905</td>\n",
       "      <td>0.014055</td>\n",
       "      <td>-0.162514</td>\n",
       "      <td>-0.045642</td>\n",
       "      <td>-0.010372</td>\n",
       "    </tr>\n",
       "    <tr>\n",
       "      <th>Capacity</th>\n",
       "      <td>0.317923</td>\n",
       "      <td>1.000000</td>\n",
       "      <td>-0.015300</td>\n",
       "      <td>0.049147</td>\n",
       "      <td>0.443049</td>\n",
       "      <td>-0.007313</td>\n",
       "      <td>0.396855</td>\n",
       "    </tr>\n",
       "    <tr>\n",
       "      <th>Has_Star_Rating</th>\n",
       "      <td>-0.054905</td>\n",
       "      <td>-0.015300</td>\n",
       "      <td>1.000000</td>\n",
       "      <td>0.271267</td>\n",
       "      <td>-0.030215</td>\n",
       "      <td>0.991021</td>\n",
       "      <td>-0.003583</td>\n",
       "    </tr>\n",
       "    <tr>\n",
       "      <th>Review_Count</th>\n",
       "      <td>0.014055</td>\n",
       "      <td>0.049147</td>\n",
       "      <td>0.271267</td>\n",
       "      <td>1.000000</td>\n",
       "      <td>-0.035037</td>\n",
       "      <td>0.273466</td>\n",
       "      <td>0.040921</td>\n",
       "    </tr>\n",
       "    <tr>\n",
       "      <th>Room_Type</th>\n",
       "      <td>-0.162514</td>\n",
       "      <td>0.443049</td>\n",
       "      <td>-0.030215</td>\n",
       "      <td>-0.035037</td>\n",
       "      <td>1.000000</td>\n",
       "      <td>-0.027815</td>\n",
       "      <td>0.618045</td>\n",
       "    </tr>\n",
       "    <tr>\n",
       "      <th>Star_Rating</th>\n",
       "      <td>-0.045642</td>\n",
       "      <td>-0.007313</td>\n",
       "      <td>0.991021</td>\n",
       "      <td>0.273466</td>\n",
       "      <td>-0.027815</td>\n",
       "      <td>1.000000</td>\n",
       "      <td>0.009269</td>\n",
       "    </tr>\n",
       "    <tr>\n",
       "      <th>Price</th>\n",
       "      <td>-0.010372</td>\n",
       "      <td>0.396855</td>\n",
       "      <td>-0.003583</td>\n",
       "      <td>0.040921</td>\n",
       "      <td>0.618045</td>\n",
       "      <td>0.009269</td>\n",
       "      <td>1.000000</td>\n",
       "    </tr>\n",
       "  </tbody>\n",
       "</table>\n",
       "</div>"
      ],
      "text/plain": [
       "                 Bedrooms  Capacity  Has_Star_Rating  Review_Count  Room_Type  \\\n",
       "Bedrooms         1.000000  0.317923        -0.054905      0.014055  -0.162514   \n",
       "Capacity         0.317923  1.000000        -0.015300      0.049147   0.443049   \n",
       "Has_Star_Rating -0.054905 -0.015300         1.000000      0.271267  -0.030215   \n",
       "Review_Count     0.014055  0.049147         0.271267      1.000000  -0.035037   \n",
       "Room_Type       -0.162514  0.443049        -0.030215     -0.035037   1.000000   \n",
       "Star_Rating     -0.045642 -0.007313         0.991021      0.273466  -0.027815   \n",
       "Price           -0.010372  0.396855        -0.003583      0.040921   0.618045   \n",
       "\n",
       "                 Star_Rating     Price  \n",
       "Bedrooms           -0.045642 -0.010372  \n",
       "Capacity           -0.007313  0.396855  \n",
       "Has_Star_Rating     0.991021 -0.003583  \n",
       "Review_Count        0.273466  0.040921  \n",
       "Room_Type          -0.027815  0.618045  \n",
       "Star_Rating         1.000000  0.009269  \n",
       "Price               0.009269  1.000000  "
      ]
     },
     "execution_count": 29,
     "metadata": {},
     "output_type": "execute_result"
    }
   ],
   "source": [
    "df_all[sm_cols].corr()"
   ]
  },
  {
   "cell_type": "code",
   "execution_count": null,
   "metadata": {
    "collapsed": true
   },
   "outputs": [],
   "source": []
  },
  {
   "cell_type": "markdown",
   "metadata": {},
   "source": [
    "## Fit baseline model (predict the city's average price for every listing)"
   ]
  },
  {
   "cell_type": "code",
   "execution_count": 30,
   "metadata": {
    "collapsed": true
   },
   "outputs": [],
   "source": [
    "def fit_baseline(X, y):\n",
    "    \"\"\"Fit baseline prediction model where we predict a city's avg for each listing\"\"\"\n",
    "    base_r2 = metrics.r2_score(y, X)\n",
    "    base_RMSE = np.sqrt(metrics.mean_squared_error(y, X))\n",
    "    \n",
    "    return (base_r2, base_RMSE)"
   ]
  },
  {
   "cell_type": "code",
   "execution_count": 31,
   "metadata": {
    "collapsed": false
   },
   "outputs": [
    {
     "name": "stdout",
     "output_type": "stream",
     "text": [
      "Baseline model R-squared: 0.110\n",
      "Baseline model RMSE: 38.382\n"
     ]
    }
   ],
   "source": [
    "base_r2, base_RMSE = fit_baseline(df_all.Avg_Price, df_all.Price)\n",
    "print \"Baseline model R-squared: {:.3f}\".format(base_r2)\n",
    "print \"Baseline model RMSE: {:.3f}\".format(base_RMSE)"
   ]
  },
  {
   "cell_type": "markdown",
   "metadata": {},
   "source": [
    "## Now let's improve upon it"
   ]
  },
  {
   "cell_type": "code",
   "execution_count": 53,
   "metadata": {
    "collapsed": true
   },
   "outputs": [],
   "source": [
    "regression_features = ['Star_Rating','Has_Star_Rating','Bedrooms','Room_Type', 'Capacity','Review_Count',\n",
    "                       'City_NY','City_SF','City_DA','City_DC','City_LA']\n",
    "X = df_all[regression_features]\n",
    "y = df_all.Price\n",
    "\n",
    "# split the data into training and testing sets\n",
    "X_train, X_test, y_train, y_test = train_test_split(X, y, random_state = 123)"
   ]
  },
  {
   "cell_type": "code",
   "execution_count": 8,
   "metadata": {
    "collapsed": true
   },
   "outputs": [],
   "source": [
    "def train_model(clf, X_train, y_train):\n",
    "    \"\"\"Trains the classifier\"\"\"\n",
    "    print \"----------------------------\"\n",
    "    print \"Training {}...\".format(clf.__class__.__name__)\n",
    "    start = time.time()\n",
    "    clf.fit(X_train, y_train)\n",
    "    end = time.time()\n",
    "    print \"Done!\\nTraining time (secs): {:.3f}\".format(end - start)\n",
    "    \n",
    "    return clf"
   ]
  },
  {
   "cell_type": "code",
   "execution_count": 9,
   "metadata": {
    "collapsed": true
   },
   "outputs": [],
   "source": [
    "def model_predictions(clf, X_train, X_test):\n",
    "    \"\"\"Generate predictions from the training and testing data\"\"\"\n",
    "    train_predictions = clf.predict(X_train)\n",
    "    test_predictions = clf.predict(X_test)\n",
    "    \n",
    "    return (train_predictions, test_predictions)"
   ]
  },
  {
   "cell_type": "code",
   "execution_count": 10,
   "metadata": {
    "collapsed": true
   },
   "outputs": [],
   "source": [
    "def score_model(train_preds, test_preds, train_truth, test_truth):\n",
    "    \"\"\"Return the R-squared on the test data, and the RMSE on the train and test data\"\"\"\n",
    "    train_RMSE = np.sqrt(metrics.mean_squared_error(train_truth, train_preds))\n",
    "    test_RMSE = np.sqrt(metrics.mean_squared_error(test_truth, test_preds))\n",
    "    \n",
    "    test_rsquare = metrics.r2_score(test_truth, test_preds)\n",
    "    \n",
    "    return (train_RMSE, test_RMSE, test_rsquare)"
   ]
  },
  {
   "cell_type": "code",
   "execution_count": 11,
   "metadata": {
    "collapsed": true
   },
   "outputs": [],
   "source": [
    "def regression_model(clf, X_train, X_test, y_train, y_test):\n",
    "    \"\"\"This function:\n",
    "     - trains the model on the training\n",
    "     - makes predictions on the test set\n",
    "     - reports the r_squared and RMSE of the model\n",
    "    \"\"\"\n",
    "    clf = train_model(clf, X_train, y_train)\n",
    "    train_predictions, test_predictions = model_predictions(clf, X_train, X_test)\n",
    "    train_RMSE, test_RMSE, test_rsquare = score_model(train_predictions, test_predictions, y_train, y_test)\n",
    "    \n",
    "    print \"RMSE for training set: {}\".format(train_RMSE)\n",
    "    print \"RMSE score for test set: {}\".format(test_RMSE)\n",
    "    print \"R-Squared for test set: {}\".format(test_rsquare)\n",
    "    \n",
    "    return clf "
   ]
  },
  {
   "cell_type": "code",
   "execution_count": 45,
   "metadata": {
    "collapsed": true
   },
   "outputs": [],
   "source": [
    "lr_ridge = Ridge()\n",
    "lr_ols = LinearRegression()\n",
    "lr_lasso = Lasso()\n",
    "lr_elasticnet = ElasticNet()"
   ]
  },
  {
   "cell_type": "code",
   "execution_count": 46,
   "metadata": {
    "collapsed": false
   },
   "outputs": [
    {
     "name": "stdout",
     "output_type": "stream",
     "text": [
      "----------------------------\n",
      "Training Ridge...\n",
      "Done!\n",
      "Training time (secs): 0.002\n",
      "RMSE for training set: 27.3472326159\n",
      "RMSE score for test set: 28.3380972765\n",
      "R-Squared for test set: 0.523198045545\n"
     ]
    }
   ],
   "source": [
    "lr_ridge = regression_model(lr_ridge, X_train, X_test, y_train, y_test)"
   ]
  },
  {
   "cell_type": "code",
   "execution_count": 47,
   "metadata": {
    "collapsed": false
   },
   "outputs": [
    {
     "data": {
      "text/plain": [
       "[('Star_Rating', 12.547501485695092),\n",
       " ('Has_Star_Rating', -58.977051252187401),\n",
       " ('Bedrooms', 6.0421309107066437),\n",
       " ('Room_Type', 41.904349446596889),\n",
       " ('Capacity', 6.5565798893502318),\n",
       " ('Review_Count', 0.018048773124688791),\n",
       " ('City_NY', 23.042739832376778),\n",
       " ('City_SF', 41.296565422567873),\n",
       " ('City_DA', -1.3746104117652609),\n",
       " ('City_DC', 9.681606200537713),\n",
       " ('City_LA', 5.855606217889906)]"
      ]
     },
     "execution_count": 47,
     "metadata": {},
     "output_type": "execute_result"
    }
   ],
   "source": [
    "zip(regression_features,lr_ridge.coef_)"
   ]
  },
  {
   "cell_type": "code",
   "execution_count": 48,
   "metadata": {
    "collapsed": false
   },
   "outputs": [
    {
     "name": "stdout",
     "output_type": "stream",
     "text": [
      "----------------------------\n",
      "Training LinearRegression...\n",
      "Done!\n",
      "Training time (secs): 0.001\n",
      "RMSE for training set: 27.3323151303\n",
      "RMSE score for test set: 28.3666468061\n",
      "R-Squared for test set: 0.522236842795\n"
     ]
    }
   ],
   "source": [
    "lr_ols = regression_model(lr_ols, X_train, X_test, y_train, y_test)"
   ]
  },
  {
   "cell_type": "code",
   "execution_count": 49,
   "metadata": {
    "collapsed": false
   },
   "outputs": [
    {
     "data": {
      "text/plain": [
       "[('Star_Rating', 16.056704526921926),\n",
       " ('Has_Star_Rating', -76.315454996179469),\n",
       " ('Bedrooms', 6.0599749758001771),\n",
       " ('Room_Type', 42.038107280801057),\n",
       " ('Capacity', 6.4830462177985648),\n",
       " ('Review_Count', 0.017642205284154253),\n",
       " ('City_NY', 23.711064607628618),\n",
       " ('City_SF', 41.959658231774483),\n",
       " ('City_DA', -0.99613231958113058),\n",
       " ('City_DC', 10.306896119594052),\n",
       " ('City_LA', 6.3757633392591391)]"
      ]
     },
     "execution_count": 49,
     "metadata": {},
     "output_type": "execute_result"
    }
   ],
   "source": [
    "zip(regression_features,lr_ols.coef_)"
   ]
  },
  {
   "cell_type": "code",
   "execution_count": 50,
   "metadata": {
    "collapsed": false
   },
   "outputs": [
    {
     "name": "stdout",
     "output_type": "stream",
     "text": [
      "----------------------------\n",
      "Training ElasticNet...\n",
      "Done!\n",
      "Training time (secs): 0.002\n",
      "RMSE for training set: 33.3207798611\n",
      "RMSE score for test set: 33.2261363697\n",
      "R-Squared for test set: 0.34452468668\n"
     ]
    }
   ],
   "source": [
    "lr_elasticnet = regression_model(lr_elasticnet, X_train, X_test, y_train, y_test)"
   ]
  },
  {
   "cell_type": "code",
   "execution_count": 51,
   "metadata": {
    "collapsed": false
   },
   "outputs": [
    {
     "data": {
      "text/plain": [
       "[('Star_Rating', 0.16177470516691062),\n",
       " ('Has_Star_Rating', -0.0),\n",
       " ('Bedrooms', -0.19637869526813961),\n",
       " ('Room_Type', 14.350698701672822),\n",
       " ('Capacity', 7.9614581956529422),\n",
       " ('Review_Count', 0.03341037540532487),\n",
       " ('City_NY', 1.3335063406603054),\n",
       " ('City_SF', 6.3908178228677519),\n",
       " ('City_DA', -1.933955571549564),\n",
       " ('City_DC', 0.0),\n",
       " ('City_LA', -1.4957997134749459)]"
      ]
     },
     "execution_count": 51,
     "metadata": {},
     "output_type": "execute_result"
    }
   ],
   "source": [
    "zip(regression_features,lr_elasticnet.coef_)"
   ]
  },
  {
   "cell_type": "code",
   "execution_count": 52,
   "metadata": {
    "collapsed": false
   },
   "outputs": [
    {
     "name": "stdout",
     "output_type": "stream",
     "text": [
      "----------------------------\n",
      "Training Lasso...\n",
      "Done!\n",
      "Training time (secs): 0.002\n",
      "RMSE for training set: 28.3009203644\n",
      "RMSE score for test set: 28.9302308841\n",
      "R-Squared for test set: 0.503064008226\n"
     ]
    }
   ],
   "source": [
    "lr_lasso = regression_model(lr_lasso, X_train, X_test, y_train, y_test)"
   ]
  },
  {
   "cell_type": "code",
   "execution_count": 53,
   "metadata": {
    "collapsed": false
   },
   "outputs": [
    {
     "data": {
      "text/plain": [
       "[('Star_Rating', 0.20062294810488579),\n",
       " ('Has_Star_Rating', 0.0),\n",
       " ('Bedrooms', 0.0),\n",
       " ('Room_Type', 37.821289581862267),\n",
       " ('Capacity', 6.530503400235065),\n",
       " ('Review_Count', 0.030126438333514256),\n",
       " ('City_NY', 9.1156881773149259),\n",
       " ('City_SF', 28.131846123364777),\n",
       " ('City_DA', -0.68969066926517486),\n",
       " ('City_DC', 0.0),\n",
       " ('City_LA', -0.0)]"
      ]
     },
     "execution_count": 53,
     "metadata": {},
     "output_type": "execute_result"
    }
   ],
   "source": [
    "zip(regression_features,lr_lasso.coef_)"
   ]
  },
  {
   "cell_type": "markdown",
   "metadata": {
    "collapsed": true
   },
   "source": [
    "### Looks like all have similar performance except for elasticnet, we'll look into how we can optimize its performance. We'll optimize the alpha and l1_ratio parameters."
   ]
  },
  {
   "cell_type": "code",
   "execution_count": 28,
   "metadata": {
    "collapsed": false
   },
   "outputs": [],
   "source": [
    "l1_ratios = [.05,.1, .5, .7, .9, .95, .99, 1]\n",
    "alphas = [10e-4, 10e-3, 10e-2, 10e-1, 0, 1, 10, 100, 1000]"
   ]
  },
  {
   "cell_type": "code",
   "execution_count": 31,
   "metadata": {
    "collapsed": false
   },
   "outputs": [
    {
     "name": "stdout",
     "output_type": "stream",
     "text": [
      "l1 ratio: 0.05, alpha: 0.001\n",
      "----------------------------\n",
      "Training ElasticNet...\n",
      "Done!\n",
      "Training time (secs): 0.016\n",
      "RMSE for training set: 27.3547836693\n",
      "RMSE score for test set: 28.3337115379\n",
      "R-Squared for test set: 0.523345618397\n",
      "\n",
      "\n",
      "l1 ratio: 0.05, alpha: 0.01\n",
      "----------------------------\n",
      "Training ElasticNet...\n",
      "Done!\n",
      "Training time (secs): 0.004\n",
      "RMSE for training set: 27.5727452242\n",
      "RMSE score for test set: 28.3202271773\n",
      "R-Squared for test set: 0.523799201765\n",
      "\n",
      "\n",
      "l1 ratio: 0.05, alpha: 0.1\n",
      "----------------------------\n",
      "Training ElasticNet...\n",
      "Done!\n",
      "Training time (secs): 0.001\n",
      "RMSE for training set: 28.9860728618\n",
      "RMSE score for test set: 29.0989022678\n",
      "R-Squared for test set: 0.497252563065\n",
      "\n",
      "\n",
      "l1 ratio: 0.05, alpha: 1.0\n",
      "----------------------------\n",
      "Training ElasticNet...\n",
      "Done!\n",
      "Training time (secs): 0.001\n",
      "RMSE for training set: 34.9202007763\n",
      "RMSE score for test set: 34.9340709129\n",
      "R-Squared for test set: 0.275405474697\n",
      "\n",
      "\n",
      "l1 ratio: 0.05, alpha: 0\n",
      "----------------------------\n",
      "Training ElasticNet...\n",
      "Done!\n",
      "Training time (secs): 0.025\n",
      "RMSE for training set: 27.3323151303\n",
      "RMSE score for test set: 28.3666468056\n",
      "R-Squared for test set: 0.522236842814\n",
      "\n",
      "\n",
      "l1 ratio: 0.05, alpha: 1\n",
      "----------------------------\n",
      "Training ElasticNet...\n",
      "Done!\n",
      "Training time (secs): 0.001\n",
      "RMSE for training set: 34.9202007763\n",
      "RMSE score for test set: 34.9340709129\n",
      "R-Squared for test set: 0.275405474697\n",
      "\n",
      "\n",
      "l1 ratio: 0.05, alpha: 10\n",
      "----------------------------\n",
      "Training ElasticNet...\n",
      "Done!\n",
      "Training time (secs): 0.001\n",
      "RMSE for training set: 39.5128599052\n",
      "RMSE score for test set: 39.9664420111\n",
      "R-Squared for test set: 0.0516085550126\n",
      "\n",
      "\n",
      "l1 ratio: 0.05, alpha: 100\n",
      "----------------------------\n",
      "Training ElasticNet...\n",
      "Done!\n",
      "Training time (secs): 0.001\n",
      "RMSE for training set: 40.4428166108\n",
      "RMSE score for test set: 40.9849329844\n",
      "R-Squared for test set: 0.00265569527995\n",
      "\n",
      "\n",
      "l1 ratio: 0.05, alpha: 1000\n",
      "----------------------------\n",
      "Training ElasticNet...\n",
      "Done!\n",
      "Training time (secs): 0.001\n",
      "RMSE for training set: 40.5404925347\n",
      "RMSE score for test set: 41.0577876654\n",
      "R-Squared for test set: -0.000893208038416\n",
      "\n",
      "\n",
      "l1 ratio: 0.1, alpha: 0.001\n",
      "----------------------------\n",
      "Training ElasticNet...\n",
      "Done!\n",
      "Training time (secs): 0.011\n",
      "RMSE for training set: 27.3530953115\n",
      "RMSE score for test set: 28.3345707489\n",
      "R-Squared for test set: 0.523316709168\n",
      "\n",
      "\n",
      "l1 ratio: 0.1, alpha: 0.01\n",
      "----------------------------\n",
      "Training ElasticNet...\n",
      "Done!\n",
      "Training time (secs): 0.003\n",
      "RMSE for training set: 27.5639573115\n",
      "RMSE score for test set: 28.319962361\n",
      "R-Squared for test set: 0.523808107426\n",
      "\n",
      "\n",
      "l1 ratio: 0.1, alpha: 0.1\n",
      "----------------------------\n",
      "Training ElasticNet...\n",
      "Done!\n",
      "Training time (secs): 0.002\n",
      "RMSE for training set: 28.9118265219\n",
      "RMSE score for test set: 29.042302155\n",
      "R-Squared for test set: 0.499206443456\n",
      "\n",
      "\n",
      "l1 ratio: 0.1, alpha: 1.0\n",
      "----------------------------\n",
      "Training ElasticNet...\n",
      "Done!\n",
      "Training time (secs): 0.002\n",
      "RMSE for training set: 34.789080419\n",
      "RMSE score for test set: 34.7920433207\n",
      "R-Squared for test set: 0.281285305659\n",
      "\n",
      "\n",
      "l1 ratio: 0.1, alpha: 0\n",
      "----------------------------\n",
      "Training ElasticNet...\n",
      "Done!\n",
      "Training time (secs): 0.037\n",
      "RMSE for training set: 27.3323151303\n",
      "RMSE score for test set: 28.3666468056\n",
      "R-Squared for test set: 0.522236842814\n",
      "\n",
      "\n",
      "l1 ratio: 0.1, alpha: 1\n",
      "----------------------------\n",
      "Training ElasticNet...\n",
      "Done!\n",
      "Training time (secs): 0.001\n",
      "RMSE for training set: 34.789080419\n",
      "RMSE score for test set: 34.7920433207\n",
      "R-Squared for test set: 0.281285305659\n",
      "\n",
      "\n",
      "l1 ratio: 0.1, alpha: 10\n",
      "----------------------------\n",
      "Training ElasticNet...\n",
      "Done!\n",
      "Training time (secs): 0.001\n",
      "RMSE for training set: 39.5091435633\n",
      "RMSE score for test set: 39.9607113035\n",
      "R-Squared for test set: 0.0518805113899\n",
      "\n",
      "\n",
      "l1 ratio: 0.1, alpha: 100\n",
      "----------------------------\n",
      "Training ElasticNet...\n",
      "Done!\n",
      "Training time (secs): 0.001\n",
      "RMSE for training set: 40.4790138053\n",
      "RMSE score for test set: 41.0216591406\n",
      "R-Squared for test set: 0.000867475497869\n",
      "\n",
      "\n",
      "l1 ratio: 0.1, alpha: 1000\n",
      "----------------------------\n",
      "Training ElasticNet...\n",
      "Done!\n",
      "Training time (secs): 0.002\n",
      "RMSE for training set: 40.5587960132\n",
      "RMSE score for test set: 41.0673062758\n",
      "R-Squared for test set: -0.00135734492425\n",
      "\n",
      "\n",
      "l1 ratio: 0.5, alpha: 0.001\n",
      "----------------------------\n",
      "Training ElasticNet...\n",
      "Done!\n",
      "Training time (secs): 0.015\n",
      "RMSE for training set: 27.3407202204\n",
      "RMSE score for test set: 28.3438247002\n",
      "R-Squared for test set: 0.523005292819\n",
      "\n",
      "\n",
      "l1 ratio: 0.5, alpha: 0.01\n",
      "----------------------------\n",
      "Training ElasticNet...\n",
      "Done!\n",
      "Training time (secs): 0.004\n",
      "RMSE for training set: 27.4846508113\n",
      "RMSE score for test set: 28.3204988243\n",
      "R-Squared for test set: 0.523790066305\n",
      "\n",
      "\n",
      "l1 ratio: 0.5, alpha: 0.1\n",
      "----------------------------\n",
      "Training ElasticNet...\n",
      "Done!\n",
      "Training time (secs): 0.001\n",
      "RMSE for training set: 28.2939010161\n",
      "RMSE score for test set: 28.6194347523\n",
      "R-Squared for test set: 0.513683777053\n",
      "\n",
      "\n",
      "l1 ratio: 0.5, alpha: 1.0\n",
      "----------------------------\n",
      "Training ElasticNet...\n",
      "Done!\n",
      "Training time (secs): 0.001\n",
      "RMSE for training set: 33.3207798611\n",
      "RMSE score for test set: 33.2261363697\n",
      "R-Squared for test set: 0.34452468668\n",
      "\n",
      "\n",
      "l1 ratio: 0.5, alpha: 0\n",
      "----------------------------\n",
      "Training ElasticNet...\n",
      "Done!\n",
      "Training time (secs): 0.026\n",
      "RMSE for training set: 27.3323151303\n",
      "RMSE score for test set: 28.3666468056\n",
      "R-Squared for test set: 0.522236842814\n",
      "\n",
      "\n",
      "l1 ratio: 0.5, alpha: 1\n",
      "----------------------------\n",
      "Training ElasticNet...\n",
      "Done!\n",
      "Training time (secs): 0.001\n",
      "RMSE for training set: 33.3207798611\n",
      "RMSE score for test set: 33.2261363697\n",
      "R-Squared for test set: 0.34452468668\n",
      "\n",
      "\n",
      "l1 ratio: 0.5, alpha: 10\n",
      "----------------------------\n",
      "Training ElasticNet...\n",
      "Done!\n",
      "Training time (secs): 0.001\n",
      "RMSE for training set: 39.3858435301\n",
      "RMSE score for test set: 39.8090027807\n",
      "R-Squared for test set: 0.0590658074687\n",
      "\n",
      "\n",
      "l1 ratio: 0.5, alpha: 100\n",
      "----------------------------\n",
      "Training ElasticNet...\n",
      "Done!\n",
      "Training time (secs): 0.001\n",
      "RMSE for training set: 40.532845322\n",
      "RMSE score for test set: 41.0552818667\n",
      "R-Squared for test set: -0.000771040696383\n",
      "\n",
      "\n",
      "l1 ratio: 0.5, alpha: 1000\n",
      "----------------------------\n",
      "Training ElasticNet...\n",
      "Done!\n",
      "Training time (secs): 0.001\n",
      "RMSE for training set: 40.5587960132\n",
      "RMSE score for test set: 41.0673062758\n",
      "R-Squared for test set: -0.00135734492425\n",
      "\n",
      "\n",
      "l1 ratio: 0.7, alpha: 0.001\n",
      "----------------------------\n",
      "Training ElasticNet...\n",
      "Done!\n",
      "Training time (secs): 0.017\n",
      "RMSE for training set: 27.3359220055\n",
      "RMSE score for test set: 28.3507028584\n",
      "R-Squared for test set: 0.522773761388\n",
      "\n",
      "\n",
      "l1 ratio: 0.7, alpha: 0.01\n",
      "----------------------------\n",
      "Training ElasticNet...\n",
      "Done!\n",
      "Training time (secs): 0.005\n",
      "RMSE for training set: 27.432624677\n",
      "RMSE score for test set: 28.3226081936\n",
      "R-Squared for test set: 0.523719125463\n",
      "\n",
      "\n",
      "l1 ratio: 0.7, alpha: 0.1\n",
      "----------------------------\n",
      "Training ElasticNet...\n",
      "Done!\n",
      "Training time (secs): 0.001\n",
      "RMSE for training set: 27.9770898921\n",
      "RMSE score for test set: 28.4531717557\n",
      "R-Squared for test set: 0.519317817552\n",
      "\n",
      "\n",
      "l1 ratio: 0.7, alpha: 1.0\n",
      "----------------------------\n",
      "Training ElasticNet...\n",
      "Done!\n",
      "Training time (secs): 0.001\n",
      "RMSE for training set: 32.0572276655\n",
      "RMSE score for test set: 31.9359600249\n",
      "R-Squared for test set: 0.394440801644\n",
      "\n",
      "\n",
      "l1 ratio: 0.7, alpha: 0\n",
      "----------------------------\n",
      "Training ElasticNet...\n",
      "Done!\n",
      "Training time (secs): 0.028\n",
      "RMSE for training set: 27.3323151303\n",
      "RMSE score for test set: 28.3666468056\n",
      "R-Squared for test set: 0.522236842814\n",
      "\n",
      "\n",
      "l1 ratio: 0.7, alpha: 1\n",
      "----------------------------\n",
      "Training ElasticNet...\n",
      "Done!\n",
      "Training time (secs): 0.001\n",
      "RMSE for training set: 32.0572276655\n",
      "RMSE score for test set: 31.9359600249\n",
      "R-Squared for test set: 0.394440801644\n",
      "\n",
      "\n",
      "l1 ratio: 0.7, alpha: 10\n",
      "----------------------------\n",
      "Training ElasticNet...\n",
      "Done!\n",
      "Training time (secs): 0.001\n",
      "RMSE for training set: 39.1699682176\n",
      "RMSE score for test set: 39.566263755\n",
      "R-Squared for test set: 0.0705056870884\n",
      "\n",
      "\n",
      "l1 ratio: 0.7, alpha: 100\n",
      "----------------------------\n",
      "Training ElasticNet...\n",
      "Done!\n",
      "Training time (secs): 0.001\n",
      "RMSE for training set: 40.5500237764\n",
      "RMSE score for test set: 41.0622850592\n",
      "R-Squared for test set: -0.00111249201033\n",
      "\n",
      "\n",
      "l1 ratio: 0.7, alpha: 1000\n",
      "----------------------------\n",
      "Training ElasticNet...\n",
      "Done!\n",
      "Training time (secs): 0.001\n",
      "RMSE for training set: 40.5587960132\n",
      "RMSE score for test set: 41.0673062758\n",
      "R-Squared for test set: -0.00135734492425\n",
      "\n",
      "\n",
      "l1 ratio: 0.9, alpha: 0.001\n",
      "----------------------------\n",
      "Training ElasticNet...\n",
      "Done!\n",
      "Training time (secs): 0.014\n",
      "RMSE for training set: 27.332878547\n",
      "RMSE score for test set: 28.3598959355\n",
      "R-Squared for test set: 0.522464217816\n",
      "\n",
      "\n",
      "l1 ratio: 0.9, alpha: 0.01\n",
      "----------------------------\n",
      "Training ElasticNet...\n",
      "Done!\n",
      "Training time (secs): 0.008\n",
      "RMSE for training set: 27.3641841107\n",
      "RMSE score for test set: 28.3318910049\n",
      "R-Squared for test set: 0.523406869616\n",
      "\n",
      "\n",
      "l1 ratio: 0.9, alpha: 0.1\n",
      "----------------------------\n",
      "Training ElasticNet...\n",
      "Done!\n",
      "Training time (secs): 0.002\n",
      "RMSE for training set: 27.6882487588\n",
      "RMSE score for test set: 28.3953568223\n",
      "R-Squared for test set: 0.521269260734\n",
      "\n",
      "\n",
      "l1 ratio: 0.9, alpha: 1.0\n",
      "----------------------------\n",
      "Training ElasticNet...\n",
      "Done!\n",
      "Training time (secs): 0.001\n",
      "RMSE for training set: 29.9043739631\n",
      "RMSE score for test set: 29.9398032174\n",
      "R-Squared for test set: 0.467775899632\n",
      "\n",
      "\n",
      "l1 ratio: 0.9, alpha: 0\n",
      "----------------------------\n",
      "Training ElasticNet...\n",
      "Done!\n",
      "Training time (secs): 0.026\n",
      "RMSE for training set: 27.3323151303\n",
      "RMSE score for test set: 28.3666468056\n",
      "R-Squared for test set: 0.522236842814\n",
      "\n",
      "\n",
      "l1 ratio: 0.9, alpha: 1\n",
      "----------------------------\n",
      "Training ElasticNet...\n",
      "Done!\n",
      "Training time (secs): 0.002\n",
      "RMSE for training set: 29.9043739631\n",
      "RMSE score for test set: 29.9398032174\n",
      "R-Squared for test set: 0.467775899632\n",
      "\n",
      "\n",
      "l1 ratio: 0.9, alpha: 10\n",
      "----------------------------\n",
      "Training ElasticNet...\n",
      "Done!\n",
      "Training time (secs): 0.001\n",
      "RMSE for training set: 38.4854553842\n",
      "RMSE score for test set: 38.8024646343\n",
      "R-Squared for test set: 0.106045783979\n",
      "\n",
      "\n",
      "l1 ratio: 0.9, alpha: 100\n",
      "----------------------------\n",
      "Training ElasticNet...\n",
      "Done!\n",
      "Training time (secs): 0.001\n",
      "RMSE for training set: 40.5587960132\n",
      "RMSE score for test set: 41.0673062758\n",
      "R-Squared for test set: -0.00135734492425\n",
      "\n",
      "\n",
      "l1 ratio: 0.9, alpha: 1000\n",
      "----------------------------\n",
      "Training ElasticNet...\n",
      "Done!\n",
      "Training time (secs): 0.001\n",
      "RMSE for training set: 40.5587960132\n",
      "RMSE score for test set: 41.0673062758\n",
      "R-Squared for test set: -0.00135734492425\n",
      "\n",
      "\n",
      "l1 ratio: 0.95, alpha: 0.001\n",
      "----------------------------\n",
      "Training ElasticNet...\n",
      "Done!\n",
      "Training time (secs): 0.013\n",
      "RMSE for training set: 27.3325055851\n",
      "RMSE score for test set: 28.3626623589\n",
      "R-Squared for test set: 0.522371048884\n",
      "\n",
      "\n",
      "l1 ratio: 0.95, alpha: 0.01\n",
      "----------------------------\n",
      "Training ElasticNet...\n",
      "Done!\n",
      "Training time (secs): 0.008\n",
      "RMSE for training set: 27.3462818195\n",
      "RMSE score for test set: 28.3402437495\n",
      "R-Squared for test set: 0.523125811954\n",
      "\n",
      "\n",
      "l1 ratio: 0.95, alpha: 0.1\n",
      "----------------------------\n",
      "Training ElasticNet...\n",
      "Done!\n",
      "Training time (secs): 0.003\n",
      "RMSE for training set: 27.6053855814\n",
      "RMSE score for test set: 28.3887947375\n",
      "R-Squared for test set: 0.521490501745\n",
      "\n",
      "\n",
      "l1 ratio: 0.95, alpha: 1.0\n",
      "----------------------------\n",
      "Training ElasticNet...\n",
      "Done!\n",
      "Training time (secs): 0.001\n",
      "RMSE for training set: 29.120626965\n",
      "RMSE score for test set: 29.3419638136\n",
      "R-Squared for test set: 0.488818641603\n",
      "\n",
      "\n",
      "l1 ratio: 0.95, alpha: 0\n",
      "----------------------------\n",
      "Training ElasticNet...\n",
      "Done!\n",
      "Training time (secs): 0.024\n",
      "RMSE for training set: 27.3323151303\n",
      "RMSE score for test set: 28.3666468056\n",
      "R-Squared for test set: 0.522236842814\n",
      "\n",
      "\n",
      "l1 ratio: 0.95, alpha: 1\n",
      "----------------------------\n",
      "Training ElasticNet...\n",
      "Done!\n",
      "Training time (secs): 0.001\n",
      "RMSE for training set: 29.120626965\n",
      "RMSE score for test set: 29.3419638136\n",
      "R-Squared for test set: 0.488818641603\n",
      "\n",
      "\n",
      "l1 ratio: 0.95, alpha: 10\n",
      "----------------------------\n",
      "Training ElasticNet...\n",
      "Done!\n",
      "Training time (secs): 0.001\n",
      "RMSE for training set: 37.9601704601\n",
      "RMSE score for test set: 38.2229134999\n",
      "R-Squared for test set: 0.132550444903\n",
      "\n",
      "\n",
      "l1 ratio: 0.95, alpha: 100\n",
      "----------------------------\n",
      "Training ElasticNet...\n",
      "Done!\n",
      "Training time (secs): 0.001\n",
      "RMSE for training set: 40.5587960132\n",
      "RMSE score for test set: 41.0673062758\n",
      "R-Squared for test set: -0.00135734492425\n",
      "\n",
      "\n",
      "l1 ratio: 0.95, alpha: 1000\n",
      "----------------------------\n",
      "Training ElasticNet...\n",
      "Done!\n",
      "Training time (secs): 0.001\n",
      "RMSE for training set: 40.5587960132\n",
      "RMSE score for test set: 41.0673062758\n",
      "R-Squared for test set: -0.00135734492425\n",
      "\n",
      "\n",
      "l1 ratio: 0.99, alpha: 0.001\n",
      "----------------------------\n",
      "Training ElasticNet...\n",
      "Done!\n",
      "Training time (secs): 0.017\n",
      "RMSE for training set: 27.3323466114\n",
      "RMSE score for test set: 28.3650355125\n",
      "R-Squared for test set: 0.522291117441\n",
      "\n",
      "\n",
      "l1 ratio: 0.99, alpha: 0.01\n",
      "----------------------------\n",
      "Training ElasticNet...\n",
      "Done!\n",
      "Training time (secs): 0.010\n",
      "RMSE for training set: 27.3352650686\n",
      "RMSE score for test set: 28.352993665\n",
      "R-Squared for test set: 0.522696636162\n",
      "\n",
      "\n",
      "l1 ratio: 0.99, alpha: 0.1\n",
      "----------------------------\n",
      "Training ElasticNet...\n",
      "Done!\n",
      "Training time (secs): 0.005\n",
      "RMSE for training set: 27.5052999334\n",
      "RMSE score for test set: 28.3785126324\n",
      "R-Squared for test set: 0.52183706059\n",
      "\n",
      "\n",
      "l1 ratio: 0.99, alpha: 1.0\n",
      "----------------------------\n",
      "Training ElasticNet...\n",
      "Done!\n",
      "Training time (secs): 0.001\n",
      "RMSE for training set: 28.4522391647\n",
      "RMSE score for test set: 28.9706456104\n",
      "R-Squared for test set: 0.501674626979\n",
      "\n",
      "\n",
      "l1 ratio: 0.99, alpha: 0\n",
      "----------------------------\n",
      "Training ElasticNet...\n",
      "Done!\n",
      "Training time (secs): 0.030\n",
      "RMSE for training set: 27.3323151303\n",
      "RMSE score for test set: 28.3666468056\n",
      "R-Squared for test set: 0.522236842814\n",
      "\n",
      "\n",
      "l1 ratio: 0.99, alpha: 1\n",
      "----------------------------\n",
      "Training ElasticNet...\n",
      "Done!\n",
      "Training time (secs): 0.001\n",
      "RMSE for training set: 28.4522391647\n",
      "RMSE score for test set: 28.9706456104\n",
      "R-Squared for test set: 0.501674626979\n",
      "\n",
      "\n",
      "l1 ratio: 0.99, alpha: 10\n",
      "----------------------------\n",
      "Training ElasticNet...\n",
      "Done!\n",
      "Training time (secs): 0.001\n",
      "RMSE for training set: 36.9027753713\n",
      "RMSE score for test set: 37.0831756141\n",
      "R-Squared for test set: 0.183510716288\n",
      "\n",
      "\n",
      "l1 ratio: 0.99, alpha: 100\n",
      "----------------------------\n",
      "Training ElasticNet...\n",
      "Done!\n",
      "Training time (secs): 0.001\n",
      "RMSE for training set: 40.5587960132\n",
      "RMSE score for test set: 41.0673062758\n",
      "R-Squared for test set: -0.00135734492425\n",
      "\n",
      "\n",
      "l1 ratio: 0.99, alpha: 1000\n",
      "----------------------------\n",
      "Training ElasticNet...\n",
      "Done!\n",
      "Training time (secs): 0.001\n",
      "RMSE for training set: 40.5587960132\n",
      "RMSE score for test set: 41.0673062758\n",
      "R-Squared for test set: -0.00135734492425\n",
      "\n",
      "\n",
      "l1 ratio: 1, alpha: 0.001\n",
      "----------------------------\n",
      "Training ElasticNet...\n",
      "Done!\n",
      "Training time (secs): 0.013\n",
      "RMSE for training set: 27.3323277977\n",
      "RMSE score for test set: 28.3656524652\n",
      "R-Squared for test set: 0.522270336435\n",
      "\n",
      "\n",
      "l1 ratio: 1, alpha: 0.01\n",
      "----------------------------\n",
      "Training ElasticNet...\n",
      "Done!\n",
      "Training time (secs): 0.014\n",
      "RMSE for training set: 27.3335810189\n",
      "RMSE score for test set: 28.3576381886\n",
      "R-Squared for test set: 0.522540248564\n",
      "\n",
      "\n",
      "l1 ratio: 1, alpha: 0.1\n",
      "----------------------------\n",
      "Training ElasticNet...\n",
      "Done!\n",
      "Training time (secs): 0.008\n",
      "RMSE for training set: 27.4582697097\n",
      "RMSE score for test set: 28.3697502124\n",
      "R-Squared for test set: 0.522132299295\n",
      "\n",
      "\n",
      "l1 ratio: 1, alpha: 1.0\n",
      "----------------------------\n",
      "Training ElasticNet...\n",
      "Done!\n",
      "Training time (secs): 0.001\n",
      "RMSE for training set: 28.3009203644\n",
      "RMSE score for test set: 28.9302308841\n",
      "R-Squared for test set: 0.503064008226\n",
      "\n",
      "\n",
      "l1 ratio: 1, alpha: 0\n",
      "----------------------------\n",
      "Training ElasticNet...\n",
      "Done!\n",
      "Training time (secs): 0.030\n",
      "RMSE for training set: 27.3323151303\n",
      "RMSE score for test set: 28.3666468056\n",
      "R-Squared for test set: 0.522236842814\n",
      "\n",
      "\n",
      "l1 ratio: 1, alpha: 1\n",
      "----------------------------\n",
      "Training ElasticNet...\n",
      "Done!\n",
      "Training time (secs): 0.001\n",
      "RMSE for training set: 28.3009203644\n",
      "RMSE score for test set: 28.9302308841\n",
      "R-Squared for test set: 0.503064008226\n",
      "\n",
      "\n",
      "l1 ratio: 1, alpha: 10\n",
      "----------------------------\n",
      "Training ElasticNet...\n",
      "Done!\n",
      "Training time (secs): 0.001\n",
      "RMSE for training set: 36.27611552\n",
      "RMSE score for test set: 36.4277751519\n",
      "R-Squared for test set: 0.212116604458\n",
      "\n",
      "\n",
      "l1 ratio: 1, alpha: 100\n",
      "----------------------------\n",
      "Training ElasticNet...\n",
      "Done!\n",
      "Training time (secs): 0.001\n",
      "RMSE for training set: 40.5587960132\n",
      "RMSE score for test set: 41.0673062758\n",
      "R-Squared for test set: -0.00135734492425\n",
      "\n",
      "\n",
      "l1 ratio: 1, alpha: 1000\n",
      "----------------------------\n",
      "Training ElasticNet...\n",
      "Done!\n",
      "Training time (secs): 0.001\n",
      "RMSE for training set: 40.5587960132\n",
      "RMSE score for test set: 41.0673062758\n",
      "R-Squared for test set: -0.00135734492425\n",
      "\n",
      "\n"
     ]
    },
    {
     "name": "stderr",
     "output_type": "stream",
     "text": [
      "/Users/paulsingman/pyth/data-analysis/venv/lib/python2.7/site-packages/ipykernel/__main__.py:6: UserWarning: With alpha=0, this algorithm does not converge well. You are advised to use the LinearRegression estimator\n"
     ]
    }
   ],
   "source": [
    "for r in l1_ratios:\n",
    "    for a in alphas:\n",
    "        lr_elasticnet = ElasticNet(alpha=a, l1_ratio=r)\n",
    "        print \"l1 ratio: {}, alpha: {}\".format(r, a)\n",
    "        lr_elasticnet = regression_model(lr_elasticnet, X_train, X_test, y_train, y_test)\n",
    "        print\"\\n\"\n",
    "        "
   ]
  },
  {
   "cell_type": "markdown",
   "metadata": {},
   "source": [
    "### Best elasticnet model has l1 ratio .1 and alpha .01, let's initialize that like with the other models"
   ]
  },
  {
   "cell_type": "code",
   "execution_count": 54,
   "metadata": {
    "collapsed": true
   },
   "outputs": [],
   "source": [
    "lr_elasticnet = ElasticNet(alpha=0.01, l1_ratio=0.1)"
   ]
  },
  {
   "cell_type": "code",
   "execution_count": 55,
   "metadata": {
    "collapsed": false
   },
   "outputs": [
    {
     "name": "stdout",
     "output_type": "stream",
     "text": [
      "----------------------------\n",
      "Training ElasticNet...\n",
      "Done!\n",
      "Training time (secs): 0.005\n",
      "RMSE for training set: 27.5639573115\n",
      "RMSE score for test set: 28.319962361\n",
      "R-Squared for test set: 0.523808107426\n"
     ]
    }
   ],
   "source": [
    "lr_elasticnet = regression_model(lr_elasticnet, X_train, X_test, y_train, y_test)"
   ]
  },
  {
   "cell_type": "code",
   "execution_count": 56,
   "metadata": {
    "collapsed": false
   },
   "outputs": [
    {
     "data": {
      "text/plain": [
       "[('Star_Rating', 3.8530966286643555),\n",
       " ('Has_Star_Rating', -15.997935290014611),\n",
       " ('Bedrooms', 5.093191809119257),\n",
       " ('Room_Type', 40.415624426534364),\n",
       " ('Capacity', 7.0028781830176055),\n",
       " ('Review_Count', 0.019703645053542104),\n",
       " ('City_NY', 18.618463764955894),\n",
       " ('City_SF', 36.272500323206366),\n",
       " ('City_DA', -4.058969584112937),\n",
       " ('City_DC', 6.0153769168714257),\n",
       " ('City_LA', 2.377869765043374)]"
      ]
     },
     "execution_count": 56,
     "metadata": {},
     "output_type": "execute_result"
    }
   ],
   "source": [
    "zip(regression_features,lr_elasticnet.coef_)"
   ]
  },
  {
   "cell_type": "markdown",
   "metadata": {},
   "source": [
    "### Let's take a look at the plot of predictions vs actual"
   ]
  },
  {
   "cell_type": "code",
   "execution_count": 57,
   "metadata": {
    "collapsed": true
   },
   "outputs": [],
   "source": [
    "predictions = lr_elasticnet.predict(X_test)"
   ]
  },
  {
   "cell_type": "code",
   "execution_count": 71,
   "metadata": {
    "collapsed": false
   },
   "outputs": [
    {
     "data": {
      "text/plain": [
       "<matplotlib.text.Text at 0x10c70db50>"
      ]
     },
     "execution_count": 71,
     "metadata": {},
     "output_type": "execute_result"
    },
    {
     "data": {
      "image/png": "[encoded data removed]",
      "text/plain": [
       "<matplotlib.figure.Figure at 0x10c9ce350>"
      ]
     },
     "metadata": {},
     "output_type": "display_data"
    }
   ],
   "source": [
    "plt.scatter(predictions, y_test)\n",
    "plt.xlim(0,285)\n",
    "plt.ylim(0,285)\n",
    "plt.title('Optimized ElasticNet Predictions vs Truth')\n",
    "plt.xlabel('Predictions')\n",
    "plt.ylabel('Truth')"
   ]
  },
  {
   "cell_type": "markdown",
   "metadata": {},
   "source": [
    "### Let's take a look at residuals"
   ]
  },
  {
   "cell_type": "code",
   "execution_count": 79,
   "metadata": {
    "collapsed": false
   },
   "outputs": [],
   "source": [
    "residual_df = pd.DataFrame(data={'predictions':predictions,'y_test':y_test})"
   ]
  },
  {
   "cell_type": "code",
   "execution_count": 83,
   "metadata": {
    "collapsed": false
   },
   "outputs": [],
   "source": [
    "sorted_residual_df = residual_df.sort('y_test', axis=0)"
   ]
  },
  {
   "cell_type": "code",
   "execution_count": 86,
   "metadata": {
    "collapsed": false
   },
   "outputs": [],
   "source": [
    "sorted_residual_df['residuals'] = sorted_residual_df.predictions - sorted_residual_df.y_test"
   ]
  },
  {
   "cell_type": "code",
   "execution_count": 89,
   "metadata": {
    "collapsed": false
   },
   "outputs": [
    {
     "data": {
      "text/plain": [
       "(-5, 300)"
      ]
     },
     "execution_count": 89,
     "metadata": {},
     "output_type": "execute_result"
    },
    {
     "data": {
      "image/png": "[encoded data removed]",
      "text/plain": [
       "<matplotlib.figure.Figure at 0x10ccadf10>"
      ]
     },
     "metadata": {},
     "output_type": "display_data"
    }
   ],
   "source": [
    "residuals = y_test - predictions\n",
    "plt.scatter(sorted_residual_df.y_test,sorted_residual_df.residuals)\n",
    "plt.axhline(ls='--', linewidth=3, color='r')\n",
    "plt.title('Elasticnet Regression Residuals')\n",
    "plt.xlabel('True Price')\n",
    "plt.ylabel('Diff in Price')\n",
    "plt.xlim(-5,300)"
   ]
  },
  {
   "cell_type": "markdown",
   "metadata": {},
   "source": [
    "### The residuals show the mode is underpredicting high priced properties"
   ]
  },
  {
   "cell_type": "code",
   "execution_count": null,
   "metadata": {
    "collapsed": true
   },
   "outputs": [],
   "source": [
    "high_price_mask = df_all.Price>240\n",
    "high_price_df = df_all[high_price_mask]"
   ]
  },
  {
   "cell_type": "code",
   "execution_count": 60,
   "metadata": {
    "collapsed": false
   },
   "outputs": [
    {
     "data": {
      "text/html": [
       "<div>\n",
       "<table border=\"1\" class=\"dataframe\">\n",
       "  <thead>\n",
       "    <tr style=\"text-align: right;\">\n",
       "      <th></th>\n",
       "      <th>Bedrooms</th>\n",
       "      <th>Capacity</th>\n",
       "      <th>Price</th>\n",
       "      <th>Review_Count</th>\n",
       "      <th>Room_Type</th>\n",
       "      <th>Star_Rating</th>\n",
       "      <th>Avg_Price</th>\n",
       "      <th>Has_Star_Rating</th>\n",
       "      <th>City_DA</th>\n",
       "      <th>City_DC</th>\n",
       "      <th>City_LA</th>\n",
       "      <th>City_NY</th>\n",
       "      <th>City_SF</th>\n",
       "    </tr>\n",
       "  </thead>\n",
       "  <tbody>\n",
       "    <tr>\n",
       "      <th>3</th>\n",
       "      <td>1</td>\n",
       "      <td>4</td>\n",
       "      <td>250</td>\n",
       "      <td>9</td>\n",
       "      <td>2</td>\n",
       "      <td>4.5</td>\n",
       "      <td>92.918301</td>\n",
       "      <td>1</td>\n",
       "      <td>0</td>\n",
       "      <td>0</td>\n",
       "      <td>0</td>\n",
       "      <td>1</td>\n",
       "      <td>0</td>\n",
       "    </tr>\n",
       "    <tr>\n",
       "      <th>13</th>\n",
       "      <td>1</td>\n",
       "      <td>2</td>\n",
       "      <td>275</td>\n",
       "      <td>1</td>\n",
       "      <td>2</td>\n",
       "      <td>0.0</td>\n",
       "      <td>92.918301</td>\n",
       "      <td>0</td>\n",
       "      <td>0</td>\n",
       "      <td>0</td>\n",
       "      <td>0</td>\n",
       "      <td>1</td>\n",
       "      <td>0</td>\n",
       "    </tr>\n",
       "    <tr>\n",
       "      <th>3</th>\n",
       "      <td>0</td>\n",
       "      <td>2</td>\n",
       "      <td>250</td>\n",
       "      <td>7</td>\n",
       "      <td>2</td>\n",
       "      <td>5.0</td>\n",
       "      <td>77.042484</td>\n",
       "      <td>1</td>\n",
       "      <td>0</td>\n",
       "      <td>0</td>\n",
       "      <td>1</td>\n",
       "      <td>0</td>\n",
       "      <td>0</td>\n",
       "    </tr>\n",
       "    <tr>\n",
       "      <th>11</th>\n",
       "      <td>2</td>\n",
       "      <td>4</td>\n",
       "      <td>285</td>\n",
       "      <td>56</td>\n",
       "      <td>2</td>\n",
       "      <td>5.0</td>\n",
       "      <td>114.284314</td>\n",
       "      <td>1</td>\n",
       "      <td>0</td>\n",
       "      <td>0</td>\n",
       "      <td>0</td>\n",
       "      <td>0</td>\n",
       "      <td>1</td>\n",
       "    </tr>\n",
       "    <tr>\n",
       "      <th>11</th>\n",
       "      <td>1</td>\n",
       "      <td>2</td>\n",
       "      <td>250</td>\n",
       "      <td>3</td>\n",
       "      <td>2</td>\n",
       "      <td>4.5</td>\n",
       "      <td>114.284314</td>\n",
       "      <td>1</td>\n",
       "      <td>0</td>\n",
       "      <td>0</td>\n",
       "      <td>0</td>\n",
       "      <td>0</td>\n",
       "      <td>1</td>\n",
       "    </tr>\n",
       "  </tbody>\n",
       "</table>\n",
       "</div>"
      ],
      "text/plain": [
       "    Bedrooms  Capacity  Price  Review_Count  Room_Type  Star_Rating  \\\n",
       "3          1         4    250             9          2          4.5   \n",
       "13         1         2    275             1          2          0.0   \n",
       "3          0         2    250             7          2          5.0   \n",
       "11         2         4    285            56          2          5.0   \n",
       "11         1         2    250             3          2          4.5   \n",
       "\n",
       "     Avg_Price  Has_Star_Rating  City_DA  City_DC  City_LA  City_NY  City_SF  \n",
       "3    92.918301                1        0        0        0        1        0  \n",
       "13   92.918301                0        0        0        0        1        0  \n",
       "3    77.042484                1        0        0        1        0        0  \n",
       "11  114.284314                1        0        0        0        0        1  \n",
       "11  114.284314                1        0        0        0        0        1  "
      ]
     },
     "execution_count": 60,
     "metadata": {},
     "output_type": "execute_result"
    }
   ],
   "source": [
    "high_price_df.head()"
   ]
  },
  {
   "cell_type": "markdown",
   "metadata": {},
   "source": [
    "### Understandable why we are underpredicting these higher Price properties, there's nothing in my features to capture them."
   ]
  },
  {
   "cell_type": "markdown",
   "metadata": {},
   "source": [
    "### Let's make a layman's metric (also for my curiosity) do percent of predictions within 20 dollars."
   ]
  },
  {
   "cell_type": "code",
   "execution_count": 69,
   "metadata": {
    "collapsed": true
   },
   "outputs": [],
   "source": [
    "good = 0\n",
    "for p, y in zip(predictions, y_test):\n",
    "    if np.abs(p - y) < 20:\n",
    "        good += 1"
   ]
  },
  {
   "cell_type": "code",
   "execution_count": 70,
   "metadata": {
    "collapsed": false
   },
   "outputs": [
    {
     "data": {
      "text/plain": [
       "0.5446623093681917"
      ]
     },
     "execution_count": 70,
     "metadata": {},
     "output_type": "execute_result"
    }
   ],
   "source": [
    "from __future__ import division\n",
    "within20 = float(good/len(y_test))\n",
    "within20"
   ]
  },
  {
   "cell_type": "markdown",
   "metadata": {},
   "source": [
    "### Not amazing, but 54% of listing predictions are within 20 dollars"
   ]
  }
 ],
 "metadata": {
  "kernelspec": {
   "display_name": "Python 2",
   "language": "python",
   "name": "python2"
  },
  "language_info": {
   "codemirror_mode": {
    "name": "ipython",
    "version": 2
   },
   "file_extension": ".py",
   "mimetype": "text/x-python",
   "name": "python",
   "nbconvert_exporter": "python",
   "pygments_lexer": "ipython2",
   "version": "2.7.10"
  }
 },
 "nbformat": 4,
 "nbformat_minor": 0
}
