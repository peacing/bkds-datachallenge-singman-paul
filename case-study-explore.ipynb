{
 "cells": [
  {
   "cell_type": "markdown",
   "metadata": {},
   "source": [
    "# bkds case study - exploratory data mining"
   ]
  },
  {
   "cell_type": "code",
   "execution_count": 1,
   "metadata": {
    "collapsed": true
   },
   "outputs": [],
   "source": [
    "#imports\n",
    "import pandas as pd"
   ]
  },
  {
   "cell_type": "code",
   "execution_count": 3,
   "metadata": {
    "collapsed": true
   },
   "outputs": [],
   "source": [
    "# load in the data sets\n",
    "def load_df(df_file):\n",
    "    basepath = 'data/'\n",
    "    filepath = basepath + df_file\n",
    "    load_df = pd.DataFrame.from_csv(filepath)\n",
    "    return load_df"
   ]
  },
  {
   "cell_type": "code",
   "execution_count": 4,
   "metadata": {
    "collapsed": false
   },
   "outputs": [],
   "source": [
    "ny_df = load_df('NY_df.csv')"
   ]
  },
  {
   "cell_type": "code",
   "execution_count": 5,
   "metadata": {
    "collapsed": false
   },
   "outputs": [
    {
     "data": {
      "text/html": [
       "<div>\n",
       "<table border=\"1\" class=\"dataframe\">\n",
       "  <thead>\n",
       "    <tr style=\"text-align: right;\">\n",
       "      <th></th>\n",
       "      <th>Bedrooms</th>\n",
       "      <th>Capacity</th>\n",
       "      <th>Id</th>\n",
       "      <th>Price</th>\n",
       "      <th>Property_Type</th>\n",
       "      <th>Review_Count</th>\n",
       "      <th>Room_Type</th>\n",
       "      <th>Star_Rating</th>\n",
       "    </tr>\n",
       "  </thead>\n",
       "  <tbody>\n",
       "    <tr>\n",
       "      <th>0</th>\n",
       "      <td>1</td>\n",
       "      <td>2</td>\n",
       "      <td>6882689</td>\n",
       "      <td>198</td>\n",
       "      <td>Apartment</td>\n",
       "      <td>17</td>\n",
       "      <td>Entire home/apt</td>\n",
       "      <td>5</td>\n",
       "    </tr>\n",
       "    <tr>\n",
       "      <th>1</th>\n",
       "      <td>2</td>\n",
       "      <td>7</td>\n",
       "      <td>12022627</td>\n",
       "      <td>2200</td>\n",
       "      <td>Apartment</td>\n",
       "      <td>0</td>\n",
       "      <td>Entire home/apt</td>\n",
       "      <td>0</td>\n",
       "    </tr>\n",
       "    <tr>\n",
       "      <th>2</th>\n",
       "      <td>1</td>\n",
       "      <td>2</td>\n",
       "      <td>8940740</td>\n",
       "      <td>149</td>\n",
       "      <td>Apartment</td>\n",
       "      <td>6</td>\n",
       "      <td>Entire home/apt</td>\n",
       "      <td>5</td>\n",
       "    </tr>\n",
       "    <tr>\n",
       "      <th>3</th>\n",
       "      <td>1</td>\n",
       "      <td>4</td>\n",
       "      <td>12035970</td>\n",
       "      <td>55</td>\n",
       "      <td>Apartment</td>\n",
       "      <td>0</td>\n",
       "      <td>Entire home/apt</td>\n",
       "      <td>0</td>\n",
       "    </tr>\n",
       "    <tr>\n",
       "      <th>4</th>\n",
       "      <td>1</td>\n",
       "      <td>2</td>\n",
       "      <td>11642165</td>\n",
       "      <td>65</td>\n",
       "      <td>Apartment</td>\n",
       "      <td>3</td>\n",
       "      <td>Private room</td>\n",
       "      <td>5</td>\n",
       "    </tr>\n",
       "  </tbody>\n",
       "</table>\n",
       "</div>"
      ],
      "text/plain": [
       "   Bedrooms  Capacity        Id  Price Property_Type  Review_Count  \\\n",
       "0         1         2   6882689    198     Apartment            17   \n",
       "1         2         7  12022627   2200     Apartment             0   \n",
       "2         1         2   8940740    149     Apartment             6   \n",
       "3         1         4  12035970     55     Apartment             0   \n",
       "4         1         2  11642165     65     Apartment             3   \n",
       "\n",
       "         Room_Type  Star_Rating  \n",
       "0  Entire home/apt            5  \n",
       "1  Entire home/apt            0  \n",
       "2  Entire home/apt            5  \n",
       "3  Entire home/apt            0  \n",
       "4     Private room            5  "
      ]
     },
     "execution_count": 5,
     "metadata": {},
     "output_type": "execute_result"
    }
   ],
   "source": [
    "ny_df.head()"
   ]
  },
  {
   "cell_type": "code",
   "execution_count": 6,
   "metadata": {
    "collapsed": false
   },
   "outputs": [
    {
     "data": {
      "text/html": [
       "<div>\n",
       "<table border=\"1\" class=\"dataframe\">\n",
       "  <thead>\n",
       "    <tr style=\"text-align: right;\">\n",
       "      <th></th>\n",
       "      <th>Bedrooms</th>\n",
       "      <th>Capacity</th>\n",
       "      <th>Id</th>\n",
       "      <th>Price</th>\n",
       "      <th>Review_Count</th>\n",
       "      <th>Star_Rating</th>\n",
       "    </tr>\n",
       "  </thead>\n",
       "  <tbody>\n",
       "    <tr>\n",
       "      <th>count</th>\n",
       "      <td>306.000000</td>\n",
       "      <td>306.000000</td>\n",
       "      <td>306.000000</td>\n",
       "      <td>306.000000</td>\n",
       "      <td>306.000000</td>\n",
       "      <td>306.000000</td>\n",
       "    </tr>\n",
       "    <tr>\n",
       "      <th>mean</th>\n",
       "      <td>0.869281</td>\n",
       "      <td>2.218954</td>\n",
       "      <td>8085420.986928</td>\n",
       "      <td>104.428105</td>\n",
       "      <td>14.601307</td>\n",
       "      <td>3.485294</td>\n",
       "    </tr>\n",
       "    <tr>\n",
       "      <th>std</th>\n",
       "      <td>0.460830</td>\n",
       "      <td>1.056332</td>\n",
       "      <td>3408041.616683</td>\n",
       "      <td>129.893511</td>\n",
       "      <td>24.689904</td>\n",
       "      <td>2.142607</td>\n",
       "    </tr>\n",
       "    <tr>\n",
       "      <th>min</th>\n",
       "      <td>0.000000</td>\n",
       "      <td>1.000000</td>\n",
       "      <td>3831.000000</td>\n",
       "      <td>20.000000</td>\n",
       "      <td>0.000000</td>\n",
       "      <td>0.000000</td>\n",
       "    </tr>\n",
       "    <tr>\n",
       "      <th>25%</th>\n",
       "      <td>1.000000</td>\n",
       "      <td>2.000000</td>\n",
       "      <td>5606435.250000</td>\n",
       "      <td>61.250000</td>\n",
       "      <td>2.000000</td>\n",
       "      <td>0.000000</td>\n",
       "    </tr>\n",
       "    <tr>\n",
       "      <th>50%</th>\n",
       "      <td>1.000000</td>\n",
       "      <td>2.000000</td>\n",
       "      <td>9070885.500000</td>\n",
       "      <td>90.000000</td>\n",
       "      <td>5.000000</td>\n",
       "      <td>4.500000</td>\n",
       "    </tr>\n",
       "    <tr>\n",
       "      <th>75%</th>\n",
       "      <td>1.000000</td>\n",
       "      <td>2.000000</td>\n",
       "      <td>10886453.000000</td>\n",
       "      <td>119.000000</td>\n",
       "      <td>15.000000</td>\n",
       "      <td>5.000000</td>\n",
       "    </tr>\n",
       "    <tr>\n",
       "      <th>max</th>\n",
       "      <td>3.000000</td>\n",
       "      <td>8.000000</td>\n",
       "      <td>12136198.000000</td>\n",
       "      <td>2200.000000</td>\n",
       "      <td>180.000000</td>\n",
       "      <td>5.000000</td>\n",
       "    </tr>\n",
       "  </tbody>\n",
       "</table>\n",
       "</div>"
      ],
      "text/plain": [
       "         Bedrooms    Capacity               Id        Price  Review_Count  \\\n",
       "count  306.000000  306.000000       306.000000   306.000000    306.000000   \n",
       "mean     0.869281    2.218954   8085420.986928   104.428105     14.601307   \n",
       "std      0.460830    1.056332   3408041.616683   129.893511     24.689904   \n",
       "min      0.000000    1.000000      3831.000000    20.000000      0.000000   \n",
       "25%      1.000000    2.000000   5606435.250000    61.250000      2.000000   \n",
       "50%      1.000000    2.000000   9070885.500000    90.000000      5.000000   \n",
       "75%      1.000000    2.000000  10886453.000000   119.000000     15.000000   \n",
       "max      3.000000    8.000000  12136198.000000  2200.000000    180.000000   \n",
       "\n",
       "       Star_Rating  \n",
       "count   306.000000  \n",
       "mean      3.485294  \n",
       "std       2.142607  \n",
       "min       0.000000  \n",
       "25%       0.000000  \n",
       "50%       4.500000  \n",
       "75%       5.000000  \n",
       "max       5.000000  "
      ]
     },
     "execution_count": 6,
     "metadata": {},
     "output_type": "execute_result"
    }
   ],
   "source": [
    "# summary stats on some of the variables\n",
    "ny_df.describe()"
   ]
  },
  {
   "cell_type": "code",
   "execution_count": null,
   "metadata": {
    "collapsed": true
   },
   "outputs": [],
   "source": [
    "# encode Property Type to "
   ]
  },
  {
   "cell_type": "code",
   "execution_count": 12,
   "metadata": {
    "collapsed": false
   },
   "outputs": [
    {
     "data": {
      "text/html": [
       "<div>\n",
       "<table border=\"1\" class=\"dataframe\">\n",
       "  <thead>\n",
       "    <tr style=\"text-align: right;\">\n",
       "      <th></th>\n",
       "      <th>Bedrooms</th>\n",
       "      <th>Capacity</th>\n",
       "      <th>Price</th>\n",
       "      <th>Review_Count</th>\n",
       "      <th>Star_Rating</th>\n",
       "    </tr>\n",
       "  </thead>\n",
       "  <tbody>\n",
       "    <tr>\n",
       "      <th>Bedrooms</th>\n",
       "      <td>1.000000</td>\n",
       "      <td>0.207166</td>\n",
       "      <td>0.089616</td>\n",
       "      <td>0.032866</td>\n",
       "      <td>-0.063384</td>\n",
       "    </tr>\n",
       "    <tr>\n",
       "      <th>Capacity</th>\n",
       "      <td>0.207166</td>\n",
       "      <td>1.000000</td>\n",
       "      <td>0.423576</td>\n",
       "      <td>-0.113807</td>\n",
       "      <td>-0.110841</td>\n",
       "    </tr>\n",
       "    <tr>\n",
       "      <th>Price</th>\n",
       "      <td>0.089616</td>\n",
       "      <td>0.423576</td>\n",
       "      <td>1.000000</td>\n",
       "      <td>-0.060766</td>\n",
       "      <td>-0.095937</td>\n",
       "    </tr>\n",
       "    <tr>\n",
       "      <th>Review_Count</th>\n",
       "      <td>0.032866</td>\n",
       "      <td>-0.113807</td>\n",
       "      <td>-0.060766</td>\n",
       "      <td>1.000000</td>\n",
       "      <td>0.321183</td>\n",
       "    </tr>\n",
       "    <tr>\n",
       "      <th>Star_Rating</th>\n",
       "      <td>-0.063384</td>\n",
       "      <td>-0.110841</td>\n",
       "      <td>-0.095937</td>\n",
       "      <td>0.321183</td>\n",
       "      <td>1.000000</td>\n",
       "    </tr>\n",
       "  </tbody>\n",
       "</table>\n",
       "</div>"
      ],
      "text/plain": [
       "              Bedrooms  Capacity     Price  Review_Count  Star_Rating\n",
       "Bedrooms      1.000000  0.207166  0.089616      0.032866    -0.063384\n",
       "Capacity      0.207166  1.000000  0.423576     -0.113807    -0.110841\n",
       "Price         0.089616  0.423576  1.000000     -0.060766    -0.095937\n",
       "Review_Count  0.032866 -0.113807 -0.060766      1.000000     0.321183\n",
       "Star_Rating  -0.063384 -0.110841 -0.095937      0.321183     1.000000"
      ]
     },
     "execution_count": 12,
     "metadata": {},
     "output_type": "execute_result"
    }
   ],
   "source": [
    "# check collinearity of feature variables\n",
    "\n",
    "ny_df[['Bedrooms', 'Capacity', 'Price','Review_Count','Star_Rating']].corr()"
   ]
  },
  {
   "cell_type": "code",
   "execution_count": 8,
   "metadata": {
    "collapsed": true
   },
   "outputs": [],
   "source": [
    "# in plot form:\n",
    "import matplotlib.pyplot as plt\n",
    "%matplotlib inline"
   ]
  },
  {
   "cell_type": "code",
   "execution_count": 16,
   "metadata": {
    "collapsed": true
   },
   "outputs": [],
   "source": [
    "def plot_corr(df,cols,size=7.5):\n",
    "    '''Function plots a graphical correlation matrix for each pair of columns in the dataframe.\n",
    "\n",
    "    Input:\n",
    "        df: pandas DataFrame\n",
    "        size: vertical and horizontal size of the plot'''\n",
    "\n",
    "    corr_df = df[cols]\n",
    "    corr = corr_df.corr()\n",
    "    fig, ax = plt.subplots(figsize=(size, size))\n",
    "    ax.matshow(corr)\n",
    "    plt.xticks(range(len(corr.columns)), corr.columns);\n",
    "    plt.yticks(range(len(corr.columns)), corr.columns);"
   ]
  },
  {
   "cell_type": "code",
   "execution_count": 17,
   "metadata": {
    "collapsed": false
   },
   "outputs": [
    {
     "data": {
      "image/png": "[encoded data removed]",
      "text/plain": [
       "<matplotlib.figure.Figure at 0x10e803bd0>"
      ]
     },
     "metadata": {},
     "output_type": "display_data"
    }
   ],
   "source": [
    "cols = ['Bedrooms', 'Capacity', 'Price','Review_Count','Star_Rating']\n",
    "plot_corr(ny_df, cols)"
   ]
  },
  {
   "cell_type": "markdown",
   "metadata": {},
   "source": [
    "### Colinearity of the feature variables\n",
    "\n",
    "None of the feature variables are alarmingly correlated. Star_Rating and Review_Count are the most colinear. Note that Capacity correlates the most to Price, so I expect it to be an important feature in the model. "
   ]
  },
  {
   "cell_type": "markdown",
   "metadata": {},
   "source": [
    "## Use PCA and K Means to cluster the data points"
   ]
  },
  {
   "cell_type": "code",
   "execution_count": null,
   "metadata": {
    "collapsed": true
   },
   "outputs": [],
   "source": [
    "from sklearn.decomposition import PCA\n",
    "pca = PCA(n_components=6)\n",
    "pca.fit(data)"
   ]
  }
 ],
 "metadata": {
  "kernelspec": {
   "display_name": "Python 2",
   "language": "python",
   "name": "python2"
  },
  "language_info": {
   "codemirror_mode": {
    "name": "ipython",
    "version": 2
   },
   "file_extension": ".py",
   "mimetype": "text/x-python",
   "name": "python",
   "nbconvert_exporter": "python",
   "pygments_lexer": "ipython2",
   "version": "2.7.10"
  }
 },
 "nbformat": 4,
 "nbformat_minor": 0
}
